{
 "cells": [
  {
   "cell_type": "markdown",
   "id": "6275f8ad",
   "metadata": {},
   "source": [
    "## Draft of Text Extraction"
   ]
  },
  {
   "cell_type": "markdown",
   "id": "6061a728",
   "metadata": {},
   "source": [
    "### PDF file to String\n",
    "\n",
    "**For the PDF to string converting you need:**  \n",
    "\n",
    "`pip install PyPDF2` "
   ]
  },
  {
   "cell_type": "code",
   "execution_count": 1,
   "id": "441f39f1",
   "metadata": {},
   "outputs": [],
   "source": [
    "import PyPDF2\n",
    "\n",
    "# define a function to get string of the PDF article\n",
    "def pdf_to_string(filepath):\n",
    "    text = \"\"\n",
    "    with open(filepath, \"rb\") as file:\n",
    "        pdf_reader = PyPDF2.PdfReader(file)\n",
    "        \n",
    "        # loop to read each page\n",
    "        for page_num in range(len(pdf_reader.pages)):\n",
    "            text += pdf_reader.pages[page_num].extract_text()\n",
    "    return text\n",
    "\n",
    "# Usage\n",
    "pdf_text = pdf_to_string(\"testFile.pdf\")"
   ]
  },
  {
   "cell_type": "code",
   "execution_count": 2,
   "id": "17ead176",
   "metadata": {},
   "outputs": [],
   "source": [
    "# pip install transformers torch"
   ]
  },
  {
   "cell_type": "code",
   "execution_count": 3,
   "id": "20da70ed",
   "metadata": {},
   "outputs": [
    {
     "data": {
      "application/vnd.jupyter.widget-view+json": {
       "model_id": "04b82df9b84b4cec98939eef726fd9f2",
       "version_major": 2,
       "version_minor": 0
      },
      "text/plain": [
       "Downloading:   0%|          | 0.00/1.40k [00:00<?, ?B/s]"
      ]
     },
     "metadata": {},
     "output_type": "display_data"
    },
    {
     "data": {
      "application/vnd.jupyter.widget-view+json": {
       "model_id": "cbc6ac7a39cd4b90adcf2f91bbab7b2a",
       "version_major": 2,
       "version_minor": 0
      },
      "text/plain": [
       "Downloading:   0%|          | 0.00/308M [00:00<?, ?B/s]"
      ]
     },
     "metadata": {},
     "output_type": "display_data"
    },
    {
     "data": {
      "application/vnd.jupyter.widget-view+json": {
       "model_id": "2691b3c6c9954945948b3a316ea73b33",
       "version_major": 2,
       "version_minor": 0
      },
      "text/plain": [
       "Downloading:   0%|          | 0.00/2.54k [00:00<?, ?B/s]"
      ]
     },
     "metadata": {},
     "output_type": "display_data"
    },
    {
     "data": {
      "application/vnd.jupyter.widget-view+json": {
       "model_id": "5157463ba29646eabe635c3776120213",
       "version_major": 2,
       "version_minor": 0
      },
      "text/plain": [
       "Downloading:   0%|          | 0.00/792k [00:00<?, ?B/s]"
      ]
     },
     "metadata": {},
     "output_type": "display_data"
    },
    {
     "data": {
      "application/vnd.jupyter.widget-view+json": {
       "model_id": "92af871e597f486981b2fe3fbeec9e1e",
       "version_major": 2,
       "version_minor": 0
      },
      "text/plain": [
       "Downloading:   0%|          | 0.00/2.42M [00:00<?, ?B/s]"
      ]
     },
     "metadata": {},
     "output_type": "display_data"
    },
    {
     "data": {
      "application/vnd.jupyter.widget-view+json": {
       "model_id": "67d643ddc6a546b790751bef90fed38c",
       "version_major": 2,
       "version_minor": 0
      },
      "text/plain": [
       "Downloading:   0%|          | 0.00/2.20k [00:00<?, ?B/s]"
      ]
     },
     "metadata": {},
     "output_type": "display_data"
    },
    {
     "name": "stdout",
     "output_type": "stream",
     "text": [
      "  What is the publication date of this paper?  \\\n",
      "0                          September 13, 2017   \n",
      "\n",
      "  Which journal was this paper published in?  \\\n",
      "0                        journal of medicine   \n",
      "\n",
      "  What is the control efficiency mentioned in the paper?  \\\n",
      "0  The control efficiency mentioned in the paper ...       \n",
      "\n",
      "  What is the treatment efficiency, and how much improvement did it provide?  \\\n",
      "0  The treatment efficiency was a little higher t...                           \n",
      "\n",
      "       What is the VOC (Open Circuit Voltage) value?  \\\n",
      "0  VOC (Open Circuit Voltage) is the value of a c...   \n",
      "\n",
      "  How many hours of stability does the paper report?  \\\n",
      "0            The paper reports a total of 365 hours.   \n",
      "\n",
      "             What are the stability test conditions?  \\\n",
      "0  The stability test is a test for the ability t...   \n",
      "\n",
      "  What is the stabilized power output or SPO efficiency?  \\\n",
      "0  The SPO efficiency is the most efficient power...       \n",
      "\n",
      "  What is the perovskite composition used in the study?  \\\n",
      "0   The perovskite composition is used in the study.      \n",
      "\n",
      "                 Is the structure PIN or NIP?  \\\n",
      "0  NIP is a symbiotic structure that is a sym   \n",
      "\n",
      "  What is the molecule type (e.g., quasi-2D, passivation, etc.)?  \\\n",
      "0   molecule type (e.g., quasi-2D, passivation, etc.               \n",
      "\n",
      "  What is the concentration of the molecule mentioned?  \n",
      "0  Concentration of the molecule mentioned is the...    \n"
     ]
    }
   ],
   "source": [
    "from transformers import pipeline\n",
    "import pandas as pd\n",
    "\n",
    "# Load the model and pipeline (using a conversational model for zero-shot Q&A)\n",
    "qa_pipeline = pipeline(\"text2text-generation\", model=\"google/flan-t5-small\")\n",
    "\n",
    "# Define the article text\n",
    "text = '''Your long article text goes here'''\n",
    "\n",
    "# Define prompts\n",
    "prompts = [\n",
    "    \"What is the publication date of this paper?\",\n",
    "    \"Which journal was this paper published in?\",\n",
    "    \"What is the control efficiency mentioned in the paper?\",\n",
    "    \"What is the treatment efficiency, and how much improvement did it provide?\",\n",
    "    \"What is the VOC (Open Circuit Voltage) value?\",\n",
    "    \"How many hours of stability does the paper report?\",\n",
    "    \"What are the stability test conditions?\",\n",
    "    \"What is the stabilized power output or SPO efficiency?\",\n",
    "    \"What is the perovskite composition used in the study?\",\n",
    "    \"Is the structure PIN or NIP?\",\n",
    "    \"What is the molecule type (e.g., quasi-2D, passivation, etc.)?\",\n",
    "    \"What is the concentration of the molecule mentioned?\"\n",
    "]\n",
    "\n",
    "# Define function to extract each piece of information\n",
    "def extract_info(prompts, text):\n",
    "    results = {}\n",
    "    for prompt in prompts:\n",
    "        # Query the model with each prompt and the text\n",
    "        response = qa_pipeline(f\"{prompt}\\n\\n{text}\")\n",
    "        results[prompt] = response[0]['generated_text']\n",
    "    return results\n",
    "\n",
    "# Extract information and create a DataFrame\n",
    "data = extract_info(prompts, text)\n",
    "df = pd.DataFrame([data])"
   ]
  },
  {
   "cell_type": "code",
   "execution_count": 4,
   "id": "59ed95bf",
   "metadata": {},
   "outputs": [
    {
     "data": {
      "text/html": [
       "<div>\n",
       "<style scoped>\n",
       "    .dataframe tbody tr th:only-of-type {\n",
       "        vertical-align: middle;\n",
       "    }\n",
       "\n",
       "    .dataframe tbody tr th {\n",
       "        vertical-align: top;\n",
       "    }\n",
       "\n",
       "    .dataframe thead th {\n",
       "        text-align: right;\n",
       "    }\n",
       "</style>\n",
       "<table border=\"1\" class=\"dataframe\">\n",
       "  <thead>\n",
       "    <tr style=\"text-align: right;\">\n",
       "      <th></th>\n",
       "      <th>What is the publication date of this paper?</th>\n",
       "      <th>Which journal was this paper published in?</th>\n",
       "      <th>What is the control efficiency mentioned in the paper?</th>\n",
       "      <th>What is the treatment efficiency, and how much improvement did it provide?</th>\n",
       "      <th>What is the VOC (Open Circuit Voltage) value?</th>\n",
       "      <th>How many hours of stability does the paper report?</th>\n",
       "      <th>What are the stability test conditions?</th>\n",
       "      <th>What is the stabilized power output or SPO efficiency?</th>\n",
       "      <th>What is the perovskite composition used in the study?</th>\n",
       "      <th>Is the structure PIN or NIP?</th>\n",
       "      <th>What is the molecule type (e.g., quasi-2D, passivation, etc.)?</th>\n",
       "      <th>What is the concentration of the molecule mentioned?</th>\n",
       "    </tr>\n",
       "  </thead>\n",
       "  <tbody>\n",
       "    <tr>\n",
       "      <th>0</th>\n",
       "      <td>September 13, 2017</td>\n",
       "      <td>journal of medicine</td>\n",
       "      <td>The control efficiency mentioned in the paper ...</td>\n",
       "      <td>The treatment efficiency was a little higher t...</td>\n",
       "      <td>VOC (Open Circuit Voltage) is the value of a c...</td>\n",
       "      <td>The paper reports a total of 365 hours.</td>\n",
       "      <td>The stability test is a test for the ability t...</td>\n",
       "      <td>The SPO efficiency is the most efficient power...</td>\n",
       "      <td>The perovskite composition is used in the study.</td>\n",
       "      <td>NIP is a symbiotic structure that is a sym</td>\n",
       "      <td>molecule type (e.g., quasi-2D, passivation, etc.</td>\n",
       "      <td>Concentration of the molecule mentioned is the...</td>\n",
       "    </tr>\n",
       "  </tbody>\n",
       "</table>\n",
       "</div>"
      ],
      "text/plain": [
       "  What is the publication date of this paper?  \\\n",
       "0                          September 13, 2017   \n",
       "\n",
       "  Which journal was this paper published in?  \\\n",
       "0                        journal of medicine   \n",
       "\n",
       "  What is the control efficiency mentioned in the paper?  \\\n",
       "0  The control efficiency mentioned in the paper ...       \n",
       "\n",
       "  What is the treatment efficiency, and how much improvement did it provide?  \\\n",
       "0  The treatment efficiency was a little higher t...                           \n",
       "\n",
       "       What is the VOC (Open Circuit Voltage) value?  \\\n",
       "0  VOC (Open Circuit Voltage) is the value of a c...   \n",
       "\n",
       "  How many hours of stability does the paper report?  \\\n",
       "0            The paper reports a total of 365 hours.   \n",
       "\n",
       "             What are the stability test conditions?  \\\n",
       "0  The stability test is a test for the ability t...   \n",
       "\n",
       "  What is the stabilized power output or SPO efficiency?  \\\n",
       "0  The SPO efficiency is the most efficient power...       \n",
       "\n",
       "  What is the perovskite composition used in the study?  \\\n",
       "0   The perovskite composition is used in the study.      \n",
       "\n",
       "                 Is the structure PIN or NIP?  \\\n",
       "0  NIP is a symbiotic structure that is a sym   \n",
       "\n",
       "  What is the molecule type (e.g., quasi-2D, passivation, etc.)?  \\\n",
       "0   molecule type (e.g., quasi-2D, passivation, etc.               \n",
       "\n",
       "  What is the concentration of the molecule mentioned?  \n",
       "0  Concentration of the molecule mentioned is the...    "
      ]
     },
     "execution_count": 4,
     "metadata": {},
     "output_type": "execute_result"
    }
   ],
   "source": [
    "df"
   ]
  },
  {
   "cell_type": "markdown",
   "id": "bf01244b",
   "metadata": {},
   "source": [
    "### Attempting to use matextract\n",
    "\n",
    "**To use `matextract` which is an extraction workflow using LLMs, do the following:**  \n",
    "\n",
    "1\\. Clone the repository\n",
    "  \n",
    "`git clone https://github.com/lamalab-org/matextract-book.git`. \n",
    "\n",
    "Then, go into the folder\n",
    "  \n",
    "`cd matextract-book`  \n",
    "  \n",
    "Install dependencies\n",
    "\n",
    "`cd package && pip install .`"
   ]
  },
  {
   "cell_type": "markdown",
   "id": "d8d816a5",
   "metadata": {},
   "source": [
    "---\n",
    "***progress so far:** unable to import matextact into the notebook*\n",
    "\n",
    "---"
   ]
  }
 ],
 "metadata": {
  "kernelspec": {
   "display_name": "Python 3 (ipykernel)",
   "language": "python",
   "name": "python3"
  },
  "language_info": {
   "codemirror_mode": {
    "name": "ipython",
    "version": 3
   },
   "file_extension": ".py",
   "mimetype": "text/x-python",
   "name": "python",
   "nbconvert_exporter": "python",
   "pygments_lexer": "ipython3",
   "version": "3.10.9"
  }
 },
 "nbformat": 4,
 "nbformat_minor": 5
}
