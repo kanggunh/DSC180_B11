{
 "cells": [
  {
   "cell_type": "code",
   "execution_count": 1,
   "metadata": {},
   "outputs": [],
   "source": [
    "import pandas as pd\n",
    "import numpy as np"
   ]
  },
  {
   "cell_type": "markdown",
   "metadata": {},
   "source": [
    "## Randomly selecting 12 papers from 150 Good research paper"
   ]
  },
  {
   "cell_type": "code",
   "execution_count": 2,
   "metadata": {},
   "outputs": [
    {
     "data": {
      "text/plain": [
       "0    https://www.science.org/doi/10.1126/science.ad...\n",
       "1    https://www.nature.com/articles/s41566-019-0398-2\n",
       "2    https://www.nature.com/articles/s41560-020-007...\n",
       "3    https://www.science.org/doi/10.1126/science.ab...\n",
       "4    https://www.nature.com/articles/s41467-021-236...\n",
       "Name: Link, dtype: object"
      ]
     },
     "execution_count": 2,
     "metadata": {},
     "output_type": "execute_result"
    }
   ],
   "source": [
    "# Read in the csv file\n",
    "## This is a csv file that teammates manually inspected as good research pape\n",
    "random_papers_df = pd.read_csv(\"150 Research paper_small_classification.csv\")['Link']\n",
    "random_papers_df.head()"
   ]
  },
  {
   "cell_type": "code",
   "execution_count": 3,
   "metadata": {},
   "outputs": [
    {
     "data": {
      "text/plain": [
       "14              https://doi.org/10.1126%2Fsciadv.abj7930\n",
       "98           https://doi.org/10.1038%2Fs41560-019-0538-4\n",
       "75                  https://doi.org/10.1039%2FC9TA12489F\n",
       "16                  https://doi.org/10.1039%2FD0TA10535J\n",
       "131         https://doi.org/10.1038%2Fs41586-023-06208-z\n",
       "56              https://doi.org/10.1002%2Faenm.202101447\n",
       "141         https://doi.org/10.1038%2Fs41586-023-06637-w\n",
       "44     https://www.sciencedirect.com/science/article/...\n",
       "29                  https://doi.org/10.1039%2FC8TC04871A\n",
       "120    https://www.science.org/doi/10.1126/science.ab...\n",
       "94     https://onlinelibrary.wiley.com/doi/10.1002/ad...\n",
       "5      https://www.sciencedirect.com/science/article/...\n",
       "Name: Link, dtype: object"
      ]
     },
     "execution_count": 3,
     "metadata": {},
     "output_type": "execute_result"
    }
   ],
   "source": [
    "sampled_good = random_papers_df.sample(n=12, random_state=1)  # random_state for reproducibility\n",
    "sampled_good"
   ]
  },
  {
   "cell_type": "code",
   "execution_count": 4,
   "metadata": {},
   "outputs": [],
   "source": [
    "## Exporting this as a csv file name \"good_paper_small\"\n",
    "sample_df_good = sampled_good.to_frame(name='link')\n",
    "sample_df_good['label'] = 1\n",
    "sample_df_good.to_csv('good_paper_small.csv', index=False)"
   ]
  },
  {
   "cell_type": "markdown",
   "metadata": {},
   "source": [
    "## Randomly selecting 12 papers from BAD research Paper\n",
    "\n",
    "We will randomly select 12 and manually inspect if these paper are actually \"bad\""
   ]
  },
  {
   "cell_type": "code",
   "execution_count": 5,
   "metadata": {},
   "outputs": [
    {
     "data": {
      "text/html": [
       "<div>\n",
       "<style scoped>\n",
       "    .dataframe tbody tr th:only-of-type {\n",
       "        vertical-align: middle;\n",
       "    }\n",
       "\n",
       "    .dataframe tbody tr th {\n",
       "        vertical-align: top;\n",
       "    }\n",
       "\n",
       "    .dataframe thead th {\n",
       "        text-align: right;\n",
       "    }\n",
       "</style>\n",
       "<table border=\"1\" class=\"dataframe\">\n",
       "  <thead>\n",
       "    <tr style=\"text-align: right;\">\n",
       "      <th></th>\n",
       "      <th>link</th>\n",
       "      <th>doi</th>\n",
       "    </tr>\n",
       "  </thead>\n",
       "  <tbody>\n",
       "    <tr>\n",
       "      <th>0</th>\n",
       "      <td>https://doi.org/10.1038%2Fnature14133</td>\n",
       "      <td>10.1038%2Fnature14133</td>\n",
       "    </tr>\n",
       "    <tr>\n",
       "      <th>1</th>\n",
       "      <td>https://doi.org/10.1038%2Fnmat4014</td>\n",
       "      <td>10.1038%2Fnmat4014</td>\n",
       "    </tr>\n",
       "    <tr>\n",
       "      <th>2</th>\n",
       "      <td>https://doi.org/10.1039%2FC5EE03874J</td>\n",
       "      <td>10.1039%2FC5EE03874J</td>\n",
       "    </tr>\n",
       "    <tr>\n",
       "      <th>3</th>\n",
       "      <td>https://doi.org/10.1038%2Fs41563-018-0071-z</td>\n",
       "      <td>10.1038%2Fs41563-018-0071-z</td>\n",
       "    </tr>\n",
       "    <tr>\n",
       "      <th>4</th>\n",
       "      <td>https://doi.org/10.1002%2Faenm.201700491</td>\n",
       "      <td>10.1002%2Faenm.201700491</td>\n",
       "    </tr>\n",
       "  </tbody>\n",
       "</table>\n",
       "</div>"
      ],
      "text/plain": [
       "                                          link                          doi\n",
       "0        https://doi.org/10.1038%2Fnature14133        10.1038%2Fnature14133\n",
       "1           https://doi.org/10.1038%2Fnmat4014           10.1038%2Fnmat4014\n",
       "2         https://doi.org/10.1039%2FC5EE03874J         10.1039%2FC5EE03874J\n",
       "3  https://doi.org/10.1038%2Fs41563-018-0071-z  10.1038%2Fs41563-018-0071-z\n",
       "4     https://doi.org/10.1002%2Faenm.201700491     10.1002%2Faenm.201700491"
      ]
     },
     "execution_count": 5,
     "metadata": {},
     "output_type": "execute_result"
    }
   ],
   "source": [
    "# Read in the csv file\n",
    "random_papers_df = pd.read_csv(\"bad_paper_big.csv\")\n",
    "random_papers_df.head()"
   ]
  },
  {
   "cell_type": "code",
   "execution_count": 6,
   "metadata": {},
   "outputs": [
    {
     "data": {
      "text/html": [
       "<div>\n",
       "<style scoped>\n",
       "    .dataframe tbody tr th:only-of-type {\n",
       "        vertical-align: middle;\n",
       "    }\n",
       "\n",
       "    .dataframe tbody tr th {\n",
       "        vertical-align: top;\n",
       "    }\n",
       "\n",
       "    .dataframe thead th {\n",
       "        text-align: right;\n",
       "    }\n",
       "</style>\n",
       "<table border=\"1\" class=\"dataframe\">\n",
       "  <thead>\n",
       "    <tr style=\"text-align: right;\">\n",
       "      <th></th>\n",
       "      <th>link</th>\n",
       "      <th>doi</th>\n",
       "    </tr>\n",
       "  </thead>\n",
       "  <tbody>\n",
       "    <tr>\n",
       "      <th>24</th>\n",
       "      <td>https://doi.org/10.1002%2Fadma.201607039</td>\n",
       "      <td>10.1002%2Fadma.201607039</td>\n",
       "    </tr>\n",
       "    <tr>\n",
       "      <th>39</th>\n",
       "      <td>https://doi.org/10.1039%2FC7TA00434F</td>\n",
       "      <td>10.1039%2FC7TA00434F</td>\n",
       "    </tr>\n",
       "    <tr>\n",
       "      <th>52</th>\n",
       "      <td>https://doi.org/10.1002%2Faenm.201601079</td>\n",
       "      <td>10.1002%2Faenm.201601079</td>\n",
       "    </tr>\n",
       "    <tr>\n",
       "      <th>27</th>\n",
       "      <td>https://doi.org/10.1038%2Fs41467-017-00516-5</td>\n",
       "      <td>10.1038%2Fs41467-017-00516-5</td>\n",
       "    </tr>\n",
       "    <tr>\n",
       "      <th>44</th>\n",
       "      <td>https://doi.org/10.1021%2Facsenergylett.7b00236</td>\n",
       "      <td>10.1021%2Facsenergylett.7b00236</td>\n",
       "    </tr>\n",
       "    <tr>\n",
       "      <th>2</th>\n",
       "      <td>https://doi.org/10.1039%2FC5EE03874J</td>\n",
       "      <td>10.1039%2FC5EE03874J</td>\n",
       "    </tr>\n",
       "    <tr>\n",
       "      <th>21</th>\n",
       "      <td>https://doi.org/10.1126%2Fsciadv.aao5616</td>\n",
       "      <td>10.1126%2Fsciadv.aao5616</td>\n",
       "    </tr>\n",
       "    <tr>\n",
       "      <th>62</th>\n",
       "      <td>https://doi.org/10.1103%2FPhysRevLett.77.3865</td>\n",
       "      <td>10.1103%2FPhysRevLett.77.3865</td>\n",
       "    </tr>\n",
       "    <tr>\n",
       "      <th>41</th>\n",
       "      <td>https://doi.org/10.1002%2Faenm.201701136</td>\n",
       "      <td>10.1002%2Faenm.201701136</td>\n",
       "    </tr>\n",
       "    <tr>\n",
       "      <th>50</th>\n",
       "      <td>https://doi.org/10.1557%2Fmrc.2015.26</td>\n",
       "      <td>10.1557%2Fmrc.2015.26</td>\n",
       "    </tr>\n",
       "    <tr>\n",
       "      <th>38</th>\n",
       "      <td>https://doi.org/10.1038%2Fncomms11755</td>\n",
       "      <td>10.1038%2Fncomms11755</td>\n",
       "    </tr>\n",
       "    <tr>\n",
       "      <th>54</th>\n",
       "      <td>https://doi.org/10.1021%2Fnl501838y</td>\n",
       "      <td>10.1021%2Fnl501838y</td>\n",
       "    </tr>\n",
       "  </tbody>\n",
       "</table>\n",
       "</div>"
      ],
      "text/plain": [
       "                                               link  \\\n",
       "24         https://doi.org/10.1002%2Fadma.201607039   \n",
       "39             https://doi.org/10.1039%2FC7TA00434F   \n",
       "52         https://doi.org/10.1002%2Faenm.201601079   \n",
       "27     https://doi.org/10.1038%2Fs41467-017-00516-5   \n",
       "44  https://doi.org/10.1021%2Facsenergylett.7b00236   \n",
       "2              https://doi.org/10.1039%2FC5EE03874J   \n",
       "21         https://doi.org/10.1126%2Fsciadv.aao5616   \n",
       "62    https://doi.org/10.1103%2FPhysRevLett.77.3865   \n",
       "41         https://doi.org/10.1002%2Faenm.201701136   \n",
       "50            https://doi.org/10.1557%2Fmrc.2015.26   \n",
       "38            https://doi.org/10.1038%2Fncomms11755   \n",
       "54              https://doi.org/10.1021%2Fnl501838y   \n",
       "\n",
       "                                doi  \n",
       "24         10.1002%2Fadma.201607039  \n",
       "39             10.1039%2FC7TA00434F  \n",
       "52         10.1002%2Faenm.201601079  \n",
       "27     10.1038%2Fs41467-017-00516-5  \n",
       "44  10.1021%2Facsenergylett.7b00236  \n",
       "2              10.1039%2FC5EE03874J  \n",
       "21         10.1126%2Fsciadv.aao5616  \n",
       "62    10.1103%2FPhysRevLett.77.3865  \n",
       "41         10.1002%2Faenm.201701136  \n",
       "50            10.1557%2Fmrc.2015.26  \n",
       "38            10.1038%2Fncomms11755  \n",
       "54              10.1021%2Fnl501838y  "
      ]
     },
     "execution_count": 6,
     "metadata": {},
     "output_type": "execute_result"
    }
   ],
   "source": [
    "sampled_bad_df = random_papers_df.sample(n=12, random_state=1)  # random_state for reproducibility\n",
    "sampled_bad_df"
   ]
  },
  {
   "cell_type": "code",
   "execution_count": 7,
   "metadata": {},
   "outputs": [],
   "source": [
    "sampled_bad_df['label'] = 0\n",
    "sampled_bad_df.to_csv('bad_paper_small.csv', index=False)"
   ]
  },
  {
   "cell_type": "code",
   "execution_count": 8,
   "metadata": {},
   "outputs": [
    {
     "data": {
      "text/html": [
       "<div>\n",
       "<style scoped>\n",
       "    .dataframe tbody tr th:only-of-type {\n",
       "        vertical-align: middle;\n",
       "    }\n",
       "\n",
       "    .dataframe tbody tr th {\n",
       "        vertical-align: top;\n",
       "    }\n",
       "\n",
       "    .dataframe thead th {\n",
       "        text-align: right;\n",
       "    }\n",
       "</style>\n",
       "<table border=\"1\" class=\"dataframe\">\n",
       "  <thead>\n",
       "    <tr style=\"text-align: right;\">\n",
       "      <th></th>\n",
       "      <th>link</th>\n",
       "      <th>doi</th>\n",
       "      <th>label</th>\n",
       "    </tr>\n",
       "  </thead>\n",
       "  <tbody>\n",
       "    <tr>\n",
       "      <th>24</th>\n",
       "      <td>https://doi.org/10.1002%2Fadma.201607039</td>\n",
       "      <td>10.1002%2Fadma.201607039</td>\n",
       "      <td>0</td>\n",
       "    </tr>\n",
       "    <tr>\n",
       "      <th>39</th>\n",
       "      <td>https://doi.org/10.1039%2FC7TA00434F</td>\n",
       "      <td>10.1039%2FC7TA00434F</td>\n",
       "      <td>0</td>\n",
       "    </tr>\n",
       "    <tr>\n",
       "      <th>52</th>\n",
       "      <td>https://doi.org/10.1002%2Faenm.201601079</td>\n",
       "      <td>10.1002%2Faenm.201601079</td>\n",
       "      <td>0</td>\n",
       "    </tr>\n",
       "    <tr>\n",
       "      <th>27</th>\n",
       "      <td>https://doi.org/10.1038%2Fs41467-017-00516-5</td>\n",
       "      <td>10.1038%2Fs41467-017-00516-5</td>\n",
       "      <td>0</td>\n",
       "    </tr>\n",
       "    <tr>\n",
       "      <th>44</th>\n",
       "      <td>https://doi.org/10.1021%2Facsenergylett.7b00236</td>\n",
       "      <td>10.1021%2Facsenergylett.7b00236</td>\n",
       "      <td>0</td>\n",
       "    </tr>\n",
       "    <tr>\n",
       "      <th>2</th>\n",
       "      <td>https://doi.org/10.1039%2FC5EE03874J</td>\n",
       "      <td>10.1039%2FC5EE03874J</td>\n",
       "      <td>0</td>\n",
       "    </tr>\n",
       "    <tr>\n",
       "      <th>21</th>\n",
       "      <td>https://doi.org/10.1126%2Fsciadv.aao5616</td>\n",
       "      <td>10.1126%2Fsciadv.aao5616</td>\n",
       "      <td>0</td>\n",
       "    </tr>\n",
       "    <tr>\n",
       "      <th>62</th>\n",
       "      <td>https://doi.org/10.1103%2FPhysRevLett.77.3865</td>\n",
       "      <td>10.1103%2FPhysRevLett.77.3865</td>\n",
       "      <td>0</td>\n",
       "    </tr>\n",
       "    <tr>\n",
       "      <th>41</th>\n",
       "      <td>https://doi.org/10.1002%2Faenm.201701136</td>\n",
       "      <td>10.1002%2Faenm.201701136</td>\n",
       "      <td>0</td>\n",
       "    </tr>\n",
       "    <tr>\n",
       "      <th>50</th>\n",
       "      <td>https://doi.org/10.1557%2Fmrc.2015.26</td>\n",
       "      <td>10.1557%2Fmrc.2015.26</td>\n",
       "      <td>0</td>\n",
       "    </tr>\n",
       "    <tr>\n",
       "      <th>38</th>\n",
       "      <td>https://doi.org/10.1038%2Fncomms11755</td>\n",
       "      <td>10.1038%2Fncomms11755</td>\n",
       "      <td>0</td>\n",
       "    </tr>\n",
       "    <tr>\n",
       "      <th>54</th>\n",
       "      <td>https://doi.org/10.1021%2Fnl501838y</td>\n",
       "      <td>10.1021%2Fnl501838y</td>\n",
       "      <td>0</td>\n",
       "    </tr>\n",
       "  </tbody>\n",
       "</table>\n",
       "</div>"
      ],
      "text/plain": [
       "                                               link  \\\n",
       "24         https://doi.org/10.1002%2Fadma.201607039   \n",
       "39             https://doi.org/10.1039%2FC7TA00434F   \n",
       "52         https://doi.org/10.1002%2Faenm.201601079   \n",
       "27     https://doi.org/10.1038%2Fs41467-017-00516-5   \n",
       "44  https://doi.org/10.1021%2Facsenergylett.7b00236   \n",
       "2              https://doi.org/10.1039%2FC5EE03874J   \n",
       "21         https://doi.org/10.1126%2Fsciadv.aao5616   \n",
       "62    https://doi.org/10.1103%2FPhysRevLett.77.3865   \n",
       "41         https://doi.org/10.1002%2Faenm.201701136   \n",
       "50            https://doi.org/10.1557%2Fmrc.2015.26   \n",
       "38            https://doi.org/10.1038%2Fncomms11755   \n",
       "54              https://doi.org/10.1021%2Fnl501838y   \n",
       "\n",
       "                                doi  label  \n",
       "24         10.1002%2Fadma.201607039      0  \n",
       "39             10.1039%2FC7TA00434F      0  \n",
       "52         10.1002%2Faenm.201601079      0  \n",
       "27     10.1038%2Fs41467-017-00516-5      0  \n",
       "44  10.1021%2Facsenergylett.7b00236      0  \n",
       "2              10.1039%2FC5EE03874J      0  \n",
       "21         10.1126%2Fsciadv.aao5616      0  \n",
       "62    10.1103%2FPhysRevLett.77.3865      0  \n",
       "41         10.1002%2Faenm.201701136      0  \n",
       "50            10.1557%2Fmrc.2015.26      0  \n",
       "38            10.1038%2Fncomms11755      0  \n",
       "54              10.1021%2Fnl501838y      0  "
      ]
     },
     "execution_count": 8,
     "metadata": {},
     "output_type": "execute_result"
    }
   ],
   "source": [
    "sampled_bad_df"
   ]
  }
 ],
 "metadata": {
  "kernelspec": {
   "display_name": "dsc80",
   "language": "python",
   "name": "python3"
  },
  "language_info": {
   "codemirror_mode": {
    "name": "ipython",
    "version": 3
   },
   "file_extension": ".py",
   "mimetype": "text/x-python",
   "name": "python",
   "nbconvert_exporter": "python",
   "pygments_lexer": "ipython3",
   "version": "3.8.18"
  }
 },
 "nbformat": 4,
 "nbformat_minor": 2
}
