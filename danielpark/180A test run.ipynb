{
 "cells": [
  {
   "cell_type": "code",
   "execution_count": 20,
   "id": "615f2638",
   "metadata": {},
   "outputs": [],
   "source": [
    "import os\n",
    "os.environ[\"TOKENIZERS_PARALLELISM\"] = \"false\""
   ]
  },
  {
   "cell_type": "code",
   "execution_count": 21,
   "id": "1da74e3f-6348-478f-b0ff-57aae64ee9c7",
   "metadata": {},
   "outputs": [
    {
     "name": "stdout",
     "output_type": "stream",
     "text": [
      "Collecting package metadata (current_repodata.json): - WARNING conda.models.version:get_matcher(556): Using .* with relational operator is superfluous and deprecated and will be removed in a future version of conda. Your spec was 1.7.1.*, but conda is ignoring the .* and treating it as 1.7.1\n",
      "done\n",
      "Solving environment: done\n",
      "\n",
      "\n",
      "==> WARNING: A newer version of conda exists. <==\n",
      "  current version: 23.7.4\n",
      "  latest version: 24.9.2\n",
      "\n",
      "Please update conda by running\n",
      "\n",
      "    $ conda update -n base -c defaults conda\n",
      "\n",
      "Or to minimize the number of packages updated during conda update use\n",
      "\n",
      "     conda install conda=24.9.2\n",
      "\n",
      "\n",
      "\n",
      "## Package Plan ##\n",
      "\n",
      "  environment location: /Users/dpark_23/anaconda3/envs/DSC180\n",
      "\n",
      "  added / updated specs:\n",
      "    - spacy\n",
      "\n",
      "\n",
      "The following packages will be downloaded:\n",
      "\n",
      "    package                    |            build\n",
      "    ---------------------------|-----------------\n",
      "    pip-24.3.1                 |     pyh8b19718_0         1.2 MB  conda-forge\n",
      "    ------------------------------------------------------------\n",
      "                                           Total:         1.2 MB\n",
      "\n",
      "The following NEW packages will be INSTALLED:\n",
      "\n",
      "  pip                conda-forge/noarch::pip-24.3.1-pyh8b19718_0 \n",
      "\n",
      "\n",
      "\n",
      "Downloading and Extracting Packages\n",
      "                                                                                \n",
      "Preparing transaction: done\n",
      "Verifying transaction: done\n",
      "Executing transaction: done\n",
      "\n",
      "Note: you may need to restart the kernel to use updated packages.\n"
     ]
    }
   ],
   "source": [
    "conda install -c conda-forge spacy"
   ]
  },
  {
   "cell_type": "code",
   "execution_count": 22,
   "id": "f821eeed",
   "metadata": {},
   "outputs": [
    {
     "name": "stdout",
     "output_type": "stream",
     "text": [
      "Requirement already satisfied: wheel in /Users/dpark_23/anaconda3/envs/DSC180/lib/python3.8/site-packages (0.44.0)\n",
      "Requirement already satisfied: DAWG in /Users/dpark_23/anaconda3/envs/DSC180/lib/python3.8/site-packages (0.8.0)\n"
     ]
    }
   ],
   "source": [
    "!pip install wheel\n",
    "!pip install DAWG --no-build-isolation"
   ]
  },
  {
   "cell_type": "code",
   "execution_count": 23,
   "id": "cf24fd87",
   "metadata": {},
   "outputs": [
    {
     "name": "stdout",
     "output_type": "stream",
     "text": [
      "Requirement already satisfied: chemdataextractor in /Users/dpark_23/anaconda3/envs/DSC180/lib/python3.8/site-packages (1.3.0)\n",
      "Requirement already satisfied: appdirs in /Users/dpark_23/anaconda3/envs/DSC180/lib/python3.8/site-packages (from chemdataextractor) (1.4.4)\n",
      "Requirement already satisfied: beautifulsoup4 in /Users/dpark_23/anaconda3/envs/DSC180/lib/python3.8/site-packages (from chemdataextractor) (4.12.3)\n",
      "Requirement already satisfied: click in /Users/dpark_23/anaconda3/envs/DSC180/lib/python3.8/site-packages (from chemdataextractor) (7.1.2)\n",
      "Requirement already satisfied: cssselect in /Users/dpark_23/anaconda3/envs/DSC180/lib/python3.8/site-packages (from chemdataextractor) (1.2.0)\n",
      "Requirement already satisfied: lxml in /Users/dpark_23/anaconda3/envs/DSC180/lib/python3.8/site-packages (from chemdataextractor) (5.3.0)\n",
      "Requirement already satisfied: nltk in /Users/dpark_23/anaconda3/envs/DSC180/lib/python3.8/site-packages (from chemdataextractor) (3.9.1)\n",
      "Requirement already satisfied: pdfminer.six in /Users/dpark_23/anaconda3/envs/DSC180/lib/python3.8/site-packages (from chemdataextractor) (20240706)\n",
      "Requirement already satisfied: python-dateutil in /Users/dpark_23/anaconda3/envs/DSC180/lib/python3.8/site-packages (from chemdataextractor) (2.9.0.post0)\n",
      "Requirement already satisfied: requests in /Users/dpark_23/anaconda3/envs/DSC180/lib/python3.8/site-packages (from chemdataextractor) (2.32.3)\n",
      "Requirement already satisfied: six in /Users/dpark_23/anaconda3/envs/DSC180/lib/python3.8/site-packages (from chemdataextractor) (1.16.0)\n",
      "Requirement already satisfied: python-crfsuite in /Users/dpark_23/anaconda3/envs/DSC180/lib/python3.8/site-packages (from chemdataextractor) (0.9.11)\n",
      "Requirement already satisfied: DAWG in /Users/dpark_23/anaconda3/envs/DSC180/lib/python3.8/site-packages (from chemdataextractor) (0.8.0)\n",
      "Requirement already satisfied: PyYAML in /Users/dpark_23/anaconda3/envs/DSC180/lib/python3.8/site-packages (from chemdataextractor) (6.0.2)\n",
      "Requirement already satisfied: soupsieve>1.2 in /Users/dpark_23/anaconda3/envs/DSC180/lib/python3.8/site-packages (from beautifulsoup4->chemdataextractor) (2.5)\n",
      "Requirement already satisfied: joblib in /Users/dpark_23/anaconda3/envs/DSC180/lib/python3.8/site-packages (from nltk->chemdataextractor) (1.4.2)\n",
      "Requirement already satisfied: regex>=2021.8.3 in /Users/dpark_23/anaconda3/envs/DSC180/lib/python3.8/site-packages (from nltk->chemdataextractor) (2024.9.11)\n",
      "Requirement already satisfied: tqdm in /Users/dpark_23/anaconda3/envs/DSC180/lib/python3.8/site-packages (from nltk->chemdataextractor) (4.66.5)\n",
      "Requirement already satisfied: charset-normalizer>=2.0.0 in /Users/dpark_23/anaconda3/envs/DSC180/lib/python3.8/site-packages (from pdfminer.six->chemdataextractor) (3.3.2)\n",
      "Requirement already satisfied: cryptography>=36.0.0 in /Users/dpark_23/anaconda3/envs/DSC180/lib/python3.8/site-packages (from pdfminer.six->chemdataextractor) (43.0.3)\n",
      "Requirement already satisfied: idna<4,>=2.5 in /Users/dpark_23/anaconda3/envs/DSC180/lib/python3.8/site-packages (from requests->chemdataextractor) (3.7)\n",
      "Requirement already satisfied: urllib3<3,>=1.21.1 in /Users/dpark_23/anaconda3/envs/DSC180/lib/python3.8/site-packages (from requests->chemdataextractor) (2.2.3)\n",
      "Requirement already satisfied: certifi>=2017.4.17 in /Users/dpark_23/anaconda3/envs/DSC180/lib/python3.8/site-packages (from requests->chemdataextractor) (2024.8.30)\n",
      "Requirement already satisfied: cffi>=1.12 in /Users/dpark_23/anaconda3/envs/DSC180/lib/python3.8/site-packages (from cryptography>=36.0.0->pdfminer.six->chemdataextractor) (1.17.1)\n",
      "Requirement already satisfied: pycparser in /Users/dpark_23/anaconda3/envs/DSC180/lib/python3.8/site-packages (from cffi>=1.12->cryptography>=36.0.0->pdfminer.six->chemdataextractor) (2.21)\n",
      "Note: you may need to restart the kernel to use updated packages.\n"
     ]
    }
   ],
   "source": [
    "pip install chemdataextractor"
   ]
  },
  {
   "cell_type": "code",
   "execution_count": 24,
   "id": "3742ddb9",
   "metadata": {},
   "outputs": [
    {
     "name": "stdout",
     "output_type": "stream",
     "text": [
      "Requirement already satisfied: PyPDF2 in /Users/dpark_23/anaconda3/envs/DSC180/lib/python3.8/site-packages (3.0.1)\n",
      "Requirement already satisfied: typing_extensions>=3.10.0.0 in /Users/dpark_23/anaconda3/envs/DSC180/lib/python3.8/site-packages (from PyPDF2) (4.12.2)\n"
     ]
    }
   ],
   "source": [
    "!pip install PyPDF2"
   ]
  },
  {
   "cell_type": "code",
   "execution_count": 25,
   "id": "8fdafd8f-74ac-4b97-ad7b-9d72f2f30fb2",
   "metadata": {},
   "outputs": [
    {
     "name": "stdout",
     "output_type": "stream",
     "text": [
      "Requirement already satisfied: transformers in /Users/dpark_23/anaconda3/envs/DSC180/lib/python3.8/site-packages (4.45.2)\n",
      "Requirement already satisfied: filelock in /Users/dpark_23/anaconda3/envs/DSC180/lib/python3.8/site-packages (from transformers) (3.16.1)\n",
      "Requirement already satisfied: huggingface-hub<1.0,>=0.23.2 in /Users/dpark_23/anaconda3/envs/DSC180/lib/python3.8/site-packages (from transformers) (0.26.1)\n",
      "Requirement already satisfied: numpy>=1.17 in /Users/dpark_23/anaconda3/envs/DSC180/lib/python3.8/site-packages (from transformers) (1.24.3)\n",
      "Requirement already satisfied: packaging>=20.0 in /Users/dpark_23/anaconda3/envs/DSC180/lib/python3.8/site-packages (from transformers) (24.1)\n",
      "Requirement already satisfied: pyyaml>=5.1 in /Users/dpark_23/anaconda3/envs/DSC180/lib/python3.8/site-packages (from transformers) (6.0.2)\n",
      "Requirement already satisfied: regex!=2019.12.17 in /Users/dpark_23/anaconda3/envs/DSC180/lib/python3.8/site-packages (from transformers) (2024.9.11)\n",
      "Requirement already satisfied: requests in /Users/dpark_23/anaconda3/envs/DSC180/lib/python3.8/site-packages (from transformers) (2.32.3)\n",
      "Requirement already satisfied: safetensors>=0.4.1 in /Users/dpark_23/anaconda3/envs/DSC180/lib/python3.8/site-packages (from transformers) (0.4.5)\n",
      "Requirement already satisfied: tokenizers<0.21,>=0.20 in /Users/dpark_23/anaconda3/envs/DSC180/lib/python3.8/site-packages (from transformers) (0.20.1)\n",
      "Requirement already satisfied: tqdm>=4.27 in /Users/dpark_23/anaconda3/envs/DSC180/lib/python3.8/site-packages (from transformers) (4.66.5)\n",
      "Requirement already satisfied: fsspec>=2023.5.0 in /Users/dpark_23/anaconda3/envs/DSC180/lib/python3.8/site-packages (from huggingface-hub<1.0,>=0.23.2->transformers) (2024.9.0)\n",
      "Requirement already satisfied: typing-extensions>=3.7.4.3 in /Users/dpark_23/anaconda3/envs/DSC180/lib/python3.8/site-packages (from huggingface-hub<1.0,>=0.23.2->transformers) (4.12.2)\n",
      "Requirement already satisfied: charset-normalizer<4,>=2 in /Users/dpark_23/anaconda3/envs/DSC180/lib/python3.8/site-packages (from requests->transformers) (3.3.2)\n",
      "Requirement already satisfied: idna<4,>=2.5 in /Users/dpark_23/anaconda3/envs/DSC180/lib/python3.8/site-packages (from requests->transformers) (3.7)\n",
      "Requirement already satisfied: urllib3<3,>=1.21.1 in /Users/dpark_23/anaconda3/envs/DSC180/lib/python3.8/site-packages (from requests->transformers) (2.2.3)\n",
      "Requirement already satisfied: certifi>=2017.4.17 in /Users/dpark_23/anaconda3/envs/DSC180/lib/python3.8/site-packages (from requests->transformers) (2024.8.30)\n",
      "Note: you may need to restart the kernel to use updated packages.\n"
     ]
    }
   ],
   "source": [
    "pip install transformers"
   ]
  },
  {
   "cell_type": "code",
   "execution_count": 26,
   "id": "e664c385-9141-4b2e-ab5c-eeaab192f9fc",
   "metadata": {},
   "outputs": [
    {
     "name": "stdout",
     "output_type": "stream",
     "text": [
      "Requirement already satisfied: tensorflow in /Users/dpark_23/anaconda3/envs/DSC180/lib/python3.8/site-packages (2.13.1)\n",
      "Requirement already satisfied: absl-py>=1.0.0 in /Users/dpark_23/anaconda3/envs/DSC180/lib/python3.8/site-packages (from tensorflow) (2.1.0)\n",
      "Requirement already satisfied: astunparse>=1.6.0 in /Users/dpark_23/anaconda3/envs/DSC180/lib/python3.8/site-packages (from tensorflow) (1.6.3)\n",
      "Requirement already satisfied: flatbuffers>=23.1.21 in /Users/dpark_23/anaconda3/envs/DSC180/lib/python3.8/site-packages (from tensorflow) (24.3.25)\n",
      "Requirement already satisfied: gast<=0.4.0,>=0.2.1 in /Users/dpark_23/anaconda3/envs/DSC180/lib/python3.8/site-packages (from tensorflow) (0.4.0)\n",
      "Requirement already satisfied: google-pasta>=0.1.1 in /Users/dpark_23/anaconda3/envs/DSC180/lib/python3.8/site-packages (from tensorflow) (0.2.0)\n",
      "Requirement already satisfied: h5py>=2.9.0 in /Users/dpark_23/anaconda3/envs/DSC180/lib/python3.8/site-packages (from tensorflow) (3.11.0)\n",
      "Requirement already satisfied: libclang>=13.0.0 in /Users/dpark_23/anaconda3/envs/DSC180/lib/python3.8/site-packages (from tensorflow) (18.1.1)\n",
      "Requirement already satisfied: numpy<=1.24.3,>=1.22 in /Users/dpark_23/anaconda3/envs/DSC180/lib/python3.8/site-packages (from tensorflow) (1.24.3)\n",
      "Requirement already satisfied: opt-einsum>=2.3.2 in /Users/dpark_23/anaconda3/envs/DSC180/lib/python3.8/site-packages (from tensorflow) (3.4.0)\n",
      "Requirement already satisfied: packaging in /Users/dpark_23/anaconda3/envs/DSC180/lib/python3.8/site-packages (from tensorflow) (24.1)\n",
      "Requirement already satisfied: protobuf!=4.21.0,!=4.21.1,!=4.21.2,!=4.21.3,!=4.21.4,!=4.21.5,<5.0.0dev,>=3.20.3 in /Users/dpark_23/anaconda3/envs/DSC180/lib/python3.8/site-packages (from tensorflow) (4.25.5)\n",
      "Requirement already satisfied: setuptools in /Users/dpark_23/anaconda3/envs/DSC180/lib/python3.8/site-packages (from tensorflow) (75.3.0)\n",
      "Requirement already satisfied: six>=1.12.0 in /Users/dpark_23/anaconda3/envs/DSC180/lib/python3.8/site-packages (from tensorflow) (1.16.0)\n",
      "Requirement already satisfied: termcolor>=1.1.0 in /Users/dpark_23/anaconda3/envs/DSC180/lib/python3.8/site-packages (from tensorflow) (2.4.0)\n",
      "Collecting typing-extensions<4.6.0,>=3.6.6 (from tensorflow)\n",
      "  Using cached typing_extensions-4.5.0-py3-none-any.whl.metadata (8.5 kB)\n",
      "Requirement already satisfied: wrapt>=1.11.0 in /Users/dpark_23/anaconda3/envs/DSC180/lib/python3.8/site-packages (from tensorflow) (1.16.0)\n",
      "Requirement already satisfied: grpcio<2.0,>=1.24.3 in /Users/dpark_23/anaconda3/envs/DSC180/lib/python3.8/site-packages (from tensorflow) (1.67.0)\n",
      "Requirement already satisfied: tensorboard<2.14,>=2.13 in /Users/dpark_23/anaconda3/envs/DSC180/lib/python3.8/site-packages (from tensorflow) (2.13.0)\n",
      "Requirement already satisfied: tensorflow-estimator<2.14,>=2.13.0 in /Users/dpark_23/anaconda3/envs/DSC180/lib/python3.8/site-packages (from tensorflow) (2.13.0)\n",
      "Requirement already satisfied: keras<2.14,>=2.13.1 in /Users/dpark_23/anaconda3/envs/DSC180/lib/python3.8/site-packages (from tensorflow) (2.13.1)\n",
      "Requirement already satisfied: tensorflow-io-gcs-filesystem>=0.23.1 in /Users/dpark_23/anaconda3/envs/DSC180/lib/python3.8/site-packages (from tensorflow) (0.34.0)\n",
      "Requirement already satisfied: wheel<1.0,>=0.23.0 in /Users/dpark_23/anaconda3/envs/DSC180/lib/python3.8/site-packages (from astunparse>=1.6.0->tensorflow) (0.44.0)\n",
      "Requirement already satisfied: google-auth<3,>=1.6.3 in /Users/dpark_23/anaconda3/envs/DSC180/lib/python3.8/site-packages (from tensorboard<2.14,>=2.13->tensorflow) (2.35.0)\n",
      "Requirement already satisfied: google-auth-oauthlib<1.1,>=0.5 in /Users/dpark_23/anaconda3/envs/DSC180/lib/python3.8/site-packages (from tensorboard<2.14,>=2.13->tensorflow) (1.0.0)\n",
      "Requirement already satisfied: markdown>=2.6.8 in /Users/dpark_23/anaconda3/envs/DSC180/lib/python3.8/site-packages (from tensorboard<2.14,>=2.13->tensorflow) (3.7)\n",
      "Requirement already satisfied: requests<3,>=2.21.0 in /Users/dpark_23/anaconda3/envs/DSC180/lib/python3.8/site-packages (from tensorboard<2.14,>=2.13->tensorflow) (2.32.3)\n",
      "Requirement already satisfied: tensorboard-data-server<0.8.0,>=0.7.0 in /Users/dpark_23/anaconda3/envs/DSC180/lib/python3.8/site-packages (from tensorboard<2.14,>=2.13->tensorflow) (0.7.2)\n",
      "Requirement already satisfied: werkzeug>=1.0.1 in /Users/dpark_23/anaconda3/envs/DSC180/lib/python3.8/site-packages (from tensorboard<2.14,>=2.13->tensorflow) (3.0.4)\n",
      "Requirement already satisfied: cachetools<6.0,>=2.0.0 in /Users/dpark_23/anaconda3/envs/DSC180/lib/python3.8/site-packages (from google-auth<3,>=1.6.3->tensorboard<2.14,>=2.13->tensorflow) (5.5.0)\n",
      "Requirement already satisfied: pyasn1-modules>=0.2.1 in /Users/dpark_23/anaconda3/envs/DSC180/lib/python3.8/site-packages (from google-auth<3,>=1.6.3->tensorboard<2.14,>=2.13->tensorflow) (0.4.1)\n",
      "Requirement already satisfied: rsa<5,>=3.1.4 in /Users/dpark_23/anaconda3/envs/DSC180/lib/python3.8/site-packages (from google-auth<3,>=1.6.3->tensorboard<2.14,>=2.13->tensorflow) (4.9)\n",
      "Requirement already satisfied: requests-oauthlib>=0.7.0 in /Users/dpark_23/anaconda3/envs/DSC180/lib/python3.8/site-packages (from google-auth-oauthlib<1.1,>=0.5->tensorboard<2.14,>=2.13->tensorflow) (2.0.0)\n",
      "Requirement already satisfied: importlib-metadata>=4.4 in /Users/dpark_23/anaconda3/envs/DSC180/lib/python3.8/site-packages (from markdown>=2.6.8->tensorboard<2.14,>=2.13->tensorflow) (7.0.1)\n",
      "Requirement already satisfied: charset-normalizer<4,>=2 in /Users/dpark_23/anaconda3/envs/DSC180/lib/python3.8/site-packages (from requests<3,>=2.21.0->tensorboard<2.14,>=2.13->tensorflow) (3.3.2)\n",
      "Requirement already satisfied: idna<4,>=2.5 in /Users/dpark_23/anaconda3/envs/DSC180/lib/python3.8/site-packages (from requests<3,>=2.21.0->tensorboard<2.14,>=2.13->tensorflow) (3.7)\n",
      "Requirement already satisfied: urllib3<3,>=1.21.1 in /Users/dpark_23/anaconda3/envs/DSC180/lib/python3.8/site-packages (from requests<3,>=2.21.0->tensorboard<2.14,>=2.13->tensorflow) (2.2.3)\n",
      "Requirement already satisfied: certifi>=2017.4.17 in /Users/dpark_23/anaconda3/envs/DSC180/lib/python3.8/site-packages (from requests<3,>=2.21.0->tensorboard<2.14,>=2.13->tensorflow) (2024.8.30)\n",
      "Requirement already satisfied: MarkupSafe>=2.1.1 in /Users/dpark_23/anaconda3/envs/DSC180/lib/python3.8/site-packages (from werkzeug>=1.0.1->tensorboard<2.14,>=2.13->tensorflow) (2.1.3)\n",
      "Requirement already satisfied: zipp>=0.5 in /Users/dpark_23/anaconda3/envs/DSC180/lib/python3.8/site-packages (from importlib-metadata>=4.4->markdown>=2.6.8->tensorboard<2.14,>=2.13->tensorflow) (3.20.2)\n",
      "Requirement already satisfied: pyasn1<0.7.0,>=0.4.6 in /Users/dpark_23/anaconda3/envs/DSC180/lib/python3.8/site-packages (from pyasn1-modules>=0.2.1->google-auth<3,>=1.6.3->tensorboard<2.14,>=2.13->tensorflow) (0.6.1)\n",
      "Requirement already satisfied: oauthlib>=3.0.0 in /Users/dpark_23/anaconda3/envs/DSC180/lib/python3.8/site-packages (from requests-oauthlib>=0.7.0->google-auth-oauthlib<1.1,>=0.5->tensorboard<2.14,>=2.13->tensorflow) (3.2.2)\n",
      "Using cached typing_extensions-4.5.0-py3-none-any.whl (27 kB)\n",
      "Installing collected packages: typing-extensions\n",
      "  Attempting uninstall: typing-extensions\n",
      "    Found existing installation: typing_extensions 4.12.2\n",
      "    Uninstalling typing_extensions-4.12.2:\n",
      "      Successfully uninstalled typing_extensions-4.12.2\n",
      "\u001b[31mERROR: pip's dependency resolver does not currently take into account all the packages that are installed. This behaviour is the source of the following dependency conflicts.\n",
      "pydantic-core 2.3.0 requires typing-extensions!=4.7.0,>=4.6.0, but you have typing-extensions 4.5.0 which is incompatible.\n",
      "torch 2.2.2 requires typing-extensions>=4.8.0, but you have typing-extensions 4.5.0 which is incompatible.\n",
      "typer-slim 0.12.5 requires click>=8.0.0, but you have click 7.1.2 which is incompatible.\u001b[0m\u001b[31m\n",
      "\u001b[0mSuccessfully installed typing-extensions-4.5.0\n",
      "Note: you may need to restart the kernel to use updated packages.\n"
     ]
    }
   ],
   "source": [
    "pip install tensorflow"
   ]
  },
  {
   "cell_type": "code",
   "execution_count": 27,
   "id": "b98d5c1e-6549-4bfa-afdb-2bbff0e15913",
   "metadata": {},
   "outputs": [
    {
     "name": "stdout",
     "output_type": "stream",
     "text": [
      "Requirement already satisfied: torch in /Users/dpark_23/anaconda3/envs/DSC180/lib/python3.8/site-packages (2.2.2)\n",
      "Requirement already satisfied: torchvision in /Users/dpark_23/anaconda3/envs/DSC180/lib/python3.8/site-packages (0.17.2)\n",
      "Requirement already satisfied: torchaudio in /Users/dpark_23/anaconda3/envs/DSC180/lib/python3.8/site-packages (2.2.2)\n",
      "Requirement already satisfied: filelock in /Users/dpark_23/anaconda3/envs/DSC180/lib/python3.8/site-packages (from torch) (3.16.1)\n",
      "Collecting typing-extensions>=4.8.0 (from torch)\n",
      "  Using cached typing_extensions-4.12.2-py3-none-any.whl.metadata (3.0 kB)\n",
      "Requirement already satisfied: sympy in /Users/dpark_23/anaconda3/envs/DSC180/lib/python3.8/site-packages (from torch) (1.13.3)\n",
      "Requirement already satisfied: networkx in /Users/dpark_23/anaconda3/envs/DSC180/lib/python3.8/site-packages (from torch) (3.1)\n",
      "Requirement already satisfied: jinja2 in /Users/dpark_23/anaconda3/envs/DSC180/lib/python3.8/site-packages (from torch) (3.1.4)\n",
      "Requirement already satisfied: fsspec in /Users/dpark_23/anaconda3/envs/DSC180/lib/python3.8/site-packages (from torch) (2024.9.0)\n",
      "Requirement already satisfied: numpy in /Users/dpark_23/anaconda3/envs/DSC180/lib/python3.8/site-packages (from torchvision) (1.24.3)\n",
      "Requirement already satisfied: pillow!=8.3.*,>=5.3.0 in /Users/dpark_23/anaconda3/envs/DSC180/lib/python3.8/site-packages (from torchvision) (10.4.0)\n",
      "Requirement already satisfied: MarkupSafe>=2.0 in /Users/dpark_23/anaconda3/envs/DSC180/lib/python3.8/site-packages (from jinja2->torch) (2.1.3)\n",
      "Requirement already satisfied: mpmath<1.4,>=1.1.0 in /Users/dpark_23/anaconda3/envs/DSC180/lib/python3.8/site-packages (from sympy->torch) (1.3.0)\n",
      "Using cached typing_extensions-4.12.2-py3-none-any.whl (37 kB)\n",
      "Installing collected packages: typing-extensions\n",
      "  Attempting uninstall: typing-extensions\n",
      "    Found existing installation: typing_extensions 4.5.0\n",
      "    Uninstalling typing_extensions-4.5.0:\n",
      "      Successfully uninstalled typing_extensions-4.5.0\n",
      "\u001b[31mERROR: pip's dependency resolver does not currently take into account all the packages that are installed. This behaviour is the source of the following dependency conflicts.\n",
      "tensorflow 2.13.1 requires typing-extensions<4.6.0,>=3.6.6, but you have typing-extensions 4.12.2 which is incompatible.\n",
      "typer-slim 0.12.5 requires click>=8.0.0, but you have click 7.1.2 which is incompatible.\u001b[0m\u001b[31m\n",
      "\u001b[0mSuccessfully installed typing-extensions-4.12.2\n",
      "Note: you may need to restart the kernel to use updated packages.\n"
     ]
    }
   ],
   "source": [
    "pip install torch torchvision torchaudio"
   ]
  },
  {
   "cell_type": "code",
   "execution_count": 28,
   "id": "077ee54c-4126-4d27-8212-d5c0b0a2b8ce",
   "metadata": {},
   "outputs": [
    {
     "name": "stdout",
     "output_type": "stream",
     "text": [
      "Requirement already satisfied: scispacy in /Users/dpark_23/anaconda3/envs/DSC180/lib/python3.8/site-packages (0.5.5)\n",
      "Collecting spacy<3.8.0,>=3.7.0 (from scispacy)\n",
      "  Using cached spacy-3.7.5-cp38-cp38-macosx_10_9_x86_64.whl.metadata (27 kB)\n",
      "Requirement already satisfied: scipy in /Users/dpark_23/anaconda3/envs/DSC180/lib/python3.8/site-packages (from scispacy) (1.10.1)\n",
      "Requirement already satisfied: requests<3.0.0,>=2.0.0 in /Users/dpark_23/anaconda3/envs/DSC180/lib/python3.8/site-packages (from scispacy) (2.32.3)\n",
      "Requirement already satisfied: conllu in /Users/dpark_23/anaconda3/envs/DSC180/lib/python3.8/site-packages (from scispacy) (6.0.0)\n",
      "Requirement already satisfied: numpy in /Users/dpark_23/anaconda3/envs/DSC180/lib/python3.8/site-packages (from scispacy) (1.24.3)\n",
      "Requirement already satisfied: joblib in /Users/dpark_23/anaconda3/envs/DSC180/lib/python3.8/site-packages (from scispacy) (1.4.2)\n",
      "Requirement already satisfied: scikit-learn>=0.20.3 in /Users/dpark_23/anaconda3/envs/DSC180/lib/python3.8/site-packages (from scispacy) (1.3.2)\n",
      "Requirement already satisfied: pysbd in /Users/dpark_23/anaconda3/envs/DSC180/lib/python3.8/site-packages (from scispacy) (0.3.4)\n",
      "Requirement already satisfied: nmslib>=1.7.3.6 in /Users/dpark_23/anaconda3/envs/DSC180/lib/python3.8/site-packages (from scispacy) (2.1.1)\n",
      "Requirement already satisfied: pybind11<2.6.2 in /Users/dpark_23/anaconda3/envs/DSC180/lib/python3.8/site-packages (from nmslib>=1.7.3.6->scispacy) (2.6.1)\n",
      "Requirement already satisfied: psutil in /Users/dpark_23/anaconda3/envs/DSC180/lib/python3.8/site-packages (from nmslib>=1.7.3.6->scispacy) (5.9.0)\n",
      "Requirement already satisfied: charset-normalizer<4,>=2 in /Users/dpark_23/anaconda3/envs/DSC180/lib/python3.8/site-packages (from requests<3.0.0,>=2.0.0->scispacy) (3.3.2)\n",
      "Requirement already satisfied: idna<4,>=2.5 in /Users/dpark_23/anaconda3/envs/DSC180/lib/python3.8/site-packages (from requests<3.0.0,>=2.0.0->scispacy) (3.7)\n",
      "Requirement already satisfied: urllib3<3,>=1.21.1 in /Users/dpark_23/anaconda3/envs/DSC180/lib/python3.8/site-packages (from requests<3.0.0,>=2.0.0->scispacy) (2.2.3)\n",
      "Requirement already satisfied: certifi>=2017.4.17 in /Users/dpark_23/anaconda3/envs/DSC180/lib/python3.8/site-packages (from requests<3.0.0,>=2.0.0->scispacy) (2024.8.30)\n",
      "Requirement already satisfied: threadpoolctl>=2.0.0 in /Users/dpark_23/anaconda3/envs/DSC180/lib/python3.8/site-packages (from scikit-learn>=0.20.3->scispacy) (3.5.0)\n",
      "Requirement already satisfied: spacy-legacy<3.1.0,>=3.0.11 in /Users/dpark_23/anaconda3/envs/DSC180/lib/python3.8/site-packages (from spacy<3.8.0,>=3.7.0->scispacy) (3.0.12)\n",
      "Requirement already satisfied: spacy-loggers<2.0.0,>=1.0.0 in /Users/dpark_23/anaconda3/envs/DSC180/lib/python3.8/site-packages (from spacy<3.8.0,>=3.7.0->scispacy) (1.0.5)\n",
      "Requirement already satisfied: murmurhash<1.1.0,>=0.28.0 in /Users/dpark_23/anaconda3/envs/DSC180/lib/python3.8/site-packages (from spacy<3.8.0,>=3.7.0->scispacy) (1.0.10)\n",
      "Requirement already satisfied: cymem<2.1.0,>=2.0.2 in /Users/dpark_23/anaconda3/envs/DSC180/lib/python3.8/site-packages (from spacy<3.8.0,>=3.7.0->scispacy) (2.0.8)\n",
      "Requirement already satisfied: preshed<3.1.0,>=3.0.2 in /Users/dpark_23/anaconda3/envs/DSC180/lib/python3.8/site-packages (from spacy<3.8.0,>=3.7.0->scispacy) (3.0.9)\n",
      "Collecting thinc<8.3.0,>=8.2.2 (from spacy<3.8.0,>=3.7.0->scispacy)\n",
      "  Using cached thinc-8.2.5-cp38-cp38-macosx_10_15_x86_64.whl\n",
      "Requirement already satisfied: wasabi<1.2.0,>=0.9.1 in /Users/dpark_23/anaconda3/envs/DSC180/lib/python3.8/site-packages (from spacy<3.8.0,>=3.7.0->scispacy) (0.10.1)\n",
      "Requirement already satisfied: srsly<3.0.0,>=2.4.3 in /Users/dpark_23/anaconda3/envs/DSC180/lib/python3.8/site-packages (from spacy<3.8.0,>=3.7.0->scispacy) (2.4.8)\n",
      "Requirement already satisfied: catalogue<2.1.0,>=2.0.6 in /Users/dpark_23/anaconda3/envs/DSC180/lib/python3.8/site-packages (from spacy<3.8.0,>=3.7.0->scispacy) (2.0.10)\n",
      "Requirement already satisfied: weasel<0.5.0,>=0.1.0 in /Users/dpark_23/anaconda3/envs/DSC180/lib/python3.8/site-packages (from spacy<3.8.0,>=3.7.0->scispacy) (0.4.1)\n",
      "Requirement already satisfied: typer<1.0.0,>=0.3.0 in /Users/dpark_23/anaconda3/envs/DSC180/lib/python3.8/site-packages (from spacy<3.8.0,>=3.7.0->scispacy) (0.3.2)\n",
      "Requirement already satisfied: tqdm<5.0.0,>=4.38.0 in /Users/dpark_23/anaconda3/envs/DSC180/lib/python3.8/site-packages (from spacy<3.8.0,>=3.7.0->scispacy) (4.66.5)\n",
      "Requirement already satisfied: pydantic!=1.8,!=1.8.1,<3.0.0,>=1.7.4 in /Users/dpark_23/anaconda3/envs/DSC180/lib/python3.8/site-packages (from spacy<3.8.0,>=3.7.0->scispacy) (1.8.2)\n",
      "Requirement already satisfied: jinja2 in /Users/dpark_23/anaconda3/envs/DSC180/lib/python3.8/site-packages (from spacy<3.8.0,>=3.7.0->scispacy) (3.1.4)\n",
      "Requirement already satisfied: setuptools in /Users/dpark_23/anaconda3/envs/DSC180/lib/python3.8/site-packages (from spacy<3.8.0,>=3.7.0->scispacy) (75.3.0)\n",
      "Requirement already satisfied: packaging>=20.0 in /Users/dpark_23/anaconda3/envs/DSC180/lib/python3.8/site-packages (from spacy<3.8.0,>=3.7.0->scispacy) (24.1)\n",
      "Requirement already satisfied: langcodes<4.0.0,>=3.2.0 in /Users/dpark_23/anaconda3/envs/DSC180/lib/python3.8/site-packages (from spacy<3.8.0,>=3.7.0->scispacy) (3.4.1)\n",
      "Requirement already satisfied: language-data>=1.2 in /Users/dpark_23/anaconda3/envs/DSC180/lib/python3.8/site-packages (from langcodes<4.0.0,>=3.2.0->spacy<3.8.0,>=3.7.0->scispacy) (1.2.0)\n",
      "Requirement already satisfied: typing-extensions>=3.7.4.3 in /Users/dpark_23/anaconda3/envs/DSC180/lib/python3.8/site-packages (from pydantic!=1.8,!=1.8.1,<3.0.0,>=1.7.4->spacy<3.8.0,>=3.7.0->scispacy) (4.12.2)\n",
      "Requirement already satisfied: blis<0.8.0,>=0.7.8 in /Users/dpark_23/anaconda3/envs/DSC180/lib/python3.8/site-packages (from thinc<8.3.0,>=8.2.2->spacy<3.8.0,>=3.7.0->scispacy) (0.7.10)\n",
      "Requirement already satisfied: confection<1.0.0,>=0.0.1 in /Users/dpark_23/anaconda3/envs/DSC180/lib/python3.8/site-packages (from thinc<8.3.0,>=8.2.2->spacy<3.8.0,>=3.7.0->scispacy) (0.1.4)\n",
      "Requirement already satisfied: click<7.2.0,>=7.1.1 in /Users/dpark_23/anaconda3/envs/DSC180/lib/python3.8/site-packages (from typer<1.0.0,>=0.3.0->spacy<3.8.0,>=3.7.0->scispacy) (7.1.2)\n",
      "Requirement already satisfied: cloudpathlib<1.0.0,>=0.7.0 in /Users/dpark_23/anaconda3/envs/DSC180/lib/python3.8/site-packages (from weasel<0.5.0,>=0.1.0->spacy<3.8.0,>=3.7.0->scispacy) (0.20.0)\n",
      "Requirement already satisfied: smart-open<8.0.0,>=5.2.1 in /Users/dpark_23/anaconda3/envs/DSC180/lib/python3.8/site-packages (from weasel<0.5.0,>=0.1.0->spacy<3.8.0,>=3.7.0->scispacy) (6.4.0)\n",
      "Requirement already satisfied: MarkupSafe>=2.0 in /Users/dpark_23/anaconda3/envs/DSC180/lib/python3.8/site-packages (from jinja2->spacy<3.8.0,>=3.7.0->scispacy) (2.1.3)\n",
      "Requirement already satisfied: marisa-trie>=0.7.7 in /Users/dpark_23/anaconda3/envs/DSC180/lib/python3.8/site-packages (from language-data>=1.2->langcodes<4.0.0,>=3.2.0->spacy<3.8.0,>=3.7.0->scispacy) (1.2.0)\n",
      "Using cached spacy-3.7.5-cp38-cp38-macosx_10_9_x86_64.whl (6.8 MB)\n",
      "Installing collected packages: thinc, spacy\n",
      "  Attempting uninstall: thinc\n",
      "    Found existing installation: thinc 8.0.17\n",
      "    Uninstalling thinc-8.0.17:\n",
      "      Successfully uninstalled thinc-8.0.17\n",
      "  Attempting uninstall: spacy\n",
      "    Found existing installation: spacy 3.0.9\n",
      "    Uninstalling spacy-3.0.9:\n",
      "      Successfully uninstalled spacy-3.0.9\n",
      "\u001b[31mERROR: pip's dependency resolver does not currently take into account all the packages that are installed. This behaviour is the source of the following dependency conflicts.\n",
      "en-core-sci-sm 0.4.0 requires spacy<3.1.0,>=3.0.1, but you have spacy 3.7.5 which is incompatible.\n",
      "en-core-web-sm 3.0.0 requires spacy<3.1.0,>=3.0.0, but you have spacy 3.7.5 which is incompatible.\n",
      "en-ner-bionlp13cg-md 0.4.0 requires spacy<3.1.0,>=3.0.1, but you have spacy 3.7.5 which is incompatible.\u001b[0m\u001b[31m\n",
      "\u001b[0mSuccessfully installed spacy-3.7.5 thinc-8.2.5\n",
      "Note: you may need to restart the kernel to use updated packages.\n"
     ]
    }
   ],
   "source": [
    "pip install scispacy"
   ]
  },
  {
   "cell_type": "code",
   "execution_count": 29,
   "id": "ef651a9f-df38-40b6-9bf8-8efe1c573a65",
   "metadata": {},
   "outputs": [
    {
     "name": "stdout",
     "output_type": "stream",
     "text": [
      "Requirement already satisfied: nmslib in /Users/dpark_23/anaconda3/envs/DSC180/lib/python3.8/site-packages (2.1.1)\n",
      "Requirement already satisfied: pybind11<2.6.2 in /Users/dpark_23/anaconda3/envs/DSC180/lib/python3.8/site-packages (from nmslib) (2.6.1)\n",
      "Requirement already satisfied: psutil in /Users/dpark_23/anaconda3/envs/DSC180/lib/python3.8/site-packages (from nmslib) (5.9.0)\n",
      "Requirement already satisfied: numpy>=1.10.0 in /Users/dpark_23/anaconda3/envs/DSC180/lib/python3.8/site-packages (from nmslib) (1.24.3)\n",
      "Note: you may need to restart the kernel to use updated packages.\n"
     ]
    }
   ],
   "source": [
    "pip install --no-binary :all: nmslib"
   ]
  },
  {
   "cell_type": "code",
   "execution_count": 30,
   "id": "38f44356-25b4-445e-9dfe-b95a3f5c4794",
   "metadata": {},
   "outputs": [
    {
     "name": "stdout",
     "output_type": "stream",
     "text": [
      "Collecting https://s3-us-west-2.amazonaws.com/ai2-s2-scispacy/releases/v0.4.0/en_core_sci_sm-0.4.0.tar.gz\n",
      "  Using cached https://s3-us-west-2.amazonaws.com/ai2-s2-scispacy/releases/v0.4.0/en_core_sci_sm-0.4.0.tar.gz (15.6 MB)\n",
      "  Preparing metadata (setup.py) ... \u001b[?25ldone\n",
      "\u001b[?25hCollecting spacy<3.1.0,>=3.0.1 (from en_core_sci_sm==0.4.0)\n",
      "  Using cached spacy-3.0.9-cp38-cp38-macosx_10_9_x86_64.whl.metadata (17 kB)\n",
      "Requirement already satisfied: spacy-legacy<3.1.0,>=3.0.5 in /Users/dpark_23/anaconda3/envs/DSC180/lib/python3.8/site-packages (from spacy<3.1.0,>=3.0.1->en_core_sci_sm==0.4.0) (3.0.12)\n",
      "Requirement already satisfied: murmurhash<1.1.0,>=0.28.0 in /Users/dpark_23/anaconda3/envs/DSC180/lib/python3.8/site-packages (from spacy<3.1.0,>=3.0.1->en_core_sci_sm==0.4.0) (1.0.10)\n",
      "Requirement already satisfied: cymem<2.1.0,>=2.0.2 in /Users/dpark_23/anaconda3/envs/DSC180/lib/python3.8/site-packages (from spacy<3.1.0,>=3.0.1->en_core_sci_sm==0.4.0) (2.0.8)\n",
      "Requirement already satisfied: preshed<3.1.0,>=3.0.2 in /Users/dpark_23/anaconda3/envs/DSC180/lib/python3.8/site-packages (from spacy<3.1.0,>=3.0.1->en_core_sci_sm==0.4.0) (3.0.9)\n",
      "Collecting thinc<8.1.0,>=8.0.3 (from spacy<3.1.0,>=3.0.1->en_core_sci_sm==0.4.0)\n",
      "  Using cached thinc-8.0.17-cp38-cp38-macosx_10_9_x86_64.whl.metadata (14 kB)\n",
      "Requirement already satisfied: blis<0.8.0,>=0.4.0 in /Users/dpark_23/anaconda3/envs/DSC180/lib/python3.8/site-packages (from spacy<3.1.0,>=3.0.1->en_core_sci_sm==0.4.0) (0.7.10)\n",
      "Requirement already satisfied: wasabi<1.1.0,>=0.8.1 in /Users/dpark_23/anaconda3/envs/DSC180/lib/python3.8/site-packages (from spacy<3.1.0,>=3.0.1->en_core_sci_sm==0.4.0) (0.10.1)\n",
      "Requirement already satisfied: srsly<3.0.0,>=2.4.1 in /Users/dpark_23/anaconda3/envs/DSC180/lib/python3.8/site-packages (from spacy<3.1.0,>=3.0.1->en_core_sci_sm==0.4.0) (2.4.8)\n",
      "Requirement already satisfied: catalogue<2.1.0,>=2.0.4 in /Users/dpark_23/anaconda3/envs/DSC180/lib/python3.8/site-packages (from spacy<3.1.0,>=3.0.1->en_core_sci_sm==0.4.0) (2.0.10)\n",
      "Requirement already satisfied: typer<0.4.0,>=0.3.0 in /Users/dpark_23/anaconda3/envs/DSC180/lib/python3.8/site-packages (from spacy<3.1.0,>=3.0.1->en_core_sci_sm==0.4.0) (0.3.2)\n",
      "Requirement already satisfied: pathy>=0.3.5 in /Users/dpark_23/anaconda3/envs/DSC180/lib/python3.8/site-packages (from spacy<3.1.0,>=3.0.1->en_core_sci_sm==0.4.0) (0.11.0)\n",
      "Requirement already satisfied: smart-open<7.0.0,>=5.2.1 in /Users/dpark_23/anaconda3/envs/DSC180/lib/python3.8/site-packages (from spacy<3.1.0,>=3.0.1->en_core_sci_sm==0.4.0) (6.4.0)\n",
      "Requirement already satisfied: tqdm<5.0.0,>=4.38.0 in /Users/dpark_23/anaconda3/envs/DSC180/lib/python3.8/site-packages (from spacy<3.1.0,>=3.0.1->en_core_sci_sm==0.4.0) (4.66.5)\n",
      "Requirement already satisfied: numpy>=1.15.0 in /Users/dpark_23/anaconda3/envs/DSC180/lib/python3.8/site-packages (from spacy<3.1.0,>=3.0.1->en_core_sci_sm==0.4.0) (1.24.3)\n",
      "Requirement already satisfied: requests<3.0.0,>=2.13.0 in /Users/dpark_23/anaconda3/envs/DSC180/lib/python3.8/site-packages (from spacy<3.1.0,>=3.0.1->en_core_sci_sm==0.4.0) (2.32.3)\n",
      "Requirement already satisfied: pydantic!=1.8,!=1.8.1,<1.9.0,>=1.7.4 in /Users/dpark_23/anaconda3/envs/DSC180/lib/python3.8/site-packages (from spacy<3.1.0,>=3.0.1->en_core_sci_sm==0.4.0) (1.8.2)\n",
      "Requirement already satisfied: jinja2 in /Users/dpark_23/anaconda3/envs/DSC180/lib/python3.8/site-packages (from spacy<3.1.0,>=3.0.1->en_core_sci_sm==0.4.0) (3.1.4)\n",
      "Requirement already satisfied: setuptools in /Users/dpark_23/anaconda3/envs/DSC180/lib/python3.8/site-packages (from spacy<3.1.0,>=3.0.1->en_core_sci_sm==0.4.0) (75.3.0)\n",
      "Requirement already satisfied: packaging>=20.0 in /Users/dpark_23/anaconda3/envs/DSC180/lib/python3.8/site-packages (from spacy<3.1.0,>=3.0.1->en_core_sci_sm==0.4.0) (24.1)\n",
      "Requirement already satisfied: pathlib-abc==0.1.1 in /Users/dpark_23/anaconda3/envs/DSC180/lib/python3.8/site-packages (from pathy>=0.3.5->spacy<3.1.0,>=3.0.1->en_core_sci_sm==0.4.0) (0.1.1)\n",
      "Requirement already satisfied: typing-extensions>=3.7.4.3 in /Users/dpark_23/anaconda3/envs/DSC180/lib/python3.8/site-packages (from pydantic!=1.8,!=1.8.1,<1.9.0,>=1.7.4->spacy<3.1.0,>=3.0.1->en_core_sci_sm==0.4.0) (4.12.2)\n",
      "Requirement already satisfied: charset-normalizer<4,>=2 in /Users/dpark_23/anaconda3/envs/DSC180/lib/python3.8/site-packages (from requests<3.0.0,>=2.13.0->spacy<3.1.0,>=3.0.1->en_core_sci_sm==0.4.0) (3.3.2)\n",
      "Requirement already satisfied: idna<4,>=2.5 in /Users/dpark_23/anaconda3/envs/DSC180/lib/python3.8/site-packages (from requests<3.0.0,>=2.13.0->spacy<3.1.0,>=3.0.1->en_core_sci_sm==0.4.0) (3.7)\n",
      "Requirement already satisfied: urllib3<3,>=1.21.1 in /Users/dpark_23/anaconda3/envs/DSC180/lib/python3.8/site-packages (from requests<3.0.0,>=2.13.0->spacy<3.1.0,>=3.0.1->en_core_sci_sm==0.4.0) (2.2.3)\n",
      "Requirement already satisfied: certifi>=2017.4.17 in /Users/dpark_23/anaconda3/envs/DSC180/lib/python3.8/site-packages (from requests<3.0.0,>=2.13.0->spacy<3.1.0,>=3.0.1->en_core_sci_sm==0.4.0) (2024.8.30)\n",
      "Requirement already satisfied: click<7.2.0,>=7.1.1 in /Users/dpark_23/anaconda3/envs/DSC180/lib/python3.8/site-packages (from typer<0.4.0,>=0.3.0->spacy<3.1.0,>=3.0.1->en_core_sci_sm==0.4.0) (7.1.2)\n",
      "Requirement already satisfied: MarkupSafe>=2.0 in /Users/dpark_23/anaconda3/envs/DSC180/lib/python3.8/site-packages (from jinja2->spacy<3.1.0,>=3.0.1->en_core_sci_sm==0.4.0) (2.1.3)\n",
      "Using cached spacy-3.0.9-cp38-cp38-macosx_10_9_x86_64.whl (6.0 MB)\n",
      "Using cached thinc-8.0.17-cp38-cp38-macosx_10_9_x86_64.whl (640 kB)\n",
      "Installing collected packages: thinc, spacy\n",
      "  Attempting uninstall: thinc\n",
      "    Found existing installation: thinc 8.2.5\n",
      "    Uninstalling thinc-8.2.5:\n",
      "      Successfully uninstalled thinc-8.2.5\n",
      "  Attempting uninstall: spacy\n",
      "    Found existing installation: spacy 3.7.5\n",
      "    Uninstalling spacy-3.7.5:\n",
      "      Successfully uninstalled spacy-3.7.5\n",
      "\u001b[31mERROR: pip's dependency resolver does not currently take into account all the packages that are installed. This behaviour is the source of the following dependency conflicts.\n",
      "scispacy 0.5.5 requires spacy<3.8.0,>=3.7.0, but you have spacy 3.0.9 which is incompatible.\u001b[0m\u001b[31m\n",
      "\u001b[0mSuccessfully installed spacy-3.0.9 thinc-8.0.17\n",
      "Note: you may need to restart the kernel to use updated packages.\n"
     ]
    }
   ],
   "source": [
    "pip install https://s3-us-west-2.amazonaws.com/ai2-s2-scispacy/releases/v0.4.0/en_core_sci_sm-0.4.0.tar.gz"
   ]
  },
  {
   "cell_type": "code",
   "execution_count": 31,
   "id": "90967c5d-a5e7-4e99-a926-1cae8597086e",
   "metadata": {},
   "outputs": [
    {
     "name": "stdout",
     "output_type": "stream",
     "text": [
      "Collecting https://s3-us-west-2.amazonaws.com/ai2-s2-scispacy/releases/v0.4.0/en_ner_bionlp13cg_md-0.4.0.tar.gz\n",
      "  Using cached https://s3-us-west-2.amazonaws.com/ai2-s2-scispacy/releases/v0.4.0/en_ner_bionlp13cg_md-0.4.0.tar.gz (125.1 MB)\n",
      "  Preparing metadata (setup.py) ... \u001b[?25ldone\n",
      "\u001b[?25hRequirement already satisfied: spacy<3.1.0,>=3.0.1 in /Users/dpark_23/anaconda3/envs/DSC180/lib/python3.8/site-packages (from en_ner_bionlp13cg_md==0.4.0) (3.0.9)\n",
      "Requirement already satisfied: spacy-legacy<3.1.0,>=3.0.5 in /Users/dpark_23/anaconda3/envs/DSC180/lib/python3.8/site-packages (from spacy<3.1.0,>=3.0.1->en_ner_bionlp13cg_md==0.4.0) (3.0.12)\n",
      "Requirement already satisfied: murmurhash<1.1.0,>=0.28.0 in /Users/dpark_23/anaconda3/envs/DSC180/lib/python3.8/site-packages (from spacy<3.1.0,>=3.0.1->en_ner_bionlp13cg_md==0.4.0) (1.0.10)\n",
      "Requirement already satisfied: cymem<2.1.0,>=2.0.2 in /Users/dpark_23/anaconda3/envs/DSC180/lib/python3.8/site-packages (from spacy<3.1.0,>=3.0.1->en_ner_bionlp13cg_md==0.4.0) (2.0.8)\n",
      "Requirement already satisfied: preshed<3.1.0,>=3.0.2 in /Users/dpark_23/anaconda3/envs/DSC180/lib/python3.8/site-packages (from spacy<3.1.0,>=3.0.1->en_ner_bionlp13cg_md==0.4.0) (3.0.9)\n",
      "Requirement already satisfied: thinc<8.1.0,>=8.0.3 in /Users/dpark_23/anaconda3/envs/DSC180/lib/python3.8/site-packages (from spacy<3.1.0,>=3.0.1->en_ner_bionlp13cg_md==0.4.0) (8.0.17)\n",
      "Requirement already satisfied: blis<0.8.0,>=0.4.0 in /Users/dpark_23/anaconda3/envs/DSC180/lib/python3.8/site-packages (from spacy<3.1.0,>=3.0.1->en_ner_bionlp13cg_md==0.4.0) (0.7.10)\n",
      "Requirement already satisfied: wasabi<1.1.0,>=0.8.1 in /Users/dpark_23/anaconda3/envs/DSC180/lib/python3.8/site-packages (from spacy<3.1.0,>=3.0.1->en_ner_bionlp13cg_md==0.4.0) (0.10.1)\n",
      "Requirement already satisfied: srsly<3.0.0,>=2.4.1 in /Users/dpark_23/anaconda3/envs/DSC180/lib/python3.8/site-packages (from spacy<3.1.0,>=3.0.1->en_ner_bionlp13cg_md==0.4.0) (2.4.8)\n",
      "Requirement already satisfied: catalogue<2.1.0,>=2.0.4 in /Users/dpark_23/anaconda3/envs/DSC180/lib/python3.8/site-packages (from spacy<3.1.0,>=3.0.1->en_ner_bionlp13cg_md==0.4.0) (2.0.10)\n",
      "Requirement already satisfied: typer<0.4.0,>=0.3.0 in /Users/dpark_23/anaconda3/envs/DSC180/lib/python3.8/site-packages (from spacy<3.1.0,>=3.0.1->en_ner_bionlp13cg_md==0.4.0) (0.3.2)\n",
      "Requirement already satisfied: pathy>=0.3.5 in /Users/dpark_23/anaconda3/envs/DSC180/lib/python3.8/site-packages (from spacy<3.1.0,>=3.0.1->en_ner_bionlp13cg_md==0.4.0) (0.11.0)\n",
      "Requirement already satisfied: smart-open<7.0.0,>=5.2.1 in /Users/dpark_23/anaconda3/envs/DSC180/lib/python3.8/site-packages (from spacy<3.1.0,>=3.0.1->en_ner_bionlp13cg_md==0.4.0) (6.4.0)\n",
      "Requirement already satisfied: tqdm<5.0.0,>=4.38.0 in /Users/dpark_23/anaconda3/envs/DSC180/lib/python3.8/site-packages (from spacy<3.1.0,>=3.0.1->en_ner_bionlp13cg_md==0.4.0) (4.66.5)\n",
      "Requirement already satisfied: numpy>=1.15.0 in /Users/dpark_23/anaconda3/envs/DSC180/lib/python3.8/site-packages (from spacy<3.1.0,>=3.0.1->en_ner_bionlp13cg_md==0.4.0) (1.24.3)\n",
      "Requirement already satisfied: requests<3.0.0,>=2.13.0 in /Users/dpark_23/anaconda3/envs/DSC180/lib/python3.8/site-packages (from spacy<3.1.0,>=3.0.1->en_ner_bionlp13cg_md==0.4.0) (2.32.3)\n",
      "Requirement already satisfied: pydantic!=1.8,!=1.8.1,<1.9.0,>=1.7.4 in /Users/dpark_23/anaconda3/envs/DSC180/lib/python3.8/site-packages (from spacy<3.1.0,>=3.0.1->en_ner_bionlp13cg_md==0.4.0) (1.8.2)\n",
      "Requirement already satisfied: jinja2 in /Users/dpark_23/anaconda3/envs/DSC180/lib/python3.8/site-packages (from spacy<3.1.0,>=3.0.1->en_ner_bionlp13cg_md==0.4.0) (3.1.4)\n",
      "Requirement already satisfied: setuptools in /Users/dpark_23/anaconda3/envs/DSC180/lib/python3.8/site-packages (from spacy<3.1.0,>=3.0.1->en_ner_bionlp13cg_md==0.4.0) (75.3.0)\n",
      "Requirement already satisfied: packaging>=20.0 in /Users/dpark_23/anaconda3/envs/DSC180/lib/python3.8/site-packages (from spacy<3.1.0,>=3.0.1->en_ner_bionlp13cg_md==0.4.0) (24.1)\n",
      "Requirement already satisfied: pathlib-abc==0.1.1 in /Users/dpark_23/anaconda3/envs/DSC180/lib/python3.8/site-packages (from pathy>=0.3.5->spacy<3.1.0,>=3.0.1->en_ner_bionlp13cg_md==0.4.0) (0.1.1)\n",
      "Requirement already satisfied: typing-extensions>=3.7.4.3 in /Users/dpark_23/anaconda3/envs/DSC180/lib/python3.8/site-packages (from pydantic!=1.8,!=1.8.1,<1.9.0,>=1.7.4->spacy<3.1.0,>=3.0.1->en_ner_bionlp13cg_md==0.4.0) (4.12.2)\n",
      "Requirement already satisfied: charset-normalizer<4,>=2 in /Users/dpark_23/anaconda3/envs/DSC180/lib/python3.8/site-packages (from requests<3.0.0,>=2.13.0->spacy<3.1.0,>=3.0.1->en_ner_bionlp13cg_md==0.4.0) (3.3.2)\n",
      "Requirement already satisfied: idna<4,>=2.5 in /Users/dpark_23/anaconda3/envs/DSC180/lib/python3.8/site-packages (from requests<3.0.0,>=2.13.0->spacy<3.1.0,>=3.0.1->en_ner_bionlp13cg_md==0.4.0) (3.7)\n",
      "Requirement already satisfied: urllib3<3,>=1.21.1 in /Users/dpark_23/anaconda3/envs/DSC180/lib/python3.8/site-packages (from requests<3.0.0,>=2.13.0->spacy<3.1.0,>=3.0.1->en_ner_bionlp13cg_md==0.4.0) (2.2.3)\n",
      "Requirement already satisfied: certifi>=2017.4.17 in /Users/dpark_23/anaconda3/envs/DSC180/lib/python3.8/site-packages (from requests<3.0.0,>=2.13.0->spacy<3.1.0,>=3.0.1->en_ner_bionlp13cg_md==0.4.0) (2024.8.30)\n",
      "Requirement already satisfied: click<7.2.0,>=7.1.1 in /Users/dpark_23/anaconda3/envs/DSC180/lib/python3.8/site-packages (from typer<0.4.0,>=0.3.0->spacy<3.1.0,>=3.0.1->en_ner_bionlp13cg_md==0.4.0) (7.1.2)\n",
      "Requirement already satisfied: MarkupSafe>=2.0 in /Users/dpark_23/anaconda3/envs/DSC180/lib/python3.8/site-packages (from jinja2->spacy<3.1.0,>=3.0.1->en_ner_bionlp13cg_md==0.4.0) (2.1.3)\n",
      "Note: you may need to restart the kernel to use updated packages.\n"
     ]
    }
   ],
   "source": [
    "pip install https://s3-us-west-2.amazonaws.com/ai2-s2-scispacy/releases/v0.4.0/en_ner_bionlp13cg_md-0.4.0.tar.gz"
   ]
  },
  {
   "cell_type": "code",
   "execution_count": 32,
   "id": "1725bd39",
   "metadata": {},
   "outputs": [
    {
     "data": {
      "text/plain": [
       "'ARTICLE\\nMultication perovskite 2D/3D interfaces form via\\nprogressive dimensional reduction\\nAndrew H. Proppe1,2,10, Andrew Johnston2,10, Sam Teale2,10, Arup Mahata3,4,\\nRafael Quintero-Bermudez2, Eui Hyuk Jung2, Luke Grater2, Teng Cui5, Tobin Filleter5, Chang-Yong Kim6,\\nShana O. Kelley1,7, Filippo De Angelis3,4,8,9& Edward H. Sargent2✉\\nMany of the best-performing perovskite photovoltaic devices make use of 2D/3D interfaces,\\nwhich improve ef ﬁciency and stability –but it remains unclear how the conversion of 3D-to-\\n2D perovskite occurs and how these interfaces are assembled. Here, we use in situ Grazing-Incidence Wide-Angle X-Ray Scattering to resolve 2D/3D interface formation during spin-coating. We observe progressive dimensional reduction from 3D to n=3→2→1 when we\\nexpose (MAPbBr\\n3)0.05(FAPbI 3)0.95 perovskites to vinylbenzylammonium ligand cations.\\nDensity functional theory simulations suggest ligands incorporate sequentially into the 3Dlattice, driven by phenyl ring stacking, progressively bisecting the 3D perovskite into lower-dimensional fragments to form stable interfaces. Slowing the 2D/3D transformation with\\nhigher concentrations of antisolvent yields thinner 2D layers formed conformally onto 3D\\ngrains, improving carrier extraction and device ef ﬁciency (20% 3D-only, 22% 2D/3D).\\nControlling this progressive dimensional reduction has potential to further improve theperformance of 2D/3D perovskite photovoltaics.https://doi.org/10.1038/s41467-021-23616-9 OPEN\\n1Department of Chemistry, University of Toronto, Toronto, ON, Canada.2The Edward S. Rogers Department of Electrical and Computer Engineering,\\nUniversity of Toronto, Toronto, ON, Canada.3D3-Computation, Istituto Italiano di Tecnologia, Genova, Italy.4Computational Laboratory for Hybrid/Organic\\nPhotovoltaics (CLHYO), Istituto CNR di Scienze e Tecnologie Chimiche (CNR-SCITEC), Istituto CNR di Scienze e Tecnologie Molecolari (ISTM-CNR),Perugia, Italy.\\n5Department of Mechanical and Industrial Engineering, Toronto, ON, Canada.6Canadian Light Source, Saskatoon, SK, Canada.7Department\\nof Pharmaceutical Sciences, Leslie Dan Faculty of Pharmacy, University of Toronto, Toronto, ON, Canada.8Department of Chemistry, Biology and\\nBiotechnology, University of Perugia, Perugia, Italy.9Chemistry Department, College of Science, King Saud University, Riyadh, Saudi Arabia.10These authors\\ncontributed equally: Andrew H. Proppe, Andrew Johnston, Sam Teale.✉email: ted.sargent@utoronto.ca\\nNATURE COMMUNICATIONS |         (2021) 12:3472 | https://doi.org/10.1038/s41467-021-23616-9 | www.nature.com/naturecommunications 11234567890():,;2D/3D metal halide perovskite solar cells make use of\\nactive layers comprised of 3D perovskites capped by\\na thin layer of 2D or quasi-2D perovskites —also\\nknown as reduced-dimensional perovskites (RDPs). Devicesbased on these materials have been shown to have superior sta-\\nbility imparted by the RDP capping layer\\n1–3: RDPs exhibit\\nimproved stability relative to 3D analogs due to higher formation\\nenergies and favorable intermolecular bonding between ligand\\nmolecules4, their ability to suppress ion migration5,6, and\\nhydrophobic ligands that can repel water7. 2D/3D interfaces can\\nalso improve ﬁll factor and open-circuit voltage by passivating\\ntrap states, improving carrier extraction, and altering band\\nalignment8–10.\\n2D/3D interface formation is predominantly achieved\\nthrough solution-processing (vacuum-processing has also been\\ndemonstrated11), in which a 3D perovskite layer is ﬁrst deposited\\nand annealed, and the surface is then exposed to a solution\\ncontaining a low concentration of large ammonium cations (also\\nreferred to as ligand molecules) which transform part of the\\nsurface into RDPs (Fig. 1a). The thickness of these RDPs is\\ndesignated by the number of layers ( n) of perovskite octahedra\\nthat are enclosed by the ligand cations in the crystal structure.\\nPurely 2D ( n=1) RDPs are almost ubiquitously formed in 2D/\\n3D structures, with smaller proportions of n=2 often observed\\nas well1,2,12. The crystallinity and quality of the interface is also\\ngreatly affected by solvent: mixtures of isopropanol (needed to\\ndissolve the ligand) and nonpolar solvents like chlorobenzene or\\nchloroform are often used, although the isopropanol component\\ncan cause some redissolution of the 3D perovskite interface that is\\ndeleterious to performance13.\\nDespite the widespread use of 2D/3D interfaces to augment\\nperovskite device performance, their formation mechanism\\nremains unclear. The perovskite lattice components are known to\\nbe highly labile14,15, and cation exchange and insertion reactions\\ncan occur at room temperature16, including full conversion of\\npure PbI 2into n=1o r n=2 by exposure to ligand solutions17,\\nsuggesting a similarly low activation barrier for 2D/3D interfaceformation —but how the 3D perovskite is fragmented into low- n\\nRDPs, and whether this proceeds through intermediate states, is\\nunknown.\\nWe sought to gain insight into the formation mechanism of\\n2D/3D interfaces using in situ grazing-incidence wide-angle\\nX-ray scattering (GIWAXS), which can inform on the orientation\\nand d-spacing of any diffractive species that form during thespin-coating of the ligand solution. In situ GIWAXS has been\\nused previously to study the formation of 2D or 3D perovskites\\ndirectly from precursors in solution, tracking the formation of\\nintermediate states and precursor complexes that eventuallytransform into perovskite\\n18–21. Here we instead use this techni-\\nque to probe the transformation of the already fully-formed 3D\\nperovskite surface into RDPs, by collecting diffraction patterns\\nbefore, during, and after exposure of the 3D perovskite to a\\nsolution containing 2D ligand cations.\\nResults and discussion\\nXRD and in situ GIWAXS . We used the ligand cation 4-\\nvinylbenzylammonium bromide (VBABr, Fig. 1b), which we have\\nshown forms 2D/3D interfaces with RDPs that exhibit strong\\ndiffraction, and greatly improves the ef ﬁciency and stability of\\nphotovoltaic devices10,12. To obtain qvalues for the diffraction\\npeaks of low- nRDPs, we ﬁrst spin-coated thin ﬁlms of nhi=1, 2,\\nand 3 directly from RDP precursor solutions using the compo-\\nsition (VBABr) 2(FA 0.95MA 0.05)n−1Pbn(I0.95Br0.05)3n+1, which has\\nthe same cation and anion composition as the 2D/3D ﬁlms used\\nthroughout this work. X-ray diffraction (XRD) patterns for these\\nﬁlms are shown in Fig. 1c. The (001) diffraction peaks of n=1\\nand 2 were found to have q=0.37 Å−1and 0.29/0.30 Å−1,\\nrespectively, while an (001) n=3 peak could not be observed\\nfor these samples. The n=2 peak experiences a small shift in the\\nnhi=3ﬁlm, possibly due to strain. These qvalues are similar for\\nanalogous ﬁlms using the MA- and iodine-only composition\\n(VBABr) 2MA n−1PbnI3n+1(Supplementary Fig. 1), indicating that\\nthe RDPs with multication and multianion composition have\\nminimal shifting of their characteristic (001) diffraction peaks.\\nThe diffraction peak positions we observe for n=1 and 2 are also\\nvery similar to those we have previously measured and simulated\\nfor RDPs using the ligand phenethylammonium, PEA (owing to\\nthe structural similarity of PEA and VBA)21, where we found n=\\n3 PEA RDPs to diffract at q=0.22 Å. We assume a similar peak\\nfor the n=3 VBA RDPs here.\\nWe next used in situ GIWAXS in order to gain insight into the\\nformation of the 2D/3D interface. Measurements were performed\\nat the Brockhouse Beamline22at the Canadian Light Source using\\na custom homebuilt spinning platform (see Supporting Informa-\\ntion for details of the experimental setup and execution). In situ\\nGIWAXS patterns for ﬁlms of MAPbI 3treated with a solution of\\n5 mg/mL VBABr in isopropanol (IPA) are shown in Fig. 2a. Time\\n...3Dn = 2n = 1ab c\\n0.2 0.4 0.6 0.8 1 1.2\\nq (Å-1)01234567Counts106\\n3D-only\\n<n> = 1\\n<n> = 2\\n<n> = 3\\nx0.1n = 1n = 2VBABr\\nNH3Br\\nFig. 1 Diffraction from 2D/3D perovskite structures. a Illustration of a 2D/3D interface for consecutive layers of 3D, n=2, and n=1 RDPs. bSchematic of\\nthe in situ GIWAXS experimental system used herein. A solvent dripper is positioned directly above the sample, which is mounted on a motorized pole\\nwith double-sided carbon tape. A Kapton shield encircles the spinning sample, prevented liquid from splashing onto the X-ray optics and the detector .\\nVBABr: vinylbenzylammonium bromide. cEx situ XRD patterns of RDP thin ﬁlms with central nvalues of 1 –3, and 3D control. Patterns are offset for clarity.\\nNote: these are not 2D/3D perovskite thin ﬁlms, and were synthesized from solutions containing precursor ratios corresponding to each nvalue.ARTICLE NATURE COMMUNICATIONS | https://doi.org/10.1038/s41467-021-23616-9\\n2 NATURE COMMUNICATIONS |         (2021) 12:3472 | https://doi.org/10.1038/s41467-021-23616-9 | www.nature.com/naturecommunicationszero is taken to be the frame where spinning was engaged and the\\nligand solution is removed from the surface. In the initial\\nframe ( t=−6 s), we observe the expected isotropic diffraction\\nfrom the (110) plane of 3D MAPbI 3atq≈1.0 Å−1, and also a\\nsmaller amplitude peak at qz≈0.9 Å−1, which corresponds to\\nPbI 2. After soaking the surface with the ligand solution for ~6 s,\\nthe spinning is turned on at a speed of 1000 r.p.m. At t=1.05 s\\nafter spinning is initiated, a peak at qz≈0.50 Å−1is observed,\\nwhich then ( t=2.10 s) decays simultaneously with growth of a\\npeak at qz≈0.37 Å−1. This diffraction peak —which corresponds\\nto the (100) plane of n=1—then remains constant through to the\\nend of the experiment, which can be seen from a contour map of\\nazimuthally integrated GIWAXS patterns (Fig. 2b). The diffrac-\\ntion peaks for both the transient intermediate peak and the n=1\\npeak are strongly centered along qxy=0, indicating that the\\nspecies are oriented parallel with the substrate, which is often\\nobserved for low- nRDPs3,10,21,23.\\nThese experiments indicate that n=1 is not directly formed\\nfrom the MAPbI 3but rather transitions through an intermediate\\nstate. The peak at qz≈0.50 Å corresponds to a d-spacing of\\n12.6 Å, which is too large to be attributed to PbI 2and too small tobe attributed to an RDP ( n=1 has the smallest dof ~17 Å, and\\nhigher nRDPs have progressively larger das the thickness\\nincreases). Kim et al. observed a highly similar peak with q≈\\n0.55 Å−1that was also oriented along qz, during thermal\\ndegradation of MAPbI 3into PbI 2and other decomposition\\nproducts24. This peak is attributed to 2D PbI 2sheets that are\\nintercalated by MAI or solvent molecules. We therefore posit that\\neither IPA from the ligand solution or MAI that is being displaced\\nfrom the perovskite lattice are the species that intercalate into\\nPbI 2sheets. This is supported by additional experiments using\\nligand solutions containing chlorobenzene (CB) with IPA:CB\\nsolvent ratios of 3:1, 1:1, and 1:3. When CB is included in the\\nsolvent, we do not observe the intermediate species, indicating\\nthat IPA intercalates with PbI 2to form the intermediate species\\nduring 2D/3D interface formation. This suggests that these PbI 2\\nsheets template the subsequent formation of n=1 RDPs,\\nconsistent with the fact the diffraction peaks for the intercalated\\nPbI 2and n=1 are identical in shape and therefore orientation.\\nControl experiments using only IPA as the exposure solution\\nconﬁrmed that this peak only appears when ligands are included\\n(Supplementary Fig. 2), meaning cation displacement by the\\n0 0.5 1\\nqxy (Å-1)0 0.5 1\\nqxy (Å-1)00.20.40.60.81qz (Å-1)\\n0 0.5 1\\nqxy (Å-1)00 . 51\\nqxy (Å-1)00 . 51\\nqxy (Å-1)\\n0 0.5 1\\nqxy (Å-1)00.20.40.60.81qz (Å-1)\\n00 . 51\\nqxy (Å-1)00 . 51\\nqxy (Å-1)0500\\n0500a\\nd\\n← n = 3← n = 2← n = 1← n = 1\\nt = 0.35 s t = -7 s t = 1.75 s t = 3.50 st = 1.05 s t = -6 s t = 2.10 s t = 3.50 s\\n-5 0 5 10\\nt (s)0.20.40.60.81qz (Å-1)\\n-5 0 5 10\\nt (s)0.20.40.60.81qz (Å-1)\\n01000 bc3D\\n(110) → \\n3D\\n(110) → ← PbI2\\n(100)\\n← PbI2\\n(100)← i-PbI2\\n(100)\\nFig. 2 In situ GIWAXS patterns for (MAPbBr 3)0.05(FAPbI 3)0.95and MAPbI 3.aIn situ GIWAXS patterns in the range of q=−0.1–1.1 Å−1for a ﬁlm of\\nMAPbI 3treated with a solution of 5 mg/mL VBABr in IPA. i-PbI 2=intercalated PbI 2.bContour map of azimuthally integrated GIWAXS patterns for\\nMAPbI 3.cContour map and din situ GIWAXS patterns for a ﬁlm of (MAPbBr 3)0.05(FAPbI 3)0.95treated with a solution of 1 mM VBABr in 3:97 IPA:CF.\\nPatterns were collected with an incident angle of 0.1 ˚.NATURE COMMUNICATIONS | https://doi.org/10.1038/s41467-021-23616-9 ARTICLE\\nNATURE COMMUNICATIONS |         (2021) 12:3472 | https://doi.org/10.1038/s41467-021-23616-9 | www.nature.com/naturecommunications 3ligand molecules is also required to form this intermediate\\nintercalated PbI 2.\\nWe observe a very different 2D/3D transformation from in situ\\nGIWAXS experiments on multication and multianion perovskitesof composition (MAPbBr\\n3)0.05(FAPbI 3)0.95. Compared to\\nMAPbI 3, multication and -anion compositions achieve higher\\nPCEs in photovoltaic devices3,13,25. Accordingly, in order to best\\nsimulate the 2D/3D interfaces used in our devices10, we used a\\nsolution of 1 mM VBABr (~214.11 µg/mL) in 3:97 IPA:chloro-\\nform (CF). A lower proportion of IPA reduces perovskite\\ndissolution and surface trap state density13, and a lower\\nconcentration of ligands results in thinner RDP layers, which is\\nfavorable for carrier extraction and ﬁll factor11,12. To compare\\nfairly with our results from MAPbI 3, we also performed\\nexperiments with (MAPbBr 3)0.05(FAPbI 3)0.95 using 5 mg/mL\\nVBABr in IPA, and observed no intermediate state before the\\nformation of n=1 (Supplementary Fig. 3).\\nA contour map of azimuthally integrated in situ GIWAXS\\npatterns and four of the full patterns are shown in Fig. 2c and d.\\nIn contrast to MAPbI 3, rather than observing an intermediate\\nat higher q, we instead observe a small but discernible peak that\\nis overlapped with the specular re ﬂection near qz≈0.22 Å ( d≈\\n28.6 Å). This peak is only visible for a single frame before\\ndisappearing simultaneously with the appearance of another peak\\natqz≈0.30 Å ( d≈20.9 Å), which remains for ~1 s before\\ntransforming into a peak at qz≈0.37 Å ( d≈12.6 Å). The three\\npeaks are similar in shape and all oriented along qxy=0. These\\nd-spacings correspond to (001) diffraction planes of n=3, 2, and\\n1 RDPs.\\nIn order to more clearly observe these transitions, we took the\\naverage of the ﬁrst three frames of the experiment —which\\ncontained diffraction from the 3D perovskite, PbI 2, and the\\nspecular re ﬂection —and subtracted them from all subsequent\\nframes. A contour map of azimuthally integrated GIWAXS\\npatterns and traces near time zero are shown in Fig. 3. We can see\\nthat the subtraction cleanly removes the specular re ﬂection at low\\nqvalues, evidenced by ﬁrst pattern in Fig. 3b which corresponds\\nto the frame before the solvent exposure. Examining the patterns\\nbetween qz=0.15–0.45 Å reveals the distinct peak at qz≈0.22 Å\\nin the earliest frames after spinning is initiated, and clearly shows\\nthe evolution of n=3→2→1 in the ﬁrst few seconds of\\nspinning. The n=3→2→1 transition is most apparent when\\nusing the 1 mM VBABr 3:97 IPA:CF solution, but a clear n=\\n2→1 transition is also observed when using 5 mg/mL VBABr in\\na mixture 1:3 IPA:CB (Supplementary Fig. 4).Our experiments thus suggest that for (MAPbBr 3)0.05(-\\nFAPbI 3)0.95ﬁlms, the transformation from 3D perovskites into\\nRDPs occurs through a progressive reduction of dimensionality,\\nrather than the immediate formation of n=1. It is possible that\\neven higher nRDPs are formed initially, but the (001) diffraction\\npeaks for these species would be at too low qto be observed in\\nour experiment. Moreover, in such a sequence of reducing\\ndimensionality, we would expect diffraction of larger RDPs to be\\nweaker, since there would initially be few instances of adjacent\\nand periodic high- nRDPs, but once they split into lower- nRDPs,\\nthese structures would be immediately adjacent to each other,\\nthus promoting diffraction21. Considering the small percentage of\\nbromine in the (MAPbBr 3)0.05(FAPbI 3)0.95ﬁlms, we posit that the\\ndifference in the 2D/3D transformation pathways arises due to\\nthe greater stability of FAPbI 3compared to MAPbI 3, where the\\nlatter is known to exhibit poorer thermal stability due to loss of\\nvolatile species under thermal stress and is more easily converted\\nto PbI 226,27.\\nDFT simulations of interface formation and stabilization .I n\\nthe multication ﬁlms, we hypothesize that ligand molecules are\\nable to in ﬁltrate into and bisect a part of the 3D surface into high-\\nndomains, which undergo further bisection into lower- nRDPs.\\nWe illustrate such a process in Fig. 4a. Further studies would be\\nrequired to probe and con ﬁrm more microscopic picture of\\nligand in ﬁltration and sequential bisection of the 3D lattice, where\\nthe terminating cations along the surface are replaced by the\\nligand molecule.\\nThis idea is, however, supported by Density Functional\\nTheory (DFT) calculations, where we calculated the binding\\nenergy of two perovskite fragments at their interfaces while their\\nsurfaces are converted from MAI-terminated to VBA-terminated\\n(see Supporting Information for computational methods). These\\nstructures are shown in Fig. 4b, and a plot of the binding energy\\nversus number of incorporated VBA molecules is shown in\\nFig. 4c. The binding energy increases, approximately linearly,\\nwith each VBA ligand substituted into the interface, from −0.10\\neV for 1 VBA and up to −3.14 eV for 16 VBAs. If we gauge the\\nreaction energies per VBA molecule insertion, the values are in\\n−0.10,−0.11,−0.12,−0.14, and −0.20 eV for the systems with 1,\\n2, 4, 8, and 16 VBA molecules, respectively, showing that the\\nthermodynamics become increasingly favorable due to the π–π\\nstacking of the VBA molecules. We also examined binding\\nenergies at the interfaces between a fragment of n=1 terminated\\n05 1 0\\nt (s)0.20.40.60.81qz (Å-1)\\n0.2 0.3 0.4\\nqz (Å-1)Intensity (a.u.)abn = 1\\nn = 2n = 3\\n*\\nFig. 3 Background subtraction revealing n=3. aContour maps of azimuthally integrated in situ GIWAXS patterns after subtracting the average of the\\nﬁrst three frames before solvent exposure. bPatterns taken from within the dashed box indicated in panel a. The ﬁrst pattern labelled with an asterisk is\\ntaken directly before the solvent exposure, con ﬁrming the effectiveness of subtracting the average of the ﬁrst three frames.ARTICLE NATURE COMMUNICATIONS | https://doi.org/10.1038/s41467-021-23616-9\\n4 NATURE COMMUNICATIONS |         (2021) 12:3472 | https://doi.org/10.1038/s41467-021-23616-9 | www.nature.com/naturecommunicationsby VBA and a 3D fragment terminated by MA, PbI 2, and VBA\\n(Fig. 4d), which we found to be −1.85,−1.84, and −3.06 eV,\\nrespectively, again demonstrating the favorable thermodynamics\\nof VBA-VBA compared to other surface terminations of the 3D\\nperovskite. This binding energy likely results from phenyl ring\\nstacking: such interface stabilization via ligand interactions has\\nbeen noted previously for RDPs using PEA ligands, and was\\ninvoked to explain the improved stability of low- nRDPs\\ncompared to higher- nand quasi-3D structures4. We additionally\\ncalculate binding energies considering more commonly used\\ncations butylammonium (BTA) and PEA (Supplementary Fig. 5).\\nThe binding energies with 16 BTA and PEA molecules are −2.43\\nand−2.70 eV, respectively. The reaction energies per BTA and\\nPEA insertion are −0.15 and −0.17 eV, respectively, compared to\\n−0.20 eV for VBA. This supports our assertion that extended π–π\\nstacking at the interface makes the interface growth more\\nthermodynamically favorable. Here, we posit that the same\\nligand interactions are what cause the ligand molecules to bisect\\nthe 3D lattice and form an interface between two fragments, and\\nthus drives 2D/3D interface formation.\\nInﬂuence of 2D/3D formation on photovoltaic ef ﬁciency .\\nLastly, we examined the in ﬂuence of the different ligand solutions\\non photovoltaic device performance. Devices were fabricated in\\nann-i-p architecture comprised of ITO/SnO 2/3D perovskite/\\nRDPs/Spiro-OMeTAD/Au, following refs.3,10.J–Vcurves for\\ndevices with 2D/3D active layers fabricated with different solvent\\nconditions are shown in Fig. 5. Compared to control (3D-only)\\ndevices, the ﬁlms exposed to 1 mM VBABr that undergo pro-\\ngressive dimensional reduction have higher ﬁll factors (FF), open-circuit voltages ( VOC), and overall higher PCEs. These improve-\\nments imparted by the 2D/3D interface, relative to 3D-only ﬁlms,\\nhave been attributed to passivation by the RDPs and more\\nfavorable band alignment3,9,10,12. The 1 mM VBABr device also\\noutperforms a series of devices exposed to 5 mg/mL VBABr in\\nmixtures of IPA and CB (Fig. 5b). From this series, we see that\\ndecreasing the proportion of IPA leads to increased VOCandJSC,\\nwhereas FF remains fairly constant throughout (besides for the\\npure IPA solution).\\nThe increasing JSCwith decreasing IPA proportion can\\npartially be attributed to lessened dissolution of the underlying\\n3D layer when exposed to lower concentrations of IPA, which\\ndecreases the amount of 3D perovskite that is lost during the\\nligand exposure and preserves thicker, more absorptive activelayers. This could also contribute to the trend in V\\nOC. However,\\nwe posit that the improved photovoltaic metrics are also sensitive\\nto the assembly mechanism of the 2D/3D interface, which we\\nhave shown varies with different solvent combinations: when only\\nIPA is used, we observed no intermediate peaks during in situ\\nGIWAXS experiments, and n=1 RDPs appear to form directly\\n(Supplementary Fig. 3) —but when CB is included in the ligand\\nsolvent, we do observe the n=2→1 transition (Supplementary\\nFig. 4). IPA is the solvent which dissolves both VBABr and the\\nperovskite, whereas the CB or CF antisolvent is included to help\\nprevent dissolution of the perovskite surface. As the transient n=\\n3 and n=2 peaks are only observed when CB or CF are included\\nin the ligand solution, this suggests that the CB and CF\\nantisolvent serves the additional function of slowing down the\\ncation substitution reactions —which would require IPA to solvate\\nMA, FA, and VBABr —that are involved with the overall 2D/3D\\ntransformation. This would be consistent with the n=3→2→1\\n............i. ii. iii. iv.a\\nb\\n1248 1 6# of VBA molecules: \\n2 4 6 8 10 12 14 16\\n# of VBA molecules-3\\n-2\\n-1\\n0Binding energy (eV)\\n-3\\n-2\\n-1\\n0Binding energy (eV)MA-VBA PbI2-VBA VBA-VBAc\\nd\\nFig. 4 Proposed 3D-to-2D conversion mechanism and DFT simulations. a Hypothesized transformation of a 3D perovskite surface into RDPs via (i) an\\ninitial in ﬁltration of ligands and bisection of the lattice, (ii) formation of an n=3 RDP and further bisection, (iii) formation of n=2 and 1 RDPs, and (iv) ﬁnal\\nreduced-dimensional form of n=1.bModels used in DFT calculations to calculate binding energy of adjacent fragments, where the number of VBA\\nmolecules that substitute MA molecules on the surface are indicated above each structure. cBinding energy versus number of VBA molecules and d\\nbinding energies at 2D/3D interfaces formed by a VBA-terminated n=1 fragment sandwiched between 3D fragments terminated by MA (blue), PbI 2\\n(green), and VBA (red).NATURE COMMUNICATIONS | https://doi.org/10.1038/s41467-021-23616-9 ARTICLE\\nNATURE COMMUNICATIONS |         (2021) 12:3472 | https://doi.org/10.1038/s41467-021-23616-9 | www.nature.com/naturecommunications 5transition only being observed using a solution containing 1 mM\\nVBABr and 3:97 IPA:CF as the solvent, meaning the 2D/3D\\ntransformation proceeds slowest under these conditions, whereas\\nﬁlms exposed to 5 mg/mL VBABr in 1:3 IPA:CB undergo faster\\ncation substitution reactions, explaining why only the n=2→1\\ntransition is observed.\\nThe combined observations from our in situ GIWAXS\\nexperiments and our devices suggest that slower 2D/3D\\ntransformations are correlated with improved device perfor-\\nmance, since the 1 mM VBABr photovoltaic has the highest VOC,\\nFF, and PCE. This would also be consistent with the trend of\\nincreasing VOCand PCE with decreasing amounts of IPA for the\\nsolvent series. If we consider the 3D-to-2D transformation as\\nanalogous to crystal growth, then slower rates of transformation\\nor crystallization could lead to higher quality RDPs and thinner\\n2D layers. This may improve the optoelectronic and morpholo-\\ngical properties of the RDPs, as has been demonstrated generallyfor bulk perovskite and RDP thin ﬁlms used in photovoltaics and\\nLEDs28–30.\\n2D/3D interface surface morphology and carrier extraction .\\nWe collected atomic force microscopy (AFM) and scanning\\nelectron microscopy (SEM) images to examine the in ﬂuence of\\nthe different solvent conditions and corresponding 2D/3D\\ntransformations on the ﬁlm surface morphology (Fig. 6a, b). For\\nﬁlms exposed to ligands dissolved in pure IPA, we observe large\\n(micron-sized) unoriented ﬂakes on the surface that are not\\nconformal with the underlying 3D grains. Decreasing the con-\\ncentration of the IPA reduces the amount of large unoriented\\ncrystallites and the morphology begins to resemble that of the 3D\\ncontrol ﬁlm. For the lowest concentration of IPA using the 3:97\\nIPA:CF solution, the surface is highly similar to the 3D control\\n(with slightly lower roughness), indicating that the RDPs are\\nformed conformally on the surface. The 1:3 IPA:CB sample has\\nthe lowest surface roughness of the solvent series using 5 mg/mL\\nVBABr solutions, and was also the only ﬁlm in this series where\\nwe could observe an n=2→1 transition; whereas the 1 mM\\nVBABr has an even lower surface roughness and was the only\\nﬁlm to exhibit the n=3→2→1 transitions. These observations\\nare consistent with our hypothesis that lowering the concentra-\\ntion of IPA can slow down the growth of RDPs during 2D/3D\\ninterface formation: high concentrations of IPA causes rapid\\ngrowth of large RDP grains that are unoriented relative to the 3D\\nsurface, whereas high concentrations of antisolvent instead\\nfacilitate conformal growth of the RDPs on the 3D grains. The\\nslowest reaction rates may therefore yield higher quality RDPs\\nthrough improved passivation and better surface conformity,which would explain the improved device performance.\\nWe performed Time-of-Flight Secondary Ion Mass Spectro-\\nmetry (ToF-SIMS) to estimate the thickness of the RDP layers\\nusing depth pro ﬁles of the ligand-derived fragment C\\n9H12N+\\n(Supplementary Fig. 10). We roughly estimate RDP layer\\nthicknesses of 55, 40, 30, and 35 nm for IPA:CB ratios of 1:0,\\n3:1, 1:1, and 1:3, respectively, and 4 nm for the 1 mM solution.\\nThis is indicative of the faster RDP growth rates forming thicker\\nlayers, which is known to hinder charge extraction from 2D/3D\\ninterfaces12.\\nTo understand how the different 2D/3D interfaces affect charge\\nextraction in photovoltaic devices, we performed photolumines-\\ncence (PL) lifetime quenching experiments by comparing\\nlifetimes with and without a Spiro-OMeTAD quencher layer\\natop the 2D/3D interface (Fig. 6c)31–33. Aside from the 3D ﬁlm,\\nbiexponential ﬁts were required to ﬁt the PL lifetimes. The values\\nshown correspond to the longer of the two ﬁtted lifetimes, which\\nis most relevant for evaluating the extent of diffusion to and\\nextraction at the quencher layer. The 3D ﬁlm shows the strongest\\nquenching, and the 1 mM VBABr ﬁlm is also signi ﬁcantly\\nquenched (and has the longest unquenched lifetime). For the\\nremaining ﬁlms, we observe that 2D/3D interfaces formed with\\nhigher concentrations of IPA have lifetimes that are even longer\\nin the presence of the quencher, indicative of poor extraction of\\nholes by Spiro-OMeTAD. This is consistent with our results from\\nphotovoltaic devices, where higher IPA concentrations lead to\\nlower ﬁll factors.\\nWe have demonstrated using in situ GIWAXS that the\\nformation of 2D/3D interfaces proceeds via intermediate states\\nthat differ depending on perovskite composition. For MAPbI 3,\\nexposure to the ligand solution induces the formation of a 2D\\nlayer of PbI 2intercalated by solvent molecules, which is\\nsubsequently converted into n=1 RDPs. For (MAPbBr 3)0.05(-\\nFAPbI 3)0.95ﬁlms, there is a progressive dimensional reduction\\nfrom 3D fragments into n=3→2→1. DFT calculations ﬁnd0 0.2 0.4 0.6 0.8 1 1.2\\nVoltage (V)0510152025Current density (mA cm-2) Control\\nVBABr 1mM\\n0 0.2 0.4 0.6 0.8 1 1.2\\nVoltage (V)0510152025Current density (mA cm-2)\\nIPA:CB 1:0\\nIPA:CB 3:1\\nIPA:CB 1:1\\nIPA:CB 1:3a\\nbPCE (%): 21.9 ± 0.3 \\nVoc (V): 1.14 ± 0.01\\nJsc (mAcm-2): 24.2 ± 0.2\\nFF (%): 79.9 ± 1.2 PCE (%): 19.9 ± 0.5 \\nVoc (V): 1.06 ± 0.02\\nJsc (mAcm-2): 24.3 ± 0.4\\nFF (%): 77.7 ± 2.1 \\nPCE (%): 17.6 |18.7 |20.0 |21.1\\nVoc (V): 1.06 | 1.10 | 1.10 | 1.10\\nJsc (mAcm-2): 22.9 | 23.4 | 23.6 | 24.2\\nFF (%): 72.4 | 72.7 | 76.9 | 78.7\\nFig. 5 Photovoltaic devices for different 2D/3D formation conditions. a\\nReverse scan J–Vcurves and device metrics for photovoltaics with active\\nlayers exposed to 1 mM VBABr in 3:97 IPA:CF and a control device that was\\nnot exposed to any ligand solution (3D-only), and for bactive layers\\nexposed to 5 mg/mL VBABr in different ratios of IPA and CB. Figures of\\nmerit shown here are taken from the average of multiple devices (standarddeviations are shown alongside values in panel a, and are omitted in panel b\\nfor clarity. A boxplot of values measured for multiple devices and tabulated\\naverage values with standard deviations are given in Supplementary Fig. 6\\nand Supplementary Table 1). Forward scans were omitted here for clarity.\\nSee Supplementary Fig. 7 for forward and reverse scan J–Vcurves.ARTICLE NATURE COMMUNICATIONS | https://doi.org/10.1038/s41467-021-23616-9\\n6 NATURE COMMUNICATIONS |         (2021) 12:3472 | https://doi.org/10.1038/s41467-021-23616-9 | www.nature.com/naturecommunicationsthat the binding energy at the interface between two perovskite\\nfragments increases upon substitution with VBA molecules,\\nowing to the ring stacking interactions afforded by these\\nligand cations. We use these observations to hypothesize that\\nthe ligands in ﬁltrate and bisect the 3D perovskite to form lower-\\ndimensional fragments that continuously split into lower- nRDPs\\nbefore becoming n=1, in accordance with our observations from\\nin situ GIWAXS experiments. By comparing photovoltaic devices\\nwith 2D/3D interfaces fabricated using different ligand solutions,\\nwe posit that lowering the concentration of IPA in the ligand\\nsolution slows the interface formation, which leads to improved\\nphotovoltaic device performance. This is supported by AFM,\\nSEM, and ToF-SIMS measurements that reveal thicker and more\\ndisordered RDP layers are formed with higher concentrations of\\nIPA, which leads to poorer carrier extraction from 2D/3D\\ninterfaces as determined using PL lifetime quenching. Our work\\nhighlights how a fundamental understanding of 2D/3D interface\\nformation can inform on the design of superior devices. Future\\nstudies will be required to de ﬁnitively prove these microscopic\\nmechanisms we propose based on our experimental and\\ncomputational observations.\\nMethods\\nSynthesis of 4-vinylbenzylammonium bromide . One gram of 4-\\nvinylbenzylamine (VBA, 0.98 mL, 7.36 mmol, stored in a freezer prior to use) was\\nadded to 15 –30 mL of cold isopropanol (cooled in an ice bath). 0.65 mL of a\\nsolution of 48% HBr (6.62 mmol) was added dropwise to the cooled VBA/iso-propanol mixture. This mixture was left to react for 2 h, slowly warming up to\\nroom temperature. The solvent was then evaporated under reduced pressure and\\nthe remaining white solid was left to dry for an additional 30 min under mild\\nheating and vacuum (temperature was maintained at a maximum of 70 °C). The\\nsolid was then stirred in ~20 mL diethyl ether for 10 –15 min before being ﬁltered\\nand washed ﬁve times with diethyl ether. This washed solid white powder was then\\nrecrystallized by dissolving in boiling isopropanol and subsequently re-precipitated\\nwith diethyl ether. The recrystallized solid was isolated via vacuum ﬁltration,washed an additional three times with diethyl ether, and then held under vacuum\\nfor 16 h before being brought into a nitrogen glovebox for storage and use. We\\nperformed\\n1H NMR on the washed and recrystallized products to ensure that the\\nvinyl groups remained unreacted after exposure to heat when drying and recrys-\\ntallizing the solid.\\nFormation of 2D/3D perovskites on top surface . For 5 mg/mL ligand solutions,\\n5 mg of VBABr was dissolved in 1 mL of mixtures of isopropanol and chlor-obenzene. For 1 mM (~214.11 µg/mL) ﬁlms, we ﬁrst prepare a 10 mM stock\\nsolution in a 1:10 mixture of isopropanol and chloroform, before diluting with\\nchloroform to achieve a VBABr concentration of 1 mM. Following the addition ofchloroform, the solution will appear cloudy; adding a few drops (~20 µL) of iso-\\npropanol and vigorous shaking clari ﬁes the solution. In all cases, the ligand solu-\\ntion is passed through a 0.22 µm PTFE ﬁlter before use. For devices, 200 –300 µL of\\nligand solution is spin-coated onto annealed 3D ﬁlms at a spin speed of 4000 r.p.m.\\nfor 20 s. The ﬁlms are then transferred onto a hot plate to anneal at 150 °C for 30 s.\\nThis procedure follows refs.\\n3,10.\\nDeposition of nhi=1, 2, 3 RDPs . PbI 2, PbBr 2, MAI, MABr, and FAI precursors\\nwere dissolved according to formulas (VBABr) 2MA n−1PbnI3n+1and (VBABr) 2(-\\nFA0.95MA 0.05)n−1Pbn(I0.95Br0.05)3n+1in 4:1 DMF:DMSO with [Pb2+]=0.8 M. The\\nsolutions were stirred at 70 °C for 2 h, cooled to room temperature, ﬁltered (0.22\\nµm, PTFE), and spin-coated on cleaned glass slides at 4000 r.p.m. for 20 s. Films are\\nannealed at 70 °C for 10 min.\\nX-ray diffraction . XRD patterns were obtained using a Rigaku MiniFlex 600 dif-\\nfractometer (Bragg-Brentano geometry) equipped with a NaI scintillation counter\\ndetector and a monochromatized Cu K αradiation source ( λ=1.5406 A ̊) operating\\nat a voltage of 40 kV and current of 15 mA.\\nIn situ GIWAXS . GIWAXS measurements were conducted at the Hard X-ray\\nMicroAnalysis (HXMA) and Brockhouse X-ray Diffraction and Scattering Beam-\\nlines - Low Energy Wiggler (BXDS-WLE) beamlines of the Canadian Light Source\\n(CLS). An energy of 17.998 keV ( λ=0.6888 Å) was selected using a Si(111)\\nmonochromator. Patterns were collected on a SX165 CCD camera (Rayonix)\\nplaced at a distance of 157 mm from the sample. A lead beamstop was used toblock the direct beam. Images were calibrated using LaB6 and processed via the\\nNika software package (ref.\\n34) and the GIXSGUI MATLAB plug-in (ref.35). We\\nbuilt a sample holder with a motorized pole capable of rotating at 500 –5000 r.p.m.\\n0.4 µm\\n- 0.2 µm 1 µm (1:0) IPA:CB\\nRMS roughness: 117 nm0.8 µm\\n0.3 µm 1 µm (3:1) IPA:CB\\n44.9 nm- 0.2 µm\\n- 0.6 µm 1 µm (1:1) IPA:CB\\n42.5 nm- 0.55 µm\\n- 0.7 µm 1 µm (1:3) IPA:CB\\n29.29 nmControl\\n26.42 nm0.6 µm\\n0.4 µm1 µm 1 mM VBABr\\n41.6 nm0.27 µm\\n0.13 µm1 µm a\\nb\\n0 500 1000\\nTime (ns)10 µm\\n0 500 1000 1500\\nTime (ns)10 µm\\n0 500 1000 1500\\nTime (ns)10 µm\\n0 500 1000 1500\\nTime (ns)10 µm\\n0 500 1000 1500\\nTime (ns)10 µm\\n0 500 1000 1500\\nTime (ns)10-210-1100Counts (norm.)10 µm\\nc\\nUnquenched\\nQuenched\\n(Spiro-OMeTAD) Tq = 28 ns T   = 618 ns \\nTq = 358 ns T   = 1846 ns \\nTq = 798 ns T   = 1092 ns \\nTq = 1943 ns T   = 1415 ns \\nTq = 1796 ns T   = 617 ns Tq = 1770 ns T   = 860 ns \\nFig. 6 2D/3D surface morphology and carrier extraction. a AFM height images with root mean square (RMS) roughness and bSEM images of ﬁlms\\ntreated with different ligand solutions. cPL lifetimes and ﬁts for the same ﬁlms with ( Tq, quenched) and without ( T, unquenched) a Spiro-OMeTAD layer\\nspin-coated on top of the 2D/3D interfaces. The ﬁlms were photoexcited (532 nm), and emission collected, on the substrate side of the ﬁlm (glass/3D\\nperovskite interface). AFM and SEM images at different ranges and magni ﬁcations are shown in Supplementary Figs. 8 and 9, and ﬁtted PL lifetime\\nparameters are shown in Supplementary Table 2.NATURE COMMUNICATIONS | https://doi.org/10.1038/s41467-021-23616-9 ARTICLE\\nNATURE COMMUNICATIONS |         (2021) 12:3472 | https://doi.org/10.1038/s41467-021-23616-9 | www.nature.com/naturecommunications 7and integrated the unit into the fully translatable and rotatable GIWAXS sample\\nstage. This enabled us to alter the incident angle of the X-rays and the height of\\nthe spinning sample. After mounting a 3D perovskite sample, 100 –200 µl of the\\nligand solution was drawn into tubing directly above the sample. We then began\\ncollecting GIWAXS patterns every 0.35 s (limited by detector readout time). A fewframes are collected for the bare 3D perovskite before the solvent is released. After\\nwaiting ~5 –7 s for the solvent to soak the surface, the motor is turned on and the\\nsample begins to spin at 500 –2000 r.p.m. (the limit of the motor). Patterns were\\ncollected for up to 30 –60 s, depending on the experiment. We found that slower\\nspin speeds were required to observe transient species discussed herein, which\\notherwise were not captured with our time resolution of 0.35 s. Comparing ex situ\\nGIWAXS experiments performed over a range of 500 –2000 r.p.m., we found that\\nslower spin speeds resulted in stronger diffraction from the 2D perovskites, butotherwise qualitatively similar patterns (see Supporting Information, Supplemen-\\ntary Fig. 11).\\nComputational details . First-principles calculations based on density functional\\ntheory (DFT) are carried out as implemented in the PWSCF Quantum-Espresso\\npackage\\n36. Geometry optimization, including dispersion correction37, is performed\\nusing GGA-PBE38level of theory and the electrons-ions interactions are described\\nby ultrasoft pseudo-potentials39with electrons from I 5s, 5p; Br 4s, 4p; N, C 2s, 2p;\\nH 1s; Pb, 6s, 6p, 5d; shells explicitly included in calculations. Plane-wave basis setcutoffs for the smooth part of the wave functions and the augmented density were\\n40 and 320 Ry, respectively. Geometry optimizations are done with Gamma kpoint\\nsampling for 2 × 2 supercell slabs using the experimental cell parameters of tet-\\nragonal MAPbI\\n3along the periodic direction of the slabs, whereas a vacuum of\\nmore than 10 Å is introduced along the surface truncation direction. The bindingenergies in Fig. 4b are calculated using the following formula:\\nBinding energy ¼½E\\ntotal/C0Efragment1 /C0Efragment2 /C138\\nwhere E totalrepresents the relaxed energy of the entire systems, whereas E fragment1\\nand E fragment2 represent the single-point energy of the fragments cut from the\\noptimized models. The binding energies for Fig. 4d are calculated using the fol-\\nlowing formula:\\nBinding energy ¼½E2D=3D/C0E3D/C0fragment1 /C0E3D/C0fragment2 /C0E2D/C0fragment /C138=2\\nwhere E 2D/3D represents the relaxed energy of the 2D/3D systems, whereas\\nE3D-fragment1 ,E3D-fragment2 , and E 2D-fragment represent the single-point energy of the\\nfragments cut from the optimized 2D/3D slabs.\\nDevice fabrication . Devices were fabricated following identical procedures as in\\nref.2. ITO glass was cleaned by sequentially washing with detergent, deionized\\nwater, acetone, and isopropanol (IPA). ITO was then cleaned with ultraviolet ozonefor 15 min. The substrate was then spin-coated with a thin layer of SnO\\n2nano-\\nparticle solution (1:3:3, SnO 2(15% in water):IPA:water) at 3000 r.p.m. for 20 s, and\\nannealed in ambient air at 150 °C for 1 h. To fabricate perovskite solar cells basedon (FAPbI\\n3)0.95(MAPbBr 3)0.05, the perovskite solution was prepared by dissolving\\n889 mg ml−1of FAPbI 3,3 3 m g m l−1of MAPbBr 3, and 33 mg ml−1of MACl in\\nDMF/DMSO (8:1 v/v) mixed solvent. Then, the solution was coated onto the ITO/SnO\\n2substrate by two consecutive spin-coating steps, at 1000 and 2500 r.p.m. for 5\\nand 20 s, respectively. During the second spin-coating (2500 r.p.m.) step, 1 ml of\\ndiethyl ether was poured onto the substrate after 15 s. The intermediate phase\\nsubstrate was then put on a hot plate at 150 °C for 10 min. After the fabrication of\\nthe 3D perovskite ﬁlm, the 2D layer was fabricated by depositing a solution of 4-\\nvinylbenzylammonium bromide in mixed solvent (5 mg/mL in 1:0, 3:1, 1:1, and 1:3\\nIPA:CB or 1 mM in 3:97 IPA:CF) onto the perovskite ﬁlm, for 3 –5 s, and then\\nspinning the substrate at 4000 r.p.m. for 10 s. Then, the substrate was heat-treatedat 150 °C for 30 s. For deposition of the hole-transport material, a spiro-OMeTAD\\nsolution in chlorobenzene (CB) (90.9 mg ml\\n−1) was prepared, and 23 μl of lithium-\\nbis(tri ﬂuoromethanesulfonyl) imide (Li-TFSI) solution in acetonitrile (ACN) (540\\nmg ml−1) and 39 μl of pure 4- tert-butylpyridine ( tBP) were added in 1.1 ml of the\\nsolution. The spiro-OMeTAD solution including additives was spin-coated ontothe perovskite surface at 1750 r.p.m. for 30 s. Finally, a gold electrode was deposited\\nby thermal evaporation.\\nDevice testing . The current density-voltage ( J–V) characteristics were measured\\nusing a Keithley 2400 source meter under illumination from a solar simulator\\n(Newport, Class A) with a light intensity of 100 mW cm\\n−2(checked with a cali-\\nbrated reference solar cell from Newport). Unless otherwise stated, the J–Vcurves\\nwere all measured in a nitrogen atmosphere with a scanning rate of 100 mV s−1\\n(voltage step of 20 mV and delay time of 200 ms). The active area of 0.049 cm2was\\ndeﬁned by the aperture shade mask placed in front of the solar cell. A spectral\\nmismatch factor of 1 was used for all J–Vmeasurements. The chamber containing\\nthe cells for testing was purged with and maintained under nitrogen ﬂow during\\nthe measurements.\\nAtomic force microscopy . AFM images were collected using a Cypher in tapping\\nmode with a fast-scanning silicon tip (calibrated spring constant k=10.6 N/m, f=\\n1393.303 kHz, tip model: FS-1500AuD from Asylum Research).Scanning electron microscopy imaging . SEM imaging was done using a Hitachi\\nSU 5000, Schottky Field Emission, scanning electron microscope, at 1.0 kV beam\\nenergy.\\nTime-of- ﬂight secondary ion mass spectrometry (ToF-SIMS) . The samples\\nwere examined using an ION-TOF (GmbH) TOF-SIMS IV equipped with a Bi\\ncluster liquid metal ion source. A pulsed 25 keV Bi 3+cluster primary ion beam was\\nused to bombard the sample surface to generate secondary ions. The negativesecondary ions were extracted from the sample surface, mass separated, and\\ndetected via a re ﬂectron-type of time-of- ﬂight analyzer, allowing parallel detection\\nof ion fragments having a mass/charge ratio ( m/z) up to ~900 within each cycle\\n(100 μs). A pulsed, low energy electron ﬂood was used to neutralize sample\\ncharging. This technique is extremely surface sensitive, probing only the top 1 –3\\nnm of the sample. The detection limits are believed to be in the range of ppb –ppm,\\ndepending upon the ion yield of different elements or species. Note that ToF-SIMS\\nis not a quantitative analytical technique because ion yields for different elementsare very different and dependent on the chemical environment in which the ele-\\nments exist (matrix effect).\\nIn order to depth pro ﬁle the ﬁve samples, a 10 keV C\\n60+ion beam was used to\\nsputter the surface in an area of 200 µm × 200 µm, and positive ion mass spectra\\nwere collected at 128 × 128 pixels over a smaller area (128 µm × 128 µm) within the\\nsputtered area. The depth pro ﬁle data were obtained by sputtering the surface with\\nthe C 60+beam for 2 s followed by a 0.5-s pause before Bi 3+was used to analyse the\\nnewly-generated surface. The depth of the crater generated as a result of the depth\\nproﬁling was measured using a mechanical stylus pro ﬁlometer (KLA-Tencor P-17),\\nwhich allows the calibration of depth.\\nPhotoluminescence lifetime quenching . Perovskite ﬁlms were deposited onto\\ncleaned glass slides, followed by a Spiro-OMeTAD layer (both layers were coated\\nunder the same conditions as used for devices, see above). PL lifetime measure-ments were performed using a Horiba Fluorolog Time Correlated Single Photon\\nCounting (TCSPC) system with photomultiplier tube detectors. A pulsed laser\\ndiode (504 nm, 110 –140 ps pulse width) was used as the excitation source with a\\n400–1600 ns period (0.28 nJ per pulse) was used to capture accurate lifetimes\\ncarrier lifetimes. Excitation and emission collection were performed on the bottom\\n(glass) side of the ﬁlm.\\nReporting summary . Further information on experimental design is available in\\nthe Nature Research Reporting Summary linked to this paper.\\nData availability\\nAll the datasets that support the ﬁndings of this study are available from the\\ncorresponding author upon reasonable request.\\nCode availability\\nAll code used to analyze data and support the ﬁndings of this study are available from the\\ncorresponding author upon reasonable request. GIWAXS patterns were analyzed using\\nGIXSGUI in MATLAB ( https://www.aps.anl.gov/Science/Scienti ﬁc-Software/\\nGIXSGUI )35.\\nReceived: 8 February 2021; Accepted: 10 May 2021;\\nReferences\\n1. Sutanto, A. A. et al. In situ analysis reveals the role of 2D perovskite in\\npreventing thermal-induced degradation in 2D/3D perovskite interfaces. Nano\\nLett. 20, 3992 –3998 (2020).\\n2. Cho, K. T. et al. Selective growth of layered perovskites for stable and ef ﬁcient\\nphotovoltaics. Energy Environ. Sci. 11, 952–959 (2018).\\n3. Jung, E. H. et al. Ef ﬁcient, stable and scalable perovskite solar cells using poly\\n(3-hexylthiophene). Nature 567, 511 (2019).\\n4. Quan, L. N. et al. Ligand-stabilized reduced-dimensionality perovskites. J. Am.\\nChem. Soc. 138, 2649 –2655 (2016).\\n5. Lin, Y. et al. Suppressed ion migration in low-dimensional perovskites. ACS\\nEnergy Lett. 2, 1571 –1572 (2017).\\n6. Huang, Z. et al. Suppressed ion migration in reduced-dimensional perovskites\\nimproves operating stability. ACS Energy Lett. 4, 1521 –1527 ( 2019 ).\\n7. Liu, Y. et al. Ultrahydrophobic 3D/2D ﬂuoroarene bilayer-based water-\\nresistant perovskite solar cells with ef ﬁciencies exceeding 22%. Sci. Adv. 5,\\neaaw2543 (2019).\\n8. Gharibzadeh, S. et al. Record open-circuit voltage wide-bandgap perovskite\\nsolar cells utilizing 2D/3D perovskite heterostructure. Adv. Energy Mater. 9,\\n1803699 (2019).ARTICLE NATURE COMMUNICATIONS | https://doi.org/10.1038/s41467-021-23616-9\\n8 NATURE COMMUNICATIONS |         (2021) 12:3472 | https://doi.org/10.1038/s41467-021-23616-9 | www.nature.com/naturecommunications9. Jiang, Q. et al. Surface passivation of perovskite ﬁlm for ef ﬁcient solar cells.\\nNat. Photonics 13, 460–466 (2019).\\n10. Teale, S. et al. Dimensional mixing increases the ef ﬁciency of 2D/3D\\nperovskite solar cells. J. Phys. Chem. Lett. 11, 5115 –5119 (2020).\\n11. La-Placa, M.-G. et al. Vacuum-deposited 2D/3D perovskite heterojunctions.\\nACS Energy Lett. 4, 2893 –2901 (2019).\\n12. Proppe, A. H. et al. Photochemically cross-linked quantum well ligands for\\n2D/3D perovskite photovoltaics with improved photovoltage and stability. J.\\nAm. Chem. Soc .141, 14180 –14189 (2019).\\n13. Yoo, J. J. et al. An interface stabilized perovskite solar cell with high stabilized\\nefﬁciency and low voltage loss. Energy Environ. Sci. 12, 2192 –2199 (2019).\\n14. Yuan, Y. & Huang, J. Ion migration in organometal trihalide perovskite and its\\nimpact on photovoltaic ef ﬁciency and stability. Acc. Chem. Res. 49, 286–293\\n(2016).\\n15. Mosconi, E. & De Angelis, F. Mobile ions in organohalide perovskites: interplay\\nof electronic structure and dynamics. ACS Energy Lett. 1,1 8 2–188 (2016).\\n16. Eperon, G. E., Beck, C. E. & Snaith, H. J. Cation exchange for thin ﬁlm lead\\niodide perovskite interconversion. Mater. Horiz. 3,6 3–71 (2016).\\n17. Liang, K., Mitzi, D. B. & Prikas, M. T. Synthesis and characterization of\\norganic −inorganic perovskite thin ﬁlms prepared using a versatile two-step\\ndipping technique. Chem. Mater. 10, 403–411 (1998).\\n18. Szostak, R. et al. Revealing the perovskite ﬁlm formation using the gas\\nquenching method by in situ GIWAXS: morphology, properties, and device\\nperformance. Adv. Funct. Mater. 31, 2007473 (2021).\\n19. Moral, R. F. et al. Synthesis of polycrystalline Ruddlesden –Popper organic lead\\nhalides and their growth dynamics. Chem. Mater. 31, 9472 –9479 (2019).\\n20. Dong, J. et al. Mechanism of crystal formation in Ruddlesden –Popper Sn-\\nbased perovskites. Adv. Funct. Mater. 30, 2001294 (2020).\\n21. Quintero-Bermudez, R. et al. Compositional and orientational control in metal\\nhalide perovskites of reduced dimensionality. Nat. Mater. 17, 900 (2018).\\n22. Leontowich, A. F. G. et al. The lower energy diffraction and scattering side-\\nbounce beamline for materials science at the Canadian Light Source. J.\\nSynchrotron. Radiat .28, 961–969 (2021).\\n23. Bouduban, M. E. F. et al. Crystal orientation drives the interface physics at\\ntwo/three-dimensional hybrid perovskites. J. Phys. Chem. Lett. 10, 5713 –5720\\n(2019).\\n24. Kim, N.-K. et al. Investigation of thermally induced degradation in\\nCH 3NH 3PbI 3perovskite solar cells using in-situ synchrotron radiation\\nanalysis. Sci. Rep. 7, 4645 (2017).\\n25. Xu, J. et al. Triple-halide wide –band gap perovskites with suppressed phase\\nsegregation for ef ﬁcient tandems. Science 367, 1097 –1104 (2020).\\n26. Smecca, E. et al. Stability of solution-processed MAPbI 3and FAPbI 3layers.\\nPhys. Chem. Chem. Phys. 18, 13413 –13422 (2016).\\n27. Knight, A. J. et al. Halide segregation in mixed-halide perovskites: in ﬂuence of\\nA-site cations. ACS Energy Lett. 6, 799–808 (2021).\\n28. Guo, F. et al. A generalized crystallization protocol for scalable deposition of\\nhigh-quality perovskite thin ﬁlms for photovoltaic applications. Adv. Sci. 6,\\n1901067 (2019).\\n29. Liu, C., Cheng, Y.-B. & Ge, Z. Understanding of perovskite crystal growth and ﬁlm\\nformation in scalable deposition processes. Chem. Soc. Rev. 49, 1653 –1687 (2020).\\n30. Yuan, F. et al. Color-pure red light-emitting diodes based on two-dimensional\\nlead-free perovskites. Sci. Adv. 6, eabb0253 (2020).\\n31. Lee, E. M. Y. & Tisdale, W. A. Determination of exciton diffusion length by\\ntransient photoluminescence quenching and its application to quantum dotﬁlms. J. Phys. Chem. C. 119, 9005 –9015 (2015).\\n32. Stranks, S. D. et al. Electron-hole diffusion lengths exceeding 1 micrometer in\\nan organometal trihalide perovskite absorber. Science 342, 341–344 (2013).\\n33. Proppe, A. H. et al. Synthetic control over quantum well width distribution\\nand carrier migration in low-dimensional perovskite photovoltaics. J. Am.\\nChem. Soc. 140, 2890 –2896 (2018).\\n34. Ilavsky, J. Nika: software for two-dimensional data reduction. J. Appl.\\nCrystallogr. 45, 324–328 (2012).\\n35. Jiang, Z. GIXSGUI: a MATLAB toolbox for grazing-incidence X-ray scattering\\ndata visualization and reduction, and indexing of buried three-dimensional\\nperiodic nanostructured ﬁlms. J. Appl. Crystallogr. 48, 917–926 (2015).\\n36. Giannozzi, P. et al. QUANTUM ESPRESSO: a modular and open-source\\nsoftware project for quantum simulations of materials. J. Phys. Condens.\\nMatter 21, 395502 (2009).37. Grimme, S., Antony, J., Ehrlich, S. & Krieg, H. A consistent and accurate ab\\ninitio parametrization of density functional dispersion correction (DFT-D) forthe 94 elements H-Pu. J. Chem. Phys. 132, 154104 (2010).\\n38. Perdew, J. P., Burke, K. & Ernzerhof, M. Generalized gradient approximation\\nmade simple. Phys. Rev. Lett. 77, 3865 –3868 (1996).\\n39. Vanderbilt, D. Soft self-consistent pseudopotentials in a generalized\\neigenvalue formalism. Phys. Rev. B 41, 7892 –\\n7895 (1990).\\nAcknowledgements\\nThis work was supported in part by the US Department of the Navy, Of ﬁce of Naval\\nResearch (grant awards no. N00014-17-1-2524 and N00014-20-1-2572), the NaturalSciences and Engineering Research Council of Canada (NSERC), and the CanadaFoundation for Innovation (CFI). A.H.P. was supported by the Canada Graduate\\nScholarships program from NSERC. The authors thank the Canadian Light Source (CLS)\\nfor support in the form of a travel grant. GIWAXS patterns were collected at the BXDS-WLE Beamline at the CLS with the assistance of Dr. Chang-Yong Kim andDr. Adam Leontowich. The CLS is funded by NSERC, the Canadian Institutes of Health\\nResearch, CFI, the Government of Saskatchewan, Western Economic Diversi ﬁcation\\nCanada, and the University of Saskatchewan. S.E.M. images were taken at the OntarioCenter for the Characterization of Advanced Materials (OCCAM). ToF-SIMS mea-surements were performed at Surface Science Western at the University of WesternOntario.\\nAuthor contributions\\nA.H.P., A.J., S.T., and R.Q.-B. conceived the idea, designed the experiments, and per-\\nformed in situ GIWAXS experiments. A.J. and S.T. performed XRD and PL quenching\\nexperiments. S.T. and L.G. fabricated ﬁlms and solar cell devices. A.M. and F.D.A.\\nperformed Density Functional Theory simulations. E.H.J. advised on solar cell fabrica-tion. T.C. and T.F. performed AFM measurements. C.-Y.K. provided technical assistanceand supervision for GIWAXS experiments at the CLS. F.D.A. and S.O.K. provided\\ntechnical feedback for the manuscript. A.H.P., A.J., S.T., A.M., and E.H.S. wrote the\\nmanuscript. All authors read and commented on the manuscript.\\nCompeting interests\\nThe authors declare no competing interests.\\nAdditional information\\nSupplementary information The online version contains supplementary material\\navailable at https://doi.org/10.1038/s41467-021-23616-9 .\\nCorrespondence and requests for materials should be addressed to E.H.S.\\nPeer review information Nature Communications thanks the anonymous reviewer(s) for\\ntheir contribution to the peer review of this work. Peer reviewer reports are available.\\nReprints and permission information is available at http://www.nature.com/reprints\\nPublisher ’s note Springer Nature remains neutral with regard to jurisdictional claims in\\npublished maps and institutional af ﬁliations.\\nOpen Access This article is licensed under a Creative Commons\\nAttribution 4.0 International License, which permits use, sharing,\\nadaptation, distribution and reproduction in any medium or format, as long as you giveappropriate credit to the original author(s) and the source, provide a link to the Creative\\nCommons license, and indicate if changes were made. The images or other third party\\nmaterial in this article are included in the article ’s Creative Commons license, unless\\nindicated otherwise in a credit line to the material. If material is not included in thearticle ’s Creative Commons license and your intended use is not permitted by statutory\\nregulation or exceeds the permitted use, you will need to obtain permission directly fromthe copyright holder. To view a copy of this license, visit http://creativecommons.org/\\nlicenses/by/4.0/ .\\n© The Author(s) 2021NATURE COMMUNICATIONS | https://doi.org/10.1038/s41467-021-23616-9 ARTICLE\\nNATURE COMMUNICATIONS |         (2021) 12:3472 | https://doi.org/10.1038/s41467-021-23616-9 | www.nature.com/naturecommunications 9'"
      ]
     },
     "execution_count": 32,
     "metadata": {},
     "output_type": "execute_result"
    }
   ],
   "source": [
    "import PyPDF2\n",
    "\n",
    "def extract_text_from_pdf(pdf_path):\n",
    "    with open(pdf_path, 'rb') as file:\n",
    "        reader = PyPDF2.PdfReader(file)\n",
    "        text = \"\"\n",
    "        for page in reader.pages:\n",
    "            text += page.extract_text()\n",
    "    return text\n",
    "\n",
    "pdf_path = '5.pdf'\n",
    "extracted_text = extract_text_from_pdf(pdf_path)\n",
    "\n",
    "extracted_text"
   ]
  },
  {
   "cell_type": "code",
   "execution_count": 33,
   "id": "62d62a89-ef87-4ac6-8a70-04f8a4e0d87e",
   "metadata": {},
   "outputs": [
    {
     "name": "stdout",
     "output_type": "stream",
     "text": [
      "Requirement already satisfied: nmslib in /Users/dpark_23/anaconda3/envs/DSC180/lib/python3.8/site-packages (2.1.1)\n",
      "Requirement already satisfied: pybind11<2.6.2 in /Users/dpark_23/anaconda3/envs/DSC180/lib/python3.8/site-packages (from nmslib) (2.6.1)\n",
      "Requirement already satisfied: psutil in /Users/dpark_23/anaconda3/envs/DSC180/lib/python3.8/site-packages (from nmslib) (5.9.0)\n",
      "Requirement already satisfied: numpy>=1.10.0 in /Users/dpark_23/anaconda3/envs/DSC180/lib/python3.8/site-packages (from nmslib) (1.24.3)\n",
      "Note: you may need to restart the kernel to use updated packages.\n"
     ]
    }
   ],
   "source": [
    "pip install --no-binary :all: nmslib"
   ]
  },
  {
   "cell_type": "code",
   "execution_count": 34,
   "id": "88bb0bbc",
   "metadata": {},
   "outputs": [
    {
     "ename": "TypeError",
     "evalue": "issubclass() arg 1 must be a class",
     "output_type": "error",
     "traceback": [
      "\u001b[0;31m---------------------------------------------------------------------------\u001b[0m",
      "\u001b[0;31mTypeError\u001b[0m                                 Traceback (most recent call last)",
      "Cell \u001b[0;32mIn[34], line 7\u001b[0m\n\u001b[1;32m      4\u001b[0m \u001b[38;5;28;01mfrom\u001b[39;00m \u001b[38;5;21;01mscispacy\u001b[39;00m\u001b[38;5;21;01m.\u001b[39;00m\u001b[38;5;21;01mlinking\u001b[39;00m \u001b[38;5;28;01mimport\u001b[39;00m EntityLinker\n\u001b[1;32m      5\u001b[0m \u001b[38;5;66;03m#nlp = spacy.load(\"en_ner_bionlp13cg_md\")\u001b[39;00m\n\u001b[1;32m      6\u001b[0m \u001b[38;5;66;03m#nlp = spacy.load(\"en_core_web_sm\")\u001b[39;00m\n\u001b[0;32m----> 7\u001b[0m nlp \u001b[38;5;241m=\u001b[39m \u001b[43mspacy\u001b[49m\u001b[38;5;241;43m.\u001b[39;49m\u001b[43mload\u001b[49m\u001b[43m(\u001b[49m\u001b[38;5;124;43m\"\u001b[39;49m\u001b[38;5;124;43men_core_sci_sm\u001b[39;49m\u001b[38;5;124;43m\"\u001b[39;49m\u001b[43m)\u001b[49m\n\u001b[1;32m      9\u001b[0m \u001b[38;5;28;01mdef\u001b[39;00m \u001b[38;5;21mfilter_perovskite_content\u001b[39m(text):\n\u001b[1;32m     10\u001b[0m     doc \u001b[38;5;241m=\u001b[39m nlp(text)\n",
      "File \u001b[0;32m~/anaconda3/envs/DSC180/lib/python3.8/site-packages/spacy/__init__.py:50\u001b[0m, in \u001b[0;36mload\u001b[0;34m(name, vocab, disable, exclude, config)\u001b[0m\n\u001b[1;32m     29\u001b[0m \u001b[38;5;28;01mdef\u001b[39;00m \u001b[38;5;21mload\u001b[39m(\n\u001b[1;32m     30\u001b[0m     name: Union[\u001b[38;5;28mstr\u001b[39m, Path],\n\u001b[1;32m     31\u001b[0m     \u001b[38;5;241m*\u001b[39m,\n\u001b[0;32m   (...)\u001b[0m\n\u001b[1;32m     35\u001b[0m     config: Union[Dict[\u001b[38;5;28mstr\u001b[39m, Any], Config] \u001b[38;5;241m=\u001b[39m util\u001b[38;5;241m.\u001b[39mSimpleFrozenDict(),\n\u001b[1;32m     36\u001b[0m ) \u001b[38;5;241m-\u001b[39m\u001b[38;5;241m>\u001b[39m Language:\n\u001b[1;32m     37\u001b[0m \u001b[38;5;250m    \u001b[39m\u001b[38;5;124;03m\"\"\"Load a spaCy model from an installed package or a local path.\u001b[39;00m\n\u001b[1;32m     38\u001b[0m \n\u001b[1;32m     39\u001b[0m \u001b[38;5;124;03m    name (str): Package name or model path.\u001b[39;00m\n\u001b[0;32m   (...)\u001b[0m\n\u001b[1;32m     48\u001b[0m \u001b[38;5;124;03m    RETURNS (Language): The loaded nlp object.\u001b[39;00m\n\u001b[1;32m     49\u001b[0m \u001b[38;5;124;03m    \"\"\"\u001b[39;00m\n\u001b[0;32m---> 50\u001b[0m     \u001b[38;5;28;01mreturn\u001b[39;00m \u001b[43mutil\u001b[49m\u001b[38;5;241;43m.\u001b[39;49m\u001b[43mload_model\u001b[49m\u001b[43m(\u001b[49m\n\u001b[1;32m     51\u001b[0m \u001b[43m        \u001b[49m\u001b[43mname\u001b[49m\u001b[43m,\u001b[49m\u001b[43m \u001b[49m\u001b[43mvocab\u001b[49m\u001b[38;5;241;43m=\u001b[39;49m\u001b[43mvocab\u001b[49m\u001b[43m,\u001b[49m\u001b[43m \u001b[49m\u001b[43mdisable\u001b[49m\u001b[38;5;241;43m=\u001b[39;49m\u001b[43mdisable\u001b[49m\u001b[43m,\u001b[49m\u001b[43m \u001b[49m\u001b[43mexclude\u001b[49m\u001b[38;5;241;43m=\u001b[39;49m\u001b[43mexclude\u001b[49m\u001b[43m,\u001b[49m\u001b[43m \u001b[49m\u001b[43mconfig\u001b[49m\u001b[38;5;241;43m=\u001b[39;49m\u001b[43mconfig\u001b[49m\n\u001b[1;32m     52\u001b[0m \u001b[43m    \u001b[49m\u001b[43m)\u001b[49m\n",
      "File \u001b[0;32m~/anaconda3/envs/DSC180/lib/python3.8/site-packages/spacy/util.py:324\u001b[0m, in \u001b[0;36mload_model\u001b[0;34m(name, vocab, disable, exclude, config)\u001b[0m\n\u001b[1;32m    322\u001b[0m     \u001b[38;5;28;01mreturn\u001b[39;00m get_lang_class(name\u001b[38;5;241m.\u001b[39mreplace(\u001b[38;5;124m\"\u001b[39m\u001b[38;5;124mblank:\u001b[39m\u001b[38;5;124m\"\u001b[39m, \u001b[38;5;124m\"\u001b[39m\u001b[38;5;124m\"\u001b[39m))()\n\u001b[1;32m    323\u001b[0m \u001b[38;5;28;01mif\u001b[39;00m is_package(name):  \u001b[38;5;66;03m# installed as package\u001b[39;00m\n\u001b[0;32m--> 324\u001b[0m     \u001b[38;5;28;01mreturn\u001b[39;00m \u001b[43mload_model_from_package\u001b[49m\u001b[43m(\u001b[49m\u001b[43mname\u001b[49m\u001b[43m,\u001b[49m\u001b[43m \u001b[49m\u001b[38;5;241;43m*\u001b[39;49m\u001b[38;5;241;43m*\u001b[39;49m\u001b[43mkwargs\u001b[49m\u001b[43m)\u001b[49m\n\u001b[1;32m    325\u001b[0m \u001b[38;5;28;01mif\u001b[39;00m Path(name)\u001b[38;5;241m.\u001b[39mexists():  \u001b[38;5;66;03m# path to model data directory\u001b[39;00m\n\u001b[1;32m    326\u001b[0m     \u001b[38;5;28;01mreturn\u001b[39;00m load_model_from_path(Path(name), \u001b[38;5;241m*\u001b[39m\u001b[38;5;241m*\u001b[39mkwargs)\n",
      "File \u001b[0;32m~/anaconda3/envs/DSC180/lib/python3.8/site-packages/spacy/util.py:357\u001b[0m, in \u001b[0;36mload_model_from_package\u001b[0;34m(name, vocab, disable, exclude, config)\u001b[0m\n\u001b[1;32m    342\u001b[0m \u001b[38;5;250m\u001b[39m\u001b[38;5;124;03m\"\"\"Load a model from an installed package.\u001b[39;00m\n\u001b[1;32m    343\u001b[0m \n\u001b[1;32m    344\u001b[0m \u001b[38;5;124;03mname (str): The package name.\u001b[39;00m\n\u001b[0;32m   (...)\u001b[0m\n\u001b[1;32m    354\u001b[0m \u001b[38;5;124;03mRETURNS (Language): The loaded nlp object.\u001b[39;00m\n\u001b[1;32m    355\u001b[0m \u001b[38;5;124;03m\"\"\"\u001b[39;00m\n\u001b[1;32m    356\u001b[0m \u001b[38;5;28mcls\u001b[39m \u001b[38;5;241m=\u001b[39m importlib\u001b[38;5;241m.\u001b[39mimport_module(name)\n\u001b[0;32m--> 357\u001b[0m \u001b[38;5;28;01mreturn\u001b[39;00m \u001b[38;5;28;43mcls\u001b[39;49m\u001b[38;5;241;43m.\u001b[39;49m\u001b[43mload\u001b[49m\u001b[43m(\u001b[49m\u001b[43mvocab\u001b[49m\u001b[38;5;241;43m=\u001b[39;49m\u001b[43mvocab\u001b[49m\u001b[43m,\u001b[49m\u001b[43m \u001b[49m\u001b[43mdisable\u001b[49m\u001b[38;5;241;43m=\u001b[39;49m\u001b[43mdisable\u001b[49m\u001b[43m,\u001b[49m\u001b[43m \u001b[49m\u001b[43mexclude\u001b[49m\u001b[38;5;241;43m=\u001b[39;49m\u001b[43mexclude\u001b[49m\u001b[43m,\u001b[49m\u001b[43m \u001b[49m\u001b[43mconfig\u001b[49m\u001b[38;5;241;43m=\u001b[39;49m\u001b[43mconfig\u001b[49m\u001b[43m)\u001b[49m\n",
      "File \u001b[0;32m~/anaconda3/envs/DSC180/lib/python3.8/site-packages/en_core_sci_sm/__init__.py:10\u001b[0m, in \u001b[0;36mload\u001b[0;34m(**overrides)\u001b[0m\n\u001b[1;32m      9\u001b[0m \u001b[38;5;28;01mdef\u001b[39;00m \u001b[38;5;21mload\u001b[39m(\u001b[38;5;241m*\u001b[39m\u001b[38;5;241m*\u001b[39moverrides):\n\u001b[0;32m---> 10\u001b[0m     \u001b[38;5;28;01mreturn\u001b[39;00m \u001b[43mload_model_from_init_py\u001b[49m\u001b[43m(\u001b[49m\u001b[38;5;18;43m__file__\u001b[39;49m\u001b[43m,\u001b[49m\u001b[43m \u001b[49m\u001b[38;5;241;43m*\u001b[39;49m\u001b[38;5;241;43m*\u001b[39;49m\u001b[43moverrides\u001b[49m\u001b[43m)\u001b[49m\n",
      "File \u001b[0;32m~/anaconda3/envs/DSC180/lib/python3.8/site-packages/spacy/util.py:517\u001b[0m, in \u001b[0;36mload_model_from_init_py\u001b[0;34m(init_file, vocab, disable, exclude, config)\u001b[0m\n\u001b[1;32m    515\u001b[0m \u001b[38;5;28;01mif\u001b[39;00m \u001b[38;5;129;01mnot\u001b[39;00m model_path\u001b[38;5;241m.\u001b[39mexists():\n\u001b[1;32m    516\u001b[0m     \u001b[38;5;28;01mraise\u001b[39;00m \u001b[38;5;167;01mIOError\u001b[39;00m(Errors\u001b[38;5;241m.\u001b[39mE052\u001b[38;5;241m.\u001b[39mformat(path\u001b[38;5;241m=\u001b[39mdata_path))\n\u001b[0;32m--> 517\u001b[0m \u001b[38;5;28;01mreturn\u001b[39;00m \u001b[43mload_model_from_path\u001b[49m\u001b[43m(\u001b[49m\n\u001b[1;32m    518\u001b[0m \u001b[43m    \u001b[49m\u001b[43mdata_path\u001b[49m\u001b[43m,\u001b[49m\n\u001b[1;32m    519\u001b[0m \u001b[43m    \u001b[49m\u001b[43mvocab\u001b[49m\u001b[38;5;241;43m=\u001b[39;49m\u001b[43mvocab\u001b[49m\u001b[43m,\u001b[49m\n\u001b[1;32m    520\u001b[0m \u001b[43m    \u001b[49m\u001b[43mmeta\u001b[49m\u001b[38;5;241;43m=\u001b[39;49m\u001b[43mmeta\u001b[49m\u001b[43m,\u001b[49m\n\u001b[1;32m    521\u001b[0m \u001b[43m    \u001b[49m\u001b[43mdisable\u001b[49m\u001b[38;5;241;43m=\u001b[39;49m\u001b[43mdisable\u001b[49m\u001b[43m,\u001b[49m\n\u001b[1;32m    522\u001b[0m \u001b[43m    \u001b[49m\u001b[43mexclude\u001b[49m\u001b[38;5;241;43m=\u001b[39;49m\u001b[43mexclude\u001b[49m\u001b[43m,\u001b[49m\n\u001b[1;32m    523\u001b[0m \u001b[43m    \u001b[49m\u001b[43mconfig\u001b[49m\u001b[38;5;241;43m=\u001b[39;49m\u001b[43mconfig\u001b[49m\u001b[43m,\u001b[49m\n\u001b[1;32m    524\u001b[0m \u001b[43m\u001b[49m\u001b[43m)\u001b[49m\n",
      "File \u001b[0;32m~/anaconda3/envs/DSC180/lib/python3.8/site-packages/spacy/util.py:392\u001b[0m, in \u001b[0;36mload_model_from_path\u001b[0;34m(model_path, meta, vocab, disable, exclude, config)\u001b[0m\n\u001b[1;32m    390\u001b[0m overrides \u001b[38;5;241m=\u001b[39m dict_to_dot(config)\n\u001b[1;32m    391\u001b[0m config \u001b[38;5;241m=\u001b[39m load_config(config_path, overrides\u001b[38;5;241m=\u001b[39moverrides)\n\u001b[0;32m--> 392\u001b[0m nlp \u001b[38;5;241m=\u001b[39m \u001b[43mload_model_from_config\u001b[49m\u001b[43m(\u001b[49m\u001b[43mconfig\u001b[49m\u001b[43m,\u001b[49m\u001b[43m \u001b[49m\u001b[43mvocab\u001b[49m\u001b[38;5;241;43m=\u001b[39;49m\u001b[43mvocab\u001b[49m\u001b[43m,\u001b[49m\u001b[43m \u001b[49m\u001b[43mdisable\u001b[49m\u001b[38;5;241;43m=\u001b[39;49m\u001b[43mdisable\u001b[49m\u001b[43m,\u001b[49m\u001b[43m \u001b[49m\u001b[43mexclude\u001b[49m\u001b[38;5;241;43m=\u001b[39;49m\u001b[43mexclude\u001b[49m\u001b[43m)\u001b[49m\n\u001b[1;32m    393\u001b[0m \u001b[38;5;28;01mreturn\u001b[39;00m nlp\u001b[38;5;241m.\u001b[39mfrom_disk(model_path, exclude\u001b[38;5;241m=\u001b[39mexclude, overrides\u001b[38;5;241m=\u001b[39moverrides)\n",
      "File \u001b[0;32m~/anaconda3/envs/DSC180/lib/python3.8/site-packages/spacy/util.py:429\u001b[0m, in \u001b[0;36mload_model_from_config\u001b[0;34m(config, vocab, disable, exclude, auto_fill, validate)\u001b[0m\n\u001b[1;32m    426\u001b[0m \u001b[38;5;66;03m# This will automatically handle all codes registered via the languages\u001b[39;00m\n\u001b[1;32m    427\u001b[0m \u001b[38;5;66;03m# registry, including custom subclasses provided via entry points\u001b[39;00m\n\u001b[1;32m    428\u001b[0m lang_cls \u001b[38;5;241m=\u001b[39m get_lang_class(nlp_config[\u001b[38;5;124m\"\u001b[39m\u001b[38;5;124mlang\u001b[39m\u001b[38;5;124m\"\u001b[39m])\n\u001b[0;32m--> 429\u001b[0m nlp \u001b[38;5;241m=\u001b[39m \u001b[43mlang_cls\u001b[49m\u001b[38;5;241;43m.\u001b[39;49m\u001b[43mfrom_config\u001b[49m\u001b[43m(\u001b[49m\n\u001b[1;32m    430\u001b[0m \u001b[43m    \u001b[49m\u001b[43mconfig\u001b[49m\u001b[43m,\u001b[49m\n\u001b[1;32m    431\u001b[0m \u001b[43m    \u001b[49m\u001b[43mvocab\u001b[49m\u001b[38;5;241;43m=\u001b[39;49m\u001b[43mvocab\u001b[49m\u001b[43m,\u001b[49m\n\u001b[1;32m    432\u001b[0m \u001b[43m    \u001b[49m\u001b[43mdisable\u001b[49m\u001b[38;5;241;43m=\u001b[39;49m\u001b[43mdisable\u001b[49m\u001b[43m,\u001b[49m\n\u001b[1;32m    433\u001b[0m \u001b[43m    \u001b[49m\u001b[43mexclude\u001b[49m\u001b[38;5;241;43m=\u001b[39;49m\u001b[43mexclude\u001b[49m\u001b[43m,\u001b[49m\n\u001b[1;32m    434\u001b[0m \u001b[43m    \u001b[49m\u001b[43mauto_fill\u001b[49m\u001b[38;5;241;43m=\u001b[39;49m\u001b[43mauto_fill\u001b[49m\u001b[43m,\u001b[49m\n\u001b[1;32m    435\u001b[0m \u001b[43m    \u001b[49m\u001b[43mvalidate\u001b[49m\u001b[38;5;241;43m=\u001b[39;49m\u001b[43mvalidate\u001b[49m\u001b[43m,\u001b[49m\n\u001b[1;32m    436\u001b[0m \u001b[43m\u001b[49m\u001b[43m)\u001b[49m\n\u001b[1;32m    437\u001b[0m \u001b[38;5;28;01mreturn\u001b[39;00m nlp\n",
      "File \u001b[0;32m~/anaconda3/envs/DSC180/lib/python3.8/site-packages/spacy/language.py:1672\u001b[0m, in \u001b[0;36mLanguage.from_config\u001b[0;34m(cls, config, vocab, disable, exclude, meta, auto_fill, validate)\u001b[0m\n\u001b[1;32m   1669\u001b[0m     factory \u001b[38;5;241m=\u001b[39m pipe_cfg\u001b[38;5;241m.\u001b[39mpop(\u001b[38;5;124m\"\u001b[39m\u001b[38;5;124mfactory\u001b[39m\u001b[38;5;124m\"\u001b[39m)\n\u001b[1;32m   1670\u001b[0m     \u001b[38;5;66;03m# The pipe name (key in the config) here is the unique name\u001b[39;00m\n\u001b[1;32m   1671\u001b[0m     \u001b[38;5;66;03m# of the component, not necessarily the factory\u001b[39;00m\n\u001b[0;32m-> 1672\u001b[0m     \u001b[43mnlp\u001b[49m\u001b[38;5;241;43m.\u001b[39;49m\u001b[43madd_pipe\u001b[49m\u001b[43m(\u001b[49m\n\u001b[1;32m   1673\u001b[0m \u001b[43m        \u001b[49m\u001b[43mfactory\u001b[49m\u001b[43m,\u001b[49m\n\u001b[1;32m   1674\u001b[0m \u001b[43m        \u001b[49m\u001b[43mname\u001b[49m\u001b[38;5;241;43m=\u001b[39;49m\u001b[43mpipe_name\u001b[49m\u001b[43m,\u001b[49m\n\u001b[1;32m   1675\u001b[0m \u001b[43m        \u001b[49m\u001b[43mconfig\u001b[49m\u001b[38;5;241;43m=\u001b[39;49m\u001b[43mpipe_cfg\u001b[49m\u001b[43m,\u001b[49m\n\u001b[1;32m   1676\u001b[0m \u001b[43m        \u001b[49m\u001b[43mvalidate\u001b[49m\u001b[38;5;241;43m=\u001b[39;49m\u001b[43mvalidate\u001b[49m\u001b[43m,\u001b[49m\n\u001b[1;32m   1677\u001b[0m \u001b[43m        \u001b[49m\u001b[43mraw_config\u001b[49m\u001b[38;5;241;43m=\u001b[39;49m\u001b[43mraw_config\u001b[49m\u001b[43m,\u001b[49m\n\u001b[1;32m   1678\u001b[0m \u001b[43m    \u001b[49m\u001b[43m)\u001b[49m\n\u001b[1;32m   1679\u001b[0m \u001b[38;5;28;01melse\u001b[39;00m:\n\u001b[1;32m   1680\u001b[0m     model \u001b[38;5;241m=\u001b[39m pipe_cfg[\u001b[38;5;124m\"\u001b[39m\u001b[38;5;124msource\u001b[39m\u001b[38;5;124m\"\u001b[39m]\n",
      "File \u001b[0;32m~/anaconda3/envs/DSC180/lib/python3.8/site-packages/spacy/language.py:774\u001b[0m, in \u001b[0;36mLanguage.add_pipe\u001b[0;34m(self, factory_name, name, before, after, first, last, source, config, raw_config, validate)\u001b[0m\n\u001b[1;32m    766\u001b[0m     \u001b[38;5;28;01mif\u001b[39;00m \u001b[38;5;129;01mnot\u001b[39;00m \u001b[38;5;28mself\u001b[39m\u001b[38;5;241m.\u001b[39mhas_factory(factory_name):\n\u001b[1;32m    767\u001b[0m         err \u001b[38;5;241m=\u001b[39m Errors\u001b[38;5;241m.\u001b[39mE002\u001b[38;5;241m.\u001b[39mformat(\n\u001b[1;32m    768\u001b[0m             name\u001b[38;5;241m=\u001b[39mfactory_name,\n\u001b[1;32m    769\u001b[0m             opts\u001b[38;5;241m=\u001b[39m\u001b[38;5;124m\"\u001b[39m\u001b[38;5;124m, \u001b[39m\u001b[38;5;124m\"\u001b[39m\u001b[38;5;241m.\u001b[39mjoin(\u001b[38;5;28mself\u001b[39m\u001b[38;5;241m.\u001b[39mfactory_names),\n\u001b[0;32m   (...)\u001b[0m\n\u001b[1;32m    772\u001b[0m             lang_code\u001b[38;5;241m=\u001b[39m\u001b[38;5;28mself\u001b[39m\u001b[38;5;241m.\u001b[39mlang,\n\u001b[1;32m    773\u001b[0m         )\n\u001b[0;32m--> 774\u001b[0m     pipe_component \u001b[38;5;241m=\u001b[39m \u001b[38;5;28;43mself\u001b[39;49m\u001b[38;5;241;43m.\u001b[39;49m\u001b[43mcreate_pipe\u001b[49m\u001b[43m(\u001b[49m\n\u001b[1;32m    775\u001b[0m \u001b[43m        \u001b[49m\u001b[43mfactory_name\u001b[49m\u001b[43m,\u001b[49m\n\u001b[1;32m    776\u001b[0m \u001b[43m        \u001b[49m\u001b[43mname\u001b[49m\u001b[38;5;241;43m=\u001b[39;49m\u001b[43mname\u001b[49m\u001b[43m,\u001b[49m\n\u001b[1;32m    777\u001b[0m \u001b[43m        \u001b[49m\u001b[43mconfig\u001b[49m\u001b[38;5;241;43m=\u001b[39;49m\u001b[43mconfig\u001b[49m\u001b[43m,\u001b[49m\n\u001b[1;32m    778\u001b[0m \u001b[43m        \u001b[49m\u001b[43mraw_config\u001b[49m\u001b[38;5;241;43m=\u001b[39;49m\u001b[43mraw_config\u001b[49m\u001b[43m,\u001b[49m\n\u001b[1;32m    779\u001b[0m \u001b[43m        \u001b[49m\u001b[43mvalidate\u001b[49m\u001b[38;5;241;43m=\u001b[39;49m\u001b[43mvalidate\u001b[49m\u001b[43m,\u001b[49m\n\u001b[1;32m    780\u001b[0m \u001b[43m    \u001b[49m\u001b[43m)\u001b[49m\n\u001b[1;32m    781\u001b[0m pipe_index \u001b[38;5;241m=\u001b[39m \u001b[38;5;28mself\u001b[39m\u001b[38;5;241m.\u001b[39m_get_pipe_index(before, after, first, last)\n\u001b[1;32m    782\u001b[0m \u001b[38;5;28mself\u001b[39m\u001b[38;5;241m.\u001b[39m_pipe_meta[name] \u001b[38;5;241m=\u001b[39m \u001b[38;5;28mself\u001b[39m\u001b[38;5;241m.\u001b[39mget_factory_meta(factory_name)\n",
      "File \u001b[0;32m~/anaconda3/envs/DSC180/lib/python3.8/site-packages/spacy/language.py:660\u001b[0m, in \u001b[0;36mLanguage.create_pipe\u001b[0;34m(self, factory_name, name, config, raw_config, validate)\u001b[0m\n\u001b[1;32m    657\u001b[0m cfg \u001b[38;5;241m=\u001b[39m {factory_name: config}\n\u001b[1;32m    658\u001b[0m \u001b[38;5;66;03m# We're calling the internal _fill here to avoid constructing the\u001b[39;00m\n\u001b[1;32m    659\u001b[0m \u001b[38;5;66;03m# registered functions twice\u001b[39;00m\n\u001b[0;32m--> 660\u001b[0m resolved \u001b[38;5;241m=\u001b[39m \u001b[43mregistry\u001b[49m\u001b[38;5;241;43m.\u001b[39;49m\u001b[43mresolve\u001b[49m\u001b[43m(\u001b[49m\u001b[43mcfg\u001b[49m\u001b[43m,\u001b[49m\u001b[43m \u001b[49m\u001b[43mvalidate\u001b[49m\u001b[38;5;241;43m=\u001b[39;49m\u001b[43mvalidate\u001b[49m\u001b[43m)\u001b[49m\n\u001b[1;32m    661\u001b[0m filled \u001b[38;5;241m=\u001b[39m registry\u001b[38;5;241m.\u001b[39mfill({\u001b[38;5;124m\"\u001b[39m\u001b[38;5;124mcfg\u001b[39m\u001b[38;5;124m\"\u001b[39m: cfg[factory_name]}, validate\u001b[38;5;241m=\u001b[39mvalidate)[\u001b[38;5;124m\"\u001b[39m\u001b[38;5;124mcfg\u001b[39m\u001b[38;5;124m\"\u001b[39m]\n\u001b[1;32m    662\u001b[0m filled \u001b[38;5;241m=\u001b[39m Config(filled)\n",
      "File \u001b[0;32m~/anaconda3/envs/DSC180/lib/python3.8/site-packages/thinc/config.py:746\u001b[0m, in \u001b[0;36mregistry.resolve\u001b[0;34m(cls, config, schema, overrides, validate)\u001b[0m\n\u001b[1;32m    737\u001b[0m \u001b[38;5;129m@classmethod\u001b[39m\n\u001b[1;32m    738\u001b[0m \u001b[38;5;28;01mdef\u001b[39;00m \u001b[38;5;21mresolve\u001b[39m(\n\u001b[1;32m    739\u001b[0m     \u001b[38;5;28mcls\u001b[39m,\n\u001b[0;32m   (...)\u001b[0m\n\u001b[1;32m    744\u001b[0m     validate: \u001b[38;5;28mbool\u001b[39m \u001b[38;5;241m=\u001b[39m \u001b[38;5;28;01mTrue\u001b[39;00m,\n\u001b[1;32m    745\u001b[0m ) \u001b[38;5;241m-\u001b[39m\u001b[38;5;241m>\u001b[39m Dict[\u001b[38;5;28mstr\u001b[39m, Any]:\n\u001b[0;32m--> 746\u001b[0m     resolved, _ \u001b[38;5;241m=\u001b[39m \u001b[38;5;28;43mcls\u001b[39;49m\u001b[38;5;241;43m.\u001b[39;49m\u001b[43m_make\u001b[49m\u001b[43m(\u001b[49m\n\u001b[1;32m    747\u001b[0m \u001b[43m        \u001b[49m\u001b[43mconfig\u001b[49m\u001b[43m,\u001b[49m\u001b[43m \u001b[49m\u001b[43mschema\u001b[49m\u001b[38;5;241;43m=\u001b[39;49m\u001b[43mschema\u001b[49m\u001b[43m,\u001b[49m\u001b[43m \u001b[49m\u001b[43moverrides\u001b[49m\u001b[38;5;241;43m=\u001b[39;49m\u001b[43moverrides\u001b[49m\u001b[43m,\u001b[49m\u001b[43m \u001b[49m\u001b[43mvalidate\u001b[49m\u001b[38;5;241;43m=\u001b[39;49m\u001b[43mvalidate\u001b[49m\u001b[43m,\u001b[49m\u001b[43m \u001b[49m\u001b[43mresolve\u001b[49m\u001b[38;5;241;43m=\u001b[39;49m\u001b[38;5;28;43;01mTrue\u001b[39;49;00m\n\u001b[1;32m    748\u001b[0m \u001b[43m    \u001b[49m\u001b[43m)\u001b[49m\n\u001b[1;32m    749\u001b[0m     \u001b[38;5;28;01mreturn\u001b[39;00m resolved\n",
      "File \u001b[0;32m~/anaconda3/envs/DSC180/lib/python3.8/site-packages/thinc/config.py:795\u001b[0m, in \u001b[0;36mregistry._make\u001b[0;34m(cls, config, schema, overrides, resolve, validate)\u001b[0m\n\u001b[1;32m    793\u001b[0m \u001b[38;5;28;01mif\u001b[39;00m \u001b[38;5;129;01mnot\u001b[39;00m is_interpolated:\n\u001b[1;32m    794\u001b[0m     config \u001b[38;5;241m=\u001b[39m Config(orig_config)\u001b[38;5;241m.\u001b[39minterpolate()\n\u001b[0;32m--> 795\u001b[0m filled, _, resolved \u001b[38;5;241m=\u001b[39m \u001b[38;5;28;43mcls\u001b[39;49m\u001b[38;5;241;43m.\u001b[39;49m\u001b[43m_fill\u001b[49m\u001b[43m(\u001b[49m\n\u001b[1;32m    796\u001b[0m \u001b[43m    \u001b[49m\u001b[43mconfig\u001b[49m\u001b[43m,\u001b[49m\u001b[43m \u001b[49m\u001b[43mschema\u001b[49m\u001b[43m,\u001b[49m\u001b[43m \u001b[49m\u001b[43mvalidate\u001b[49m\u001b[38;5;241;43m=\u001b[39;49m\u001b[43mvalidate\u001b[49m\u001b[43m,\u001b[49m\u001b[43m \u001b[49m\u001b[43moverrides\u001b[49m\u001b[38;5;241;43m=\u001b[39;49m\u001b[43moverrides\u001b[49m\u001b[43m,\u001b[49m\u001b[43m \u001b[49m\u001b[43mresolve\u001b[49m\u001b[38;5;241;43m=\u001b[39;49m\u001b[43mresolve\u001b[49m\n\u001b[1;32m    797\u001b[0m \u001b[43m\u001b[49m\u001b[43m)\u001b[49m\n\u001b[1;32m    798\u001b[0m filled \u001b[38;5;241m=\u001b[39m Config(filled, section_order\u001b[38;5;241m=\u001b[39msection_order)\n\u001b[1;32m    799\u001b[0m \u001b[38;5;66;03m# Check that overrides didn't include invalid properties not in config\u001b[39;00m\n",
      "File \u001b[0;32m~/anaconda3/envs/DSC180/lib/python3.8/site-packages/thinc/config.py:850\u001b[0m, in \u001b[0;36mregistry._fill\u001b[0;34m(cls, config, schema, validate, resolve, parent, overrides)\u001b[0m\n\u001b[1;32m    848\u001b[0m     schema\u001b[38;5;241m.\u001b[39m__fields__[key] \u001b[38;5;241m=\u001b[39m copy_model_field(field, Any)\n\u001b[1;32m    849\u001b[0m promise_schema \u001b[38;5;241m=\u001b[39m \u001b[38;5;28mcls\u001b[39m\u001b[38;5;241m.\u001b[39mmake_promise_schema(value, resolve\u001b[38;5;241m=\u001b[39mresolve)\n\u001b[0;32m--> 850\u001b[0m filled[key], validation[v_key], final[key] \u001b[38;5;241m=\u001b[39m \u001b[38;5;28;43mcls\u001b[39;49m\u001b[38;5;241;43m.\u001b[39;49m\u001b[43m_fill\u001b[49m\u001b[43m(\u001b[49m\n\u001b[1;32m    851\u001b[0m \u001b[43m    \u001b[49m\u001b[43mvalue\u001b[49m\u001b[43m,\u001b[49m\n\u001b[1;32m    852\u001b[0m \u001b[43m    \u001b[49m\u001b[43mpromise_schema\u001b[49m\u001b[43m,\u001b[49m\n\u001b[1;32m    853\u001b[0m \u001b[43m    \u001b[49m\u001b[43mvalidate\u001b[49m\u001b[38;5;241;43m=\u001b[39;49m\u001b[43mvalidate\u001b[49m\u001b[43m,\u001b[49m\n\u001b[1;32m    854\u001b[0m \u001b[43m    \u001b[49m\u001b[43mresolve\u001b[49m\u001b[38;5;241;43m=\u001b[39;49m\u001b[43mresolve\u001b[49m\u001b[43m,\u001b[49m\n\u001b[1;32m    855\u001b[0m \u001b[43m    \u001b[49m\u001b[43mparent\u001b[49m\u001b[38;5;241;43m=\u001b[39;49m\u001b[43mkey_parent\u001b[49m\u001b[43m,\u001b[49m\n\u001b[1;32m    856\u001b[0m \u001b[43m    \u001b[49m\u001b[43moverrides\u001b[49m\u001b[38;5;241;43m=\u001b[39;49m\u001b[43moverrides\u001b[49m\u001b[43m,\u001b[49m\n\u001b[1;32m    857\u001b[0m \u001b[43m\u001b[49m\u001b[43m)\u001b[49m\n\u001b[1;32m    858\u001b[0m reg_name, func_name \u001b[38;5;241m=\u001b[39m \u001b[38;5;28mcls\u001b[39m\u001b[38;5;241m.\u001b[39mget_constructor(final[key])\n\u001b[1;32m    859\u001b[0m args, kwargs \u001b[38;5;241m=\u001b[39m \u001b[38;5;28mcls\u001b[39m\u001b[38;5;241m.\u001b[39mparse_args(final[key])\n",
      "File \u001b[0;32m~/anaconda3/envs/DSC180/lib/python3.8/site-packages/thinc/config.py:849\u001b[0m, in \u001b[0;36mregistry._fill\u001b[0;34m(cls, config, schema, validate, resolve, parent, overrides)\u001b[0m\n\u001b[1;32m    847\u001b[0m     field \u001b[38;5;241m=\u001b[39m schema\u001b[38;5;241m.\u001b[39m__fields__[key]\n\u001b[1;32m    848\u001b[0m     schema\u001b[38;5;241m.\u001b[39m__fields__[key] \u001b[38;5;241m=\u001b[39m copy_model_field(field, Any)\n\u001b[0;32m--> 849\u001b[0m promise_schema \u001b[38;5;241m=\u001b[39m \u001b[38;5;28;43mcls\u001b[39;49m\u001b[38;5;241;43m.\u001b[39;49m\u001b[43mmake_promise_schema\u001b[49m\u001b[43m(\u001b[49m\u001b[43mvalue\u001b[49m\u001b[43m,\u001b[49m\u001b[43m \u001b[49m\u001b[43mresolve\u001b[49m\u001b[38;5;241;43m=\u001b[39;49m\u001b[43mresolve\u001b[49m\u001b[43m)\u001b[49m\n\u001b[1;32m    850\u001b[0m filled[key], validation[v_key], final[key] \u001b[38;5;241m=\u001b[39m \u001b[38;5;28mcls\u001b[39m\u001b[38;5;241m.\u001b[39m_fill(\n\u001b[1;32m    851\u001b[0m     value,\n\u001b[1;32m    852\u001b[0m     promise_schema,\n\u001b[0;32m   (...)\u001b[0m\n\u001b[1;32m    856\u001b[0m     overrides\u001b[38;5;241m=\u001b[39moverrides,\n\u001b[1;32m    857\u001b[0m )\n\u001b[1;32m    858\u001b[0m reg_name, func_name \u001b[38;5;241m=\u001b[39m \u001b[38;5;28mcls\u001b[39m\u001b[38;5;241m.\u001b[39mget_constructor(final[key])\n",
      "File \u001b[0;32m~/anaconda3/envs/DSC180/lib/python3.8/site-packages/thinc/config.py:1057\u001b[0m, in \u001b[0;36mregistry.make_promise_schema\u001b[0;34m(cls, obj, resolve)\u001b[0m\n\u001b[1;32m   1055\u001b[0m         sig_args[name] \u001b[38;5;241m=\u001b[39m (annotation, default)\n\u001b[1;32m   1056\u001b[0m sig_args[\u001b[38;5;124m\"\u001b[39m\u001b[38;5;124m__config__\u001b[39m\u001b[38;5;124m\"\u001b[39m] \u001b[38;5;241m=\u001b[39m _PromiseSchemaConfig\n\u001b[0;32m-> 1057\u001b[0m \u001b[38;5;28;01mreturn\u001b[39;00m \u001b[43mcreate_model\u001b[49m\u001b[43m(\u001b[49m\u001b[38;5;124;43m\"\u001b[39;49m\u001b[38;5;124;43mArgModel\u001b[39;49m\u001b[38;5;124;43m\"\u001b[39;49m\u001b[43m,\u001b[49m\u001b[43m \u001b[49m\u001b[38;5;241;43m*\u001b[39;49m\u001b[38;5;241;43m*\u001b[39;49m\u001b[43msig_args\u001b[49m\u001b[43m)\u001b[49m\n",
      "File \u001b[0;32m~/anaconda3/envs/DSC180/lib/python3.8/site-packages/pydantic/main.py:990\u001b[0m, in \u001b[0;36mpydantic.main.create_model\u001b[0;34m()\u001b[0m\n",
      "File \u001b[0;32m~/anaconda3/envs/DSC180/lib/python3.8/site-packages/pydantic/main.py:299\u001b[0m, in \u001b[0;36mpydantic.main.ModelMetaclass.__new__\u001b[0;34m()\u001b[0m\n",
      "File \u001b[0;32m~/anaconda3/envs/DSC180/lib/python3.8/site-packages/pydantic/fields.py:411\u001b[0m, in \u001b[0;36mpydantic.fields.ModelField.infer\u001b[0;34m()\u001b[0m\n",
      "File \u001b[0;32m~/anaconda3/envs/DSC180/lib/python3.8/site-packages/pydantic/fields.py:342\u001b[0m, in \u001b[0;36mpydantic.fields.ModelField.__init__\u001b[0;34m()\u001b[0m\n",
      "File \u001b[0;32m~/anaconda3/envs/DSC180/lib/python3.8/site-packages/pydantic/fields.py:451\u001b[0m, in \u001b[0;36mpydantic.fields.ModelField.prepare\u001b[0;34m()\u001b[0m\n",
      "File \u001b[0;32m~/anaconda3/envs/DSC180/lib/python3.8/site-packages/pydantic/fields.py:550\u001b[0m, in \u001b[0;36mpydantic.fields.ModelField._type_analysis\u001b[0;34m()\u001b[0m\n",
      "File \u001b[0;32m~/anaconda3/envs/DSC180/lib/python3.8/typing.py:774\u001b[0m, in \u001b[0;36m_GenericAlias.__subclasscheck__\u001b[0;34m(self, cls)\u001b[0m\n\u001b[1;32m    772\u001b[0m \u001b[38;5;28;01mif\u001b[39;00m \u001b[38;5;28mself\u001b[39m\u001b[38;5;241m.\u001b[39m_special:\n\u001b[1;32m    773\u001b[0m     \u001b[38;5;28;01mif\u001b[39;00m \u001b[38;5;129;01mnot\u001b[39;00m \u001b[38;5;28misinstance\u001b[39m(\u001b[38;5;28mcls\u001b[39m, _GenericAlias):\n\u001b[0;32m--> 774\u001b[0m         \u001b[38;5;28;01mreturn\u001b[39;00m \u001b[38;5;28;43missubclass\u001b[39;49m\u001b[43m(\u001b[49m\u001b[38;5;28;43mcls\u001b[39;49m\u001b[43m,\u001b[49m\u001b[43m \u001b[49m\u001b[38;5;28;43mself\u001b[39;49m\u001b[38;5;241;43m.\u001b[39;49m\u001b[43m__origin__\u001b[49m\u001b[43m)\u001b[49m\n\u001b[1;32m    775\u001b[0m     \u001b[38;5;28;01mif\u001b[39;00m \u001b[38;5;28mcls\u001b[39m\u001b[38;5;241m.\u001b[39m_special:\n\u001b[1;32m    776\u001b[0m         \u001b[38;5;28;01mreturn\u001b[39;00m \u001b[38;5;28missubclass\u001b[39m(\u001b[38;5;28mcls\u001b[39m\u001b[38;5;241m.\u001b[39m__origin__, \u001b[38;5;28mself\u001b[39m\u001b[38;5;241m.\u001b[39m__origin__)\n",
      "\u001b[0;31mTypeError\u001b[0m: issubclass() arg 1 must be a class"
     ]
    }
   ],
   "source": [
    "import spacy\n",
    "import scispacy\n",
    "from scispacy.abbreviation import AbbreviationDetector\n",
    "from scispacy.linking import EntityLinker\n",
    "#nlp = spacy.load(\"en_ner_bionlp13cg_md\")\n",
    "#nlp = spacy.load(\"en_core_web_sm\")\n",
    "nlp = spacy.load(\"en_core_sci_sm\")\n",
    "\n",
    "def filter_perovskite_content(text):\n",
    "    doc = nlp(text)\n",
    "    relevant_sentences = []\n",
    "    for sent in doc.sents:\n",
    "        if \"perovskite\" in sent.text.lower():\n",
    "            relevant_sentences.append(sent.text)\n",
    "    return relevant_sentences\n",
    "\n",
    "perovskite_sections = filter_perovskite_content(extracted_text)\n",
    "\n",
    "# import spacy\n",
    "\n",
    "# # Load the standard spaCy English model\n",
    "# nlp = spacy.load(\"en_core_web_sm\")\n",
    "\n",
    "# # Define a function to filter perovskite-related content\n",
    "# def filter_perovskite_content(text):\n",
    "#     doc = nlp(text)\n",
    "#     relevant_sentences = []\n",
    "    \n",
    "#     # Loop through sentences\n",
    "#     for sent in doc.sents:\n",
    "#         if \"perovskite\" in sent.text.lower():\n",
    "#             # Extract named entities for chemicals and measurements\n",
    "#             chem_entities = [\n",
    "#                 ent for ent in sent.ents if ent.label_ in [\"ORG\", \"MONEY\", \"QUANTITY\", \"PERCENT\", \"CARDINAL\"]\n",
    "#             ]\n",
    "#             relevant_sentences.append({\"sentence\": sent.text, \"entities\": chem_entities})\n",
    "    \n",
    "#     return relevant_sentences\n",
    "\n",
    "# # Example usage\n",
    "# text = \"Perovskite materials are used in solar cells. The efficiency reached 20%. Another type is silicon.\"\n",
    "# result = filter_perovskite_content(text)\n",
    "# print(result)"
   ]
  },
  {
   "cell_type": "code",
   "execution_count": null,
   "id": "42268146-a843-4c7a-849d-cef9e0ecdf0f",
   "metadata": {},
   "outputs": [],
   "source": [
    "from transformers import BartTokenizer\n",
    "\n",
    "tokenizer = BartTokenizer.from_pretrained(\"facebook/bart-large-cnn\")\n",
    "inputs = tokenizer(\" \".join([str(sent) for sent in perovskite_sections]), return_tensors=\"pt\")\n",
    "print(inputs.input_ids.shape)  # Check the shape of input IDs"
   ]
  },
  {
   "cell_type": "code",
   "execution_count": 12,
   "id": "31d56392",
   "metadata": {},
   "outputs": [],
   "source": [
    "# from transformers import pipeline\n",
    "\n",
    "# chunk_size = 500  # Adjust based on the model's limits\n",
    "# summaries = []\n",
    "# for section in perovskite_sections:\n",
    "#     if len(section) > chunk_size:\n",
    "#         summary = summarizer(section[:chunk_size], max_length=100, min_length=30, do_sample=False)\n",
    "#         summaries.append(summary)\n",
    "#     else:\n",
    "#         summary = summarizer(section, max_length=100, min_length=30, do_sample=False)\n",
    "#         summaries.append(summary)\n",
    "\n",
    "\n",
    "# summarizer = pipeline(\"summarization\", model=\"facebook/bart-large-cnn\")\n",
    "# summary = summarizer(\" \".join([str(sent) for sent in perovskite_sections]), max_length=150, min_length=30, do_sample=False, truncation=True)\n",
    "# print(summary)"
   ]
  },
  {
   "cell_type": "code",
   "execution_count": 19,
   "id": "9adbb644",
   "metadata": {},
   "outputs": [
    {
     "ename": "NameError",
     "evalue": "name 'perovskite_sections' is not defined",
     "output_type": "error",
     "traceback": [
      "\u001b[0;31m---------------------------------------------------------------------------\u001b[0m",
      "\u001b[0;31mNameError\u001b[0m                                 Traceback (most recent call last)",
      "Cell \u001b[0;32mIn[19], line 3\u001b[0m\n\u001b[1;32m      1\u001b[0m \u001b[38;5;28;01mfrom\u001b[39;00m \u001b[38;5;21;01mchemdataextractor\u001b[39;00m \u001b[38;5;28;01mimport\u001b[39;00m Document\n\u001b[0;32m----> 3\u001b[0m doc \u001b[38;5;241m=\u001b[39m Document(\u001b[38;5;124m'\u001b[39m\u001b[38;5;124m \u001b[39m\u001b[38;5;124m'\u001b[39m\u001b[38;5;241m.\u001b[39mjoin([\u001b[38;5;28mstr\u001b[39m(sent) \u001b[38;5;28;01mfor\u001b[39;00m sent \u001b[38;5;129;01min\u001b[39;00m \u001b[43mperovskite_sections\u001b[49m]))\n\u001b[1;32m      4\u001b[0m \u001b[38;5;28mprint\u001b[39m(doc\u001b[38;5;241m.\u001b[39mcems)  \u001b[38;5;66;03m# Extract chemical entities\u001b[39;00m\n\u001b[1;32m      5\u001b[0m \u001b[38;5;28mprint\u001b[39m(doc\u001b[38;5;241m.\u001b[39mrecords)\n",
      "\u001b[0;31mNameError\u001b[0m: name 'perovskite_sections' is not defined"
     ]
    }
   ],
   "source": [
    "from chemdataextractor import Document\n",
    "\n",
    "doc = Document(' '.join([str(sent) for sent in perovskite_sections]))\n",
    "print(doc.cems)  # Extract chemical entities\n",
    "print(doc.records)  # Extract relevant metrics"
   ]
  },
  {
   "cell_type": "code",
   "execution_count": null,
   "id": "54e9c4fc-ea39-439a-8ed2-6edc8a003c2f",
   "metadata": {},
   "outputs": [],
   "source": []
  }
 ],
 "metadata": {
  "kernelspec": {
   "display_name": "Python 3 (ipykernel)",
   "language": "python",
   "name": "python3"
  },
  "language_info": {
   "codemirror_mode": {
    "name": "ipython",
    "version": 3
   },
   "file_extension": ".py",
   "mimetype": "text/x-python",
   "name": "python",
   "nbconvert_exporter": "python",
   "pygments_lexer": "ipython3",
   "version": "3.8.20"
  }
 },
 "nbformat": 4,
 "nbformat_minor": 5
}
