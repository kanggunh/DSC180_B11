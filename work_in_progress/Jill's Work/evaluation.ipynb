{
 "cells": [
  {
   "cell_type": "markdown",
   "metadata": {},
   "source": [
    "## This file compares the teamtat annotation (Json) with Extraction performed by finetuned llama (Json)"
   ]
  },
  {
   "cell_type": "code",
   "execution_count": 11,
   "metadata": {},
   "outputs": [],
   "source": [
    "label = {'passivating_molecule': 'phenethylammonium iodide', 'perovskite_composition': 'MAPbI3', 'ISOSD1': {'time': '240', 'treated_pce': '15.3', 'control_pce': '16.69', 'temperature': '25', 'humidity': '90', 'control_voc': '1.03', 'treated_voc': '1.06'}, 'electron_transport_layer': 'TiO2', 'hole_transport_layer': 'Spiro-OMeTAD'}"
   ]
  },
  {
   "cell_type": "code",
   "execution_count": 12,
   "metadata": {},
   "outputs": [],
   "source": [
    "extraction = {\n",
    "  \"control_pce\": None,\n",
    "  \"control_voc\": None,\n",
    "  \"treated_pce\": 15.3,\n",
    "  \"treated_voc\": 1.06,\n",
    "  \"passivating_molecule\": \"Phenylethylammonium (PEA)\",\n",
    "  \"perovskite_composition\": \"[C8H9NH3]2[(CH3NH3)2PbI3 – (n=60)]\",\n",
    "  \"electron_transport_layer\": \"TiO2\",\n",
    "  \"hole_transport_layer\": \"spiro-OMeTAD\",\n",
    "  \"ISOS-L-1\": None,\n",
    "  \"ISOS-L-2\": None,\n",
    "  \"ISOS-T-1\": None,\n",
    "  \"ISOS-T-2\": None,\n",
    "  \"ISOS-LC\": None,\n",
    "  \"ISOS-D-1\": None,\n",
    "  \"ISOS-D-2\": None\n",
    "}"
   ]
  },
  {
   "cell_type": "code",
   "execution_count": 13,
   "metadata": {},
   "outputs": [],
   "source": [
    "from sklearn.metrics import precision_score, recall_score, f1_score\n",
    "from difflib import SequenceMatcher\n",
    "import numpy as np\n",
    "\n",
    "def compare_data(labeled_data, extracted_data, numerical_tolerance=0.05):\n",
    "    results = {}\n",
    "    total_fields = len(labeled_data)\n",
    "    matched_fields = 0\n",
    "    numerical_differences = []\n",
    "\n",
    "    for key, value in labeled_data.items():\n",
    "        if key in extracted_data:\n",
    "            extracted_value = extracted_data[key]\n",
    "\n",
    "            # Exact match\n",
    "            if value == extracted_value:\n",
    "                matched_fields += 1\n",
    "                results[key] = \"Match\"\n",
    "\n",
    "            # Numerical comparison\n",
    "            elif isinstance(value, (int, float)) and isinstance(extracted_value, (int, float)):\n",
    "                if abs(value - extracted_value) <= numerical_tolerance * abs(value):\n",
    "                    matched_fields += 1\n",
    "                    numerical_differences.append(abs(value - extracted_value))\n",
    "                    results[key] = \"Numerical Match\"\n",
    "                else:\n",
    "                    results[key] = \"Numerical Mismatch\"\n",
    "\n",
    "            # Fuzzy string match\n",
    "            elif isinstance(value, str) and isinstance(extracted_value, str):\n",
    "                similarity = SequenceMatcher(None, value.lower(), extracted_value.lower()).ratio()\n",
    "                if similarity > 0.8:  # Threshold for similarity\n",
    "                    matched_fields += 1\n",
    "                    results[key] = f\"Fuzzy Match ({similarity:.2f})\"\n",
    "                else:\n",
    "                    results[key] = f\"Mismatch ({similarity:.2f})\"\n",
    "\n",
    "            else:\n",
    "                results[key] = \"Mismatch\"\n",
    "        else:\n",
    "            results[key] = \"Missing in Extracted Data\"\n",
    "\n",
    "    accuracy = matched_fields / total_fields\n",
    "    mean_absolute_error = np.mean(numerical_differences) if numerical_differences else None\n",
    "\n",
    "    return {\n",
    "        \"results\": results,\n",
    "        \"accuracy\": accuracy,\n",
    "        \"mean_absolute_error\": mean_absolute_error,\n",
    "        \"matched_fields\": matched_fields,\n",
    "        \"total_fields\": total_fields\n",
    "    }\n"
   ]
  },
  {
   "cell_type": "code",
   "execution_count": 14,
   "metadata": {},
   "outputs": [
    {
     "name": "stdout",
     "output_type": "stream",
     "text": [
      "{'results': {'passivating_molecule': 'Mismatch (0.78)', 'perovskite_composition': 'Mismatch (0.20)', 'ISOSD1': 'Missing in Extracted Data', 'electron_transport_layer': 'Match', 'hole_transport_layer': 'Fuzzy Match (1.00)'}, 'accuracy': 0.4, 'mean_absolute_error': None, 'matched_fields': 2, 'total_fields': 5}\n"
     ]
    }
   ],
   "source": [
    "comparison_result = compare_data(label, extraction)\n",
    "print(comparison_result)\n"
   ]
  },
  {
   "cell_type": "code",
   "execution_count": null,
   "metadata": {},
   "outputs": [],
   "source": []
  }
 ],
 "metadata": {
  "kernelspec": {
   "display_name": "dsc80",
   "language": "python",
   "name": "python3"
  },
  "language_info": {
   "codemirror_mode": {
    "name": "ipython",
    "version": 3
   },
   "file_extension": ".py",
   "mimetype": "text/x-python",
   "name": "python",
   "nbconvert_exporter": "python",
   "pygments_lexer": "ipython3",
   "version": "3.8.18"
  }
 },
 "nbformat": 4,
 "nbformat_minor": 2
}
