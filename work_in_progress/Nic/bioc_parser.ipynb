{
 "cells": [
  {
   "cell_type": "code",
   "execution_count": 2,
   "metadata": {},
   "outputs": [],
   "source": [
    "import xml.etree.ElementTree as ET \n",
    "import pandas as pd \n",
    "import os"
   ]
  },
  {
   "cell_type": "code",
   "execution_count": 3,
   "metadata": {},
   "outputs": [],
   "source": [
    "def parse_bioc(file_path):\n",
    "    tree = ET.parse(file_path)\n",
    "    root = tree.getroot()\n",
    "    \n",
    "    data = { }\n",
    "    concept_ids = set()\n",
    "    relations = {}\n",
    "    for relation in root.findall(\".//relation\"):\n",
    "        test_name = relation.find(\"infon[@key='type']\").text\n",
    "        node_ids = [node.get(\"refid\") for node in relation.findall(\"node\")]\n",
    "        for node_id in node_ids:\n",
    "            relations[node_id] = test_name\n",
    "\n",
    "    for annotation in root.findall(\".//annotation\"):\n",
    "        node_id = annotation.get(\"id\")\n",
    "        var_name = annotation.find(\"infon[@key='type']\").text\n",
    "        concept_id = annotation.find(\"infon[@key='identifier']\").text\n",
    "        value = annotation.find(\"text\").text\n",
    "        if node_id in relations:\n",
    "            stability_test = relations[node_id]\n",
    "            if stability_test not in data:\n",
    "                data[stability_test] = {}\n",
    "            if concept_id is None:\n",
    "                concept_id = value\n",
    "            data[stability_test][var_name] = concept_id\n",
    "            concept_ids.add(concept_id)\n",
    "\n",
    "        if concept_id is None:\n",
    "            concept_id = value\n",
    "        if concept_id in concept_ids: # duplicate annotation\n",
    "            continue\n",
    "        concept_ids.add(concept_id)\n",
    "        if var_name not in data:\n",
    "            data[var_name] = concept_id\n",
    "        else:\n",
    "            if isinstance(data[var_name], list):\n",
    "                data[var_name].append(value)\n",
    "            else:\n",
    "                data[var_name] = [data[var_name], value]\n",
    "    \n",
    "    return data"
   ]
  },
  {
   "cell_type": "code",
   "execution_count": 4,
   "metadata": {},
   "outputs": [
    {
     "data": {
      "text/html": [
       "<div>\n",
       "<style scoped>\n",
       "    .dataframe tbody tr th:only-of-type {\n",
       "        vertical-align: middle;\n",
       "    }\n",
       "\n",
       "    .dataframe tbody tr th {\n",
       "        vertical-align: top;\n",
       "    }\n",
       "\n",
       "    .dataframe thead th {\n",
       "        text-align: right;\n",
       "    }\n",
       "</style>\n",
       "<table border=\"1\" class=\"dataframe\">\n",
       "  <thead>\n",
       "    <tr style=\"text-align: right;\">\n",
       "      <th></th>\n",
       "      <th>perovskite_molecule</th>\n",
       "      <th>electron_transport_layer</th>\n",
       "      <th>hole_transport_layer</th>\n",
       "      <th>structure_pin_nip</th>\n",
       "      <th>perovskite_composition</th>\n",
       "      <th>ISOSL1</th>\n",
       "    </tr>\n",
       "  </thead>\n",
       "  <tbody>\n",
       "    <tr>\n",
       "      <th>0</th>\n",
       "      <td>octylammonium tosylate</td>\n",
       "      <td>SnO2</td>\n",
       "      <td>Spiro-OMeTAD</td>\n",
       "      <td>n-i-p</td>\n",
       "      <td>(FAPbI3)0.95(MAPbBr3)0.05</td>\n",
       "      <td>{'treated_pce': '24.41', 'temperature': '40', ...</td>\n",
       "    </tr>\n",
       "  </tbody>\n",
       "</table>\n",
       "</div>"
      ],
      "text/plain": [
       "      perovskite_molecule electron_transport_layer hole_transport_layer  \\\n",
       "0  octylammonium tosylate                     SnO2         Spiro-OMeTAD   \n",
       "\n",
       "  structure_pin_nip     perovskite_composition  \\\n",
       "0             n-i-p  (FAPbI3)0.95(MAPbBr3)0.05   \n",
       "\n",
       "                                              ISOSL1  \n",
       "0  {'treated_pce': '24.41', 'temperature': '40', ...  "
      ]
     },
     "execution_count": 4,
     "metadata": {},
     "output_type": "execute_result"
    }
   ],
   "source": [
    "bioc_dir = \"../../data/biocs\"\n",
    "data = []\n",
    "for filename in os.listdir(bioc_dir):\n",
    "    if filename.endswith(\".xml\"):\n",
    "        file_path = os.path.join(bioc_dir, filename)\n",
    "        data.append(parse_bioc(file_path))\n",
    "df = pd.DataFrame(data)\n",
    "df.head()"
   ]
  },
  {
   "cell_type": "code",
   "execution_count": null,
   "metadata": {},
   "outputs": [],
   "source": []
  }
 ],
 "metadata": {
  "kernelspec": {
   "display_name": "Python 3",
   "language": "python",
   "name": "python3"
  },
  "language_info": {
   "codemirror_mode": {
    "name": "ipython",
    "version": 3
   },
   "file_extension": ".py",
   "mimetype": "text/x-python",
   "name": "python",
   "nbconvert_exporter": "python",
   "pygments_lexer": "ipython3",
   "version": "3.10.6"
  }
 },
 "nbformat": 4,
 "nbformat_minor": 2
}
