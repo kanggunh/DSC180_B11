{
 "cells": [
  {
   "cell_type": "code",
   "execution_count": 9,
   "metadata": {},
   "outputs": [],
   "source": [
    "from transformers import AutoTokenizer, AutoModelForCausalLM, pipeline\n",
    "import os\n",
    "from dotenv import load_dotenv\n",
    "import json\n",
    "from litellm import completion"
   ]
  },
  {
   "cell_type": "code",
   "execution_count": null,
   "metadata": {},
   "outputs": [
    {
     "name": "stderr",
     "output_type": "stream",
     "text": [
      "Loading checkpoint shards: 100%|██████████| 2/2 [00:05<00:00,  2.81s/it]\n"
     ]
    }
   ],
   "source": [
    "model_name = \"llama-3.2-3b-it-Perovskite-PaperExtractor\"\n",
    "# model_name = \"meta-llama/Llama-3.2-3B-Instruct\"\n",
    "device = \"cuda\"\n",
    "\n",
    "model = AutoModelForCausalLM.from_pretrained(model_name, ).to(device)\n",
    "tokenizer = AutoTokenizer.from_pretrained(model_name)\n",
    "tokenizer.model_max_length = 60000\n",
    "pipe = pipeline(\n",
    "    \"text-generation\",\n",
    "    model=model,\n",
    "    tokenizer=tokenizer,\n",
    "    temperature=0.1,\n",
    "    device=0\n",
    ")"
   ]
  },
  {
   "cell_type": "code",
   "execution_count": null,
   "metadata": {},
   "outputs": [],
   "source": [
    "PREFIX = \"\"\"\n",
    "You are a helpful scientific assistant. Your task is to extract relevant scientific data from the provided text about perovskite solar cells and passivating molecules. If the data is not available in the text, return null for the respective fields. Output the information in JSON format with the following fields:\n",
    "- `control_pce`: Power conversion efficiency for control perovskite (numeric).\n",
    "- `control_voc`: Open-circuit voltage for control perovskite (numeric).\n",
    "- `treated_pce`: Best Power conversion efficiency for treated perovskite (numeric).\n",
    "- `treated_voc`: Best Open-circuit voltage for treated perovskite (numeric).\n",
    "- `passivating_molecule`: Name of the champion passivating molecule tested.\n",
    "- `perovskite_composition`: Chemical formula of the perovskite (string).\n",
    "- `electron_transport_layer`: Material used as the electron transport layer (string).\n",
    "- `hole_transport_layer`: Material used as the hole transport layer (string).\n",
    "- Stability tests: Include any stability tests mentioned. Stability tests can be done in dark storage, light-soaking, thermal cycling, light cycling, and solar-thermal cycling. If none of these types are tested, do not include a JSON object for them.\n",
    "For each test, the value should follow this format:\n",
    "```json\n",
    "{\n",
    "  \"test_name\": null,\n",
    "  \"temperature\": null,\n",
    "  \"time\": null,\n",
    "  \"humidity\": null,\n",
    "  \"control_efficiency\": null,\n",
    "  \"treatment_efficiency\": null\n",
    "}\n",
    "\n",
    "The JSON structure must follow this exact format:\n",
    "{\n",
    "  \"control_pce\": null,\n",
    "  \"control_voc\": null,\n",
    "  \"treated_pce\": null,\n",
    "  \"treated_voc\": null,\n",
    "  \"passivating_molecule\": null,\n",
    "  \"perovskite_composition\": null,\n",
    "  \"electron_transport_layer\": null,\n",
    "  \"hole_transport_layer\": null,\n",
    "  \"stability_tests\": [\n",
    "    {\n",
    "      \"test_name\": null,\n",
    "      \"temperature\": null,\n",
    "      \"time\": null,\n",
    "      \"humidity\": null,\n",
    "      \"control_efficiency\": null,\n",
    "      \"treatment_efficiency\": null\n",
    "    },\n",
    "  ]\n",
    "}\n",
    "Be concise and accurate. Include only information explicitly present in the text.\n",
    "Don't return ranges for any values, as this will cause the JSON to not parse correctly. If a range is presented, return the range as a string.\n",
    "Only return JSON. The text is below:\n",
    "\"\"\"\n",
    "SUFFIX = \"\"\"\\n\\n{sample}\\n\\n\"\"\"\n",
    "def create_prompt(system, user):\n",
    "    tokens = tokenizer.encode(user, max_length=25000, truncation=True)\n",
    "    truncated_user = tokenizer.decode(tokens)\n",
    "    return [\n",
    "    {\"role\": \"system\", \"content\": system},\n",
    "    {\"role\": \"user\", \"content\": truncated_user}, ]"
   ]
  },
  {
   "cell_type": "code",
   "execution_count": null,
   "metadata": {},
   "outputs": [],
   "source": [
    "contents = contents # {}"
   ]
  },
  {
   "cell_type": "code",
   "execution_count": 24,
   "metadata": {},
   "outputs": [
    {
     "name": "stderr",
     "output_type": "stream",
     "text": [
      "Setting `pad_token_id` to `eos_token_id`:None for open-end generation.\n"
     ]
    },
    {
     "name": "stdout",
     "output_type": "stream",
     "text": [
      "132\n"
     ]
    },
    {
     "name": "stderr",
     "output_type": "stream",
     "text": [
      "Setting `pad_token_id` to `eos_token_id`:None for open-end generation.\n"
     ]
    },
    {
     "name": "stdout",
     "output_type": "stream",
     "text": [
      "Error creating JSON Expecting value: line 1 column 1 (char 0)\n",
      "Here is the extracted data in JSON format:\n",
      "\n",
      "```\n",
      "{\n",
      "  \"control_pce\": 8.7,\n",
      "  \"control_voc\": 1.13,\n",
      "  \"treated_pce\": 23.1,\n",
      "  \"treated_voc\": 1.177,\n",
      "  \"passivating_molecule\": \"1-dodecanethiol (DDT)\",\n",
      "  \"perovskite_composition\": \"Cs0.05 FA x MA 1 - x PbI 3\",\n",
      "  \"electron_transport_layer\": \"Spiro-OMeTAD\",\n",
      "  \"hole_transport_layer\": \"Spiro-OMeTAD\",\n",
      "  \"stability_tests\": [\n",
      "    {\n",
      "      \"test_name\": \"Wetting stability\",\n",
      "      \"temperature\": null,\n",
      "      \"time\": 530,\n",
      "      \"humidity\": 50-65,\n",
      "      \"control_efficiency\": 19.7,\n",
      "      \"treatment_efficiency\": 19.6\n",
      "    },\n",
      "    {\n",
      "      \"test_name\": \"Thermal stability\",\n",
      "      \"temperature\": 50-85,\n",
      "      \"time\": 144,\n",
      "      \"humidity\": null,\n",
      "      \"control_efficiency\": 20.2,\n",
      "      \"treatment_efficiency\": 20.3\n",
      "    },\n",
      "    {\n",
      "      \"test_name\": \"Illumination stability\",\n",
      "      \"temperature\": 30-35,\n",
      "      \"time\": 2000,\n",
      "      \"humidity\": null,\n",
      "      \"control_efficiency\": 19.0,\n",
      "      \"treatment_efficiency\": 20.2\n",
      "    }\n",
      "  ]\n",
      "}\n",
      "```\n",
      "\n",
      "Note that some fields are not available in the text, so they are set to `null`.\n",
      "5\n"
     ]
    },
    {
     "name": "stderr",
     "output_type": "stream",
     "text": [
      "Setting `pad_token_id` to `eos_token_id`:None for open-end generation.\n"
     ]
    },
    {
     "name": "stdout",
     "output_type": "stream",
     "text": [
      "140\n"
     ]
    },
    {
     "name": "stderr",
     "output_type": "stream",
     "text": [
      "Setting `pad_token_id` to `eos_token_id`:None for open-end generation.\n"
     ]
    },
    {
     "name": "stdout",
     "output_type": "stream",
     "text": [
      "147\n"
     ]
    },
    {
     "name": "stderr",
     "output_type": "stream",
     "text": [
      "Setting `pad_token_id` to `eos_token_id`:None for open-end generation.\n"
     ]
    },
    {
     "name": "stdout",
     "output_type": "stream",
     "text": [
      "2\n"
     ]
    },
    {
     "name": "stderr",
     "output_type": "stream",
     "text": [
      "Setting `pad_token_id` to `eos_token_id`:None for open-end generation.\n"
     ]
    },
    {
     "name": "stdout",
     "output_type": "stream",
     "text": [
      "35\n"
     ]
    },
    {
     "name": "stderr",
     "output_type": "stream",
     "text": [
      "Setting `pad_token_id` to `eos_token_id`:None for open-end generation.\n"
     ]
    },
    {
     "name": "stdout",
     "output_type": "stream",
     "text": [
      "98\n"
     ]
    },
    {
     "name": "stderr",
     "output_type": "stream",
     "text": [
      "Setting `pad_token_id` to `eos_token_id`:None for open-end generation.\n"
     ]
    },
    {
     "name": "stdout",
     "output_type": "stream",
     "text": [
      "49\n"
     ]
    },
    {
     "name": "stderr",
     "output_type": "stream",
     "text": [
      "Setting `pad_token_id` to `eos_token_id`:None for open-end generation.\n"
     ]
    },
    {
     "name": "stdout",
     "output_type": "stream",
     "text": [
      "Error creating JSON Expecting ',' delimiter: line 15 column 22 (char 411)\n",
      "{\n",
      "  \"control_pce\": null,\n",
      "  \"control_voc\": null,\n",
      "  \"treated_pce\": 16.25,\n",
      "  \"treated_voc\": 1.31,\n",
      "  \"passivating_molecule\": \"n-butylamine acetate (BAAc)\",\n",
      "  \"perovskite_composition\": \"BA2MAn-1PbI3n+1\",\n",
      "  \"electron_transport_layer\": \"SnO2\",\n",
      "  \"hole_transport_layer\": \"spiro-OMeTAD\",\n",
      "  \"stability_tests\": [\n",
      "    {\n",
      "      \"test_name\": \"Dark storage\",\n",
      "      \"temperature\": null,\n",
      "      \"time\": 4680,\n",
      "      \"humidity\": 65 ± 10%,\n",
      "      \"control_efficiency\": null,\n",
      "      \"treatment_efficiency\": 93.8%\n",
      "    },\n",
      "    {\n",
      "      \"test_name\": \"Light-soaking\",\n",
      "      \"temperature\": null,\n",
      "      \"time\": 1100,\n",
      "      \"humidity\": null,\n",
      "      \"control_efficiency\": null,\n",
      "      \"treatment_efficiency\": 96.2%\n",
      "    },\n",
      "    {\n",
      "      \"test_name\": \"Thermal cycling\",\n",
      "      \"temperature\": 85 °C,\n",
      "      \"time\": 558,\n",
      "      \"humidity\": null,\n",
      "      \"control_efficiency\": null,\n",
      "      \"treatment_efficiency\": 95.7%\n",
      "    },\n",
      "    {\n",
      "      \"test_name\": \"Light cycling\",\n",
      "      \"temperature\": null,\n",
      "      \"time\": 1,100,\n",
      "      \"humidity\": null,\n",
      "      \"control_efficiency\": null,\n",
      "      \"treatment_efficiency\": 96.2%\n",
      "    },\n",
      "    {\n",
      "      \"test_name\": \"Solar-thermal cycling\",\n",
      "      \"temperature\": 85 °C,\n",
      "      \"time\": 558,\n",
      "      \"humidity\": null,\n",
      "      \"control_efficiency\": null,\n",
      "      \"treatment_efficiency\": 95.7%\n",
      "    }\n",
      "  ]\n",
      "}\n",
      "109\n"
     ]
    },
    {
     "name": "stderr",
     "output_type": "stream",
     "text": [
      "Setting `pad_token_id` to `eos_token_id`:None for open-end generation.\n"
     ]
    },
    {
     "name": "stdout",
     "output_type": "stream",
     "text": [
      "32\n"
     ]
    },
    {
     "name": "stderr",
     "output_type": "stream",
     "text": [
      "Setting `pad_token_id` to `eos_token_id`:None for open-end generation.\n"
     ]
    },
    {
     "name": "stdout",
     "output_type": "stream",
     "text": [
      "91\n"
     ]
    },
    {
     "name": "stderr",
     "output_type": "stream",
     "text": [
      "Setting `pad_token_id` to `eos_token_id`:None for open-end generation.\n"
     ]
    },
    {
     "name": "stdout",
     "output_type": "stream",
     "text": [
      "40\n"
     ]
    },
    {
     "name": "stderr",
     "output_type": "stream",
     "text": [
      "Setting `pad_token_id` to `eos_token_id`:None for open-end generation.\n"
     ]
    },
    {
     "name": "stdout",
     "output_type": "stream",
     "text": [
      "107\n"
     ]
    },
    {
     "name": "stderr",
     "output_type": "stream",
     "text": [
      "Setting `pad_token_id` to `eos_token_id`:None for open-end generation.\n"
     ]
    },
    {
     "name": "stdout",
     "output_type": "stream",
     "text": [
      "96\n"
     ]
    },
    {
     "name": "stderr",
     "output_type": "stream",
     "text": [
      "Setting `pad_token_id` to `eos_token_id`:None for open-end generation.\n"
     ]
    },
    {
     "name": "stdout",
     "output_type": "stream",
     "text": [
      "47\n"
     ]
    },
    {
     "name": "stderr",
     "output_type": "stream",
     "text": [
      "Setting `pad_token_id` to `eos_token_id`:None for open-end generation.\n"
     ]
    },
    {
     "name": "stdout",
     "output_type": "stream",
     "text": [
      "100\n"
     ]
    },
    {
     "name": "stderr",
     "output_type": "stream",
     "text": [
      "Setting `pad_token_id` to `eos_token_id`:None for open-end generation.\n"
     ]
    },
    {
     "name": "stdout",
     "output_type": "stream",
     "text": [
      "125\n"
     ]
    },
    {
     "name": "stderr",
     "output_type": "stream",
     "text": [
      "Setting `pad_token_id` to `eos_token_id`:None for open-end generation.\n"
     ]
    },
    {
     "name": "stdout",
     "output_type": "stream",
     "text": [
      "Error creating JSON Expecting ',' delimiter: line 21 column 25 (char 559)\n",
      "{\n",
      "  \"control_pce\": null,\n",
      "  \"control_voc\": null,\n",
      "  \"treated_pce\": 23.7,\n",
      "  \"treated_voc\": 1.14,\n",
      "  \"passivating_molecule\": \"selenophene\",\n",
      "  \"perovskite_composition\": \"Cs1-xFAxPbI3\",\n",
      "  \"electron_transport_layer\": \"SnO2\",\n",
      "  \"hole_transport_layer\": \"PTAA/Spiro-OMeTAD\",\n",
      "  \"stability_tests\": [\n",
      "    {\n",
      "      \"test_name\": \"Dark storage stability\",\n",
      "      \"temperature\": null,\n",
      "      \"time\": null,\n",
      "      \"humidity\": null,\n",
      "      \"control_efficiency\": null,\n",
      "      \"treatment_efficiency\": 91\n",
      "    },\n",
      "    {\n",
      "      \"test_name\": \"Light-soaking stability\",\n",
      "      \"temperature\": 45 ± 5°C,\n",
      "      \"time\": 24 hours,\n",
      "      \"humidity\": 30~50% RH,\n",
      "      \"control_efficiency\": null,\n",
      "      \"treatment_efficiency\": 80\n",
      "    },\n",
      "    {\n",
      "      \"test_name\": \"Thermal cycling stability\",\n",
      "      \"temperature\": 85 ± 5°C,\n",
      "      \"time\": null,\n",
      "      \"humidity\": null,\n",
      "      \"control_efficiency\": null,\n",
      "      \"treatment_efficiency\": 80\n",
      "    },\n",
      "    {\n",
      "      \"test_name\": \"Light cycling stability\",\n",
      "      \"temperature\": null,\n",
      "      \"time\": null,\n",
      "      \"humidity\": null,\n",
      "      \"control_efficiency\": null,\n",
      "      \"treatment_efficiency\": 80\n",
      "    },\n",
      "    {\n",
      "      \"test_name\": \"Solar-thermal cycling stability\",\n",
      "      \"temperature\": 65 ± 5°C and 85 ± 5°C,\n",
      "      \"time\": null,\n",
      "      \"humidity\": null,\n",
      "      \"control_efficiency\": null,\n",
      "      \"treatment_efficiency\": 89 and 80\n",
      "    }\n",
      "  ]\n",
      "}\n",
      "62\n"
     ]
    },
    {
     "name": "stderr",
     "output_type": "stream",
     "text": [
      "Setting `pad_token_id` to `eos_token_id`:None for open-end generation.\n"
     ]
    },
    {
     "name": "stdout",
     "output_type": "stream",
     "text": [
      "122\n"
     ]
    },
    {
     "name": "stderr",
     "output_type": "stream",
     "text": [
      "Setting `pad_token_id` to `eos_token_id`:None for open-end generation.\n"
     ]
    },
    {
     "name": "stdout",
     "output_type": "stream",
     "text": [
      "65\n"
     ]
    },
    {
     "name": "stderr",
     "output_type": "stream",
     "text": [
      "Setting `pad_token_id` to `eos_token_id`:None for open-end generation.\n"
     ]
    },
    {
     "name": "stdout",
     "output_type": "stream",
     "text": [
      "19\n"
     ]
    },
    {
     "name": "stderr",
     "output_type": "stream",
     "text": [
      "Setting `pad_token_id` to `eos_token_id`:None for open-end generation.\n"
     ]
    },
    {
     "name": "stdout",
     "output_type": "stream",
     "text": [
      "17\n"
     ]
    },
    {
     "name": "stderr",
     "output_type": "stream",
     "text": [
      "Setting `pad_token_id` to `eos_token_id`:None for open-end generation.\n"
     ]
    },
    {
     "name": "stdout",
     "output_type": "stream",
     "text": [
      "10\n"
     ]
    },
    {
     "name": "stderr",
     "output_type": "stream",
     "text": [
      "Setting `pad_token_id` to `eos_token_id`:None for open-end generation.\n"
     ]
    },
    {
     "name": "stdout",
     "output_type": "stream",
     "text": [
      "25\n"
     ]
    },
    {
     "name": "stderr",
     "output_type": "stream",
     "text": [
      "Setting `pad_token_id` to `eos_token_id`:None for open-end generation.\n"
     ]
    },
    {
     "name": "stdout",
     "output_type": "stream",
     "text": [
      "59\n"
     ]
    },
    {
     "name": "stderr",
     "output_type": "stream",
     "text": [
      "Setting `pad_token_id` to `eos_token_id`:None for open-end generation.\n"
     ]
    },
    {
     "name": "stdout",
     "output_type": "stream",
     "text": [
      "88\n",
      "Error creating JSON Expecting ',' delimiter: line 31 column 21 (char 965)\n",
      "{\n",
      "  \"control_pce\": 19.03,\n",
      "  \"control_voc\": 0.92,\n",
      "  \"treated_pce\": 21.46,\n",
      "  \"treated_voc\": 0.94,\n",
      "  \"passivating_molecule\": \"NaF\",\n",
      "  \"perovskite_composition\": \"(Cs 0.05 FA 0.54 MA 0.41 )Pb(I 0.98 Br 0.02 ) 3\",\n",
      "  \"electron_transport_layer\": \"SnO2\",\n",
      "  \"hole_transport_layer\": \"Spiro-OMeTAD\",\n",
      "  \"stability_tests\": [\n",
      "    {\n",
      "      \"test_name\": \"Continuous one-sun illumination in a nitrogen atmosphere\",\n",
      "      \"temperature\": null,\n",
      "      \"time\": 1000,\n",
      "      \"humidity\": null,\n",
      "      \"control_efficiency\": 19.03,\n",
      "      \"treatment_efficiency\": 21.46\n",
      "    },\n",
      "    {\n",
      "      \"test_name\": \"Thermal stress at 85 °C in a nitrogen atmosphere\",\n",
      "      \"temperature\": 85,\n",
      "      \"time\": 1000,\n",
      "      \"humidity\": null,\n",
      "      \"control_efficiency\": 19.03,\n",
      "      \"treatment_efficiency\": 21.46\n",
      "    },\n",
      "    {\n",
      "      \"test_name\": \"Storage in ambient air with a relative humidity of about 25%-45% and a temperature of about 25-40 °C\",\n",
      "      \"temperature\": null,\n",
      "      \"time\": 6000,\n",
      "      \"humidity\": 25-45,\n",
      "      \"control_efficiency\": 19.03,\n",
      "      \"treatment_efficiency\": 21.46\n",
      "    },\n",
      "    {\n",
      "      \"test_name\": \"MPP tracking and continuous light irradiation with a white LED lamp, 100 mW cm -2 in a nitrogen atmosphere\",\n",
      "      \"temperature\": null,\n",
      "      \"time\": 1000,\n",
      "      \"humidity\": null,\n",
      "      \"control_efficiency\": 19.03,\n",
      "      \"treatment_efficiency\": 21.46\n",
      "    }\n",
      "  ]\n",
      "}\n",
      "119\n"
     ]
    },
    {
     "name": "stderr",
     "output_type": "stream",
     "text": [
      "Setting `pad_token_id` to `eos_token_id`:None for open-end generation.\n",
      "Setting `pad_token_id` to `eos_token_id`:None for open-end generation.\n"
     ]
    },
    {
     "name": "stdout",
     "output_type": "stream",
     "text": [
      "22\n"
     ]
    },
    {
     "name": "stderr",
     "output_type": "stream",
     "text": [
      "Setting `pad_token_id` to `eos_token_id`:None for open-end generation.\n"
     ]
    },
    {
     "name": "stdout",
     "output_type": "stream",
     "text": [
      "117\n"
     ]
    },
    {
     "name": "stderr",
     "output_type": "stream",
     "text": [
      "Setting `pad_token_id` to `eos_token_id`:None for open-end generation.\n"
     ]
    },
    {
     "name": "stdout",
     "output_type": "stream",
     "text": [
      "50\n"
     ]
    },
    {
     "name": "stderr",
     "output_type": "stream",
     "text": [
      "Setting `pad_token_id` to `eos_token_id`:None for open-end generation.\n"
     ]
    },
    {
     "name": "stdout",
     "output_type": "stream",
     "text": [
      "81\n"
     ]
    },
    {
     "name": "stderr",
     "output_type": "stream",
     "text": [
      "Setting `pad_token_id` to `eos_token_id`:None for open-end generation.\n"
     ]
    },
    {
     "name": "stdout",
     "output_type": "stream",
     "text": [
      "110\n"
     ]
    },
    {
     "name": "stderr",
     "output_type": "stream",
     "text": [
      "Setting `pad_token_id` to `eos_token_id`:None for open-end generation.\n"
     ]
    },
    {
     "name": "stdout",
     "output_type": "stream",
     "text": [
      "57\n",
      "86\n"
     ]
    },
    {
     "name": "stderr",
     "output_type": "stream",
     "text": [
      "Setting `pad_token_id` to `eos_token_id`:None for open-end generation.\n",
      "Setting `pad_token_id` to `eos_token_id`:None for open-end generation.\n"
     ]
    },
    {
     "name": "stdout",
     "output_type": "stream",
     "text": [
      "97\n"
     ]
    },
    {
     "name": "stderr",
     "output_type": "stream",
     "text": [
      "Setting `pad_token_id` to `eos_token_id`:None for open-end generation.\n"
     ]
    },
    {
     "name": "stdout",
     "output_type": "stream",
     "text": [
      "46\n"
     ]
    },
    {
     "name": "stderr",
     "output_type": "stream",
     "text": [
      "Setting `pad_token_id` to `eos_token_id`:None for open-end generation.\n"
     ]
    },
    {
     "name": "stdout",
     "output_type": "stream",
     "text": [
      "101\n"
     ]
    },
    {
     "name": "stderr",
     "output_type": "stream",
     "text": [
      "Setting `pad_token_id` to `eos_token_id`:None for open-end generation.\n"
     ]
    },
    {
     "name": "stdout",
     "output_type": "stream",
     "text": [
      "90\n"
     ]
    },
    {
     "name": "stderr",
     "output_type": "stream",
     "text": [
      "Setting `pad_token_id` to `eos_token_id`:None for open-end generation.\n"
     ]
    },
    {
     "name": "stdout",
     "output_type": "stream",
     "text": [
      "41\n"
     ]
    },
    {
     "name": "stderr",
     "output_type": "stream",
     "text": [
      "Setting `pad_token_id` to `eos_token_id`:None for open-end generation.\n"
     ]
    },
    {
     "name": "stdout",
     "output_type": "stream",
     "text": [
      "Error creating JSON Expecting ',' delimiter: line 13 column 25 (char 487)\n",
      "{\n",
      "  \"control_pce\": 21.94,\n",
      "  \"control_voc\": 1.135,\n",
      "  \"treated_pce\": 23.92,\n",
      "  \"treated_voc\": 1.157,\n",
      "  \"passivating_molecule\": \"ortho-(phenylene)di(ethylammonium) iodide (o-PDEAI2)\",\n",
      "  \"perovskite_composition\": \"PbI2: PbBr2: FAI: MAI: CsI: MACl = 0.98: 0.02: 0.81: 0.04: 0.05: 0.20\",\n",
      "  \"electron_transport_layer\": \"fluorine-doped tin oxide (FTO)\",\n",
      "  \"hole_transport_layer\": \"spiro-OMeTAD\",\n",
      "  \"stability_tests\": [\n",
      "    {\n",
      "      \"test_name\": \"Long-term stability test\",\n",
      "      \"temperature\": 85 °C,\n",
      "      \"time\": 1000 h,\n",
      "      \"humidity\": 40-50% RH,\n",
      "      \"control_efficiency\": 58%,\n",
      "      \"treatment_efficiency\": 85%\n",
      "    },\n",
      "    {\n",
      "      \"test_name\": \"Thermal stability test\",\n",
      "      \"temperature\": 85 °C,\n",
      "      \"time\": 1000 h,\n",
      "      \"humidity\": 0% RH,\n",
      "      \"control_efficiency\": 49%,\n",
      "      \"treatment_efficiency\": 25%\n",
      "    }\n",
      "  ]\n",
      "}\n",
      "106\n"
     ]
    },
    {
     "name": "stderr",
     "output_type": "stream",
     "text": [
      "Setting `pad_token_id` to `eos_token_id`:None for open-end generation.\n"
     ]
    },
    {
     "name": "stdout",
     "output_type": "stream",
     "text": [
      "108\n"
     ]
    },
    {
     "name": "stderr",
     "output_type": "stream",
     "text": [
      "Setting `pad_token_id` to `eos_token_id`:None for open-end generation.\n"
     ]
    },
    {
     "name": "stdout",
     "output_type": "stream",
     "text": [
      "Error creating JSON Expecting ',' delimiter: line 15 column 22 (char 391)\n",
      "{\n",
      "  \"control_pce\": null,\n",
      "  \"control_voc\": null,\n",
      "  \"treated_pce\": 24.48,\n",
      "  \"treated_voc\": 1.138,\n",
      "  \"passivating_molecule\": \"PEAI\",\n",
      "  \"perovskite_composition\": \"FAPbI3\",\n",
      "  \"electron_transport_layer\": \"mp-TiO2\",\n",
      "  \"hole_transport_layer\": \"Spiro-OMeTAD\",\n",
      "  \"stability_tests\": [\n",
      "    {\n",
      "      \"test_name\": \"Thermal stability test\",\n",
      "      \"temperature\": 85,\n",
      "      \"time\": 1300,\n",
      "      \"humidity\": 15 to 25% RH,\n",
      "      \"control_efficiency\": 80%,\n",
      "      \"treatment_efficiency\": 80%\n",
      "    },\n",
      "    {\n",
      "      \"test_name\": \"Thermal stability test at 150°C\",\n",
      "      \"temperature\": 150,\n",
      "      \"time\": 20,\n",
      "      \"humidity\": 15 to 25% RH,\n",
      "      \"control_efficiency\": 60%,\n",
      "      \"treatment_efficiency\": 80%\n",
      "    },\n",
      "    {\n",
      "      \"test_name\": \"Long-term stability test\",\n",
      "      \"temperature\": 25°C,\n",
      "      \"time\": 400,\n",
      "      \"humidity\": 25°C,\n",
      "      \"control_efficiency\": null,\n",
      "      \"treatment_efficiency\": null\n",
      "    }\n",
      "  ]\n",
      "}\n",
      "33\n"
     ]
    },
    {
     "name": "stderr",
     "output_type": "stream",
     "text": [
      "Setting `pad_token_id` to `eos_token_id`:None for open-end generation.\n"
     ]
    },
    {
     "name": "stdout",
     "output_type": "stream",
     "text": [
      "34\n"
     ]
    },
    {
     "name": "stderr",
     "output_type": "stream",
     "text": [
      "Setting `pad_token_id` to `eos_token_id`:None for open-end generation.\n"
     ]
    },
    {
     "name": "stdout",
     "output_type": "stream",
     "text": [
      "99\n"
     ]
    },
    {
     "name": "stderr",
     "output_type": "stream",
     "text": [
      "Setting `pad_token_id` to `eos_token_id`:None for open-end generation.\n"
     ]
    },
    {
     "name": "stdout",
     "output_type": "stream",
     "text": [
      "48\n"
     ]
    },
    {
     "name": "stderr",
     "output_type": "stream",
     "text": [
      "Setting `pad_token_id` to `eos_token_id`:None for open-end generation.\n"
     ]
    },
    {
     "name": "stdout",
     "output_type": "stream",
     "text": [
      "146\n"
     ]
    },
    {
     "name": "stderr",
     "output_type": "stream",
     "text": [
      "Setting `pad_token_id` to `eos_token_id`:None for open-end generation.\n"
     ]
    },
    {
     "name": "stdout",
     "output_type": "stream",
     "text": [
      "Error creating JSON Expecting ',' delimiter: line 13 column 25 (char 667)\n",
      "{\n",
      "  \"control_pce\": 21.5,\n",
      "  \"control_voc\": 1.128,\n",
      "  \"treated_pce\": 23.05,\n",
      "  \"treated_voc\": 1.170,\n",
      "  \"passivating_molecule\": \"1,2-bis(4-phenyl)-1,2-dicarba-closo-decaborane (CB-ph) dodecahydro-arachno-bis(acatonitrile)decaborane (CB-ph) and 1,2-bis(4-nitrobenzene)-1,2-dicarba-closo-dodecaborane (CB-NO2) and 1,2-bis(4-phenyl)-1,2-dicarba-closo-decaborane (CB-NH2) decorated with phenylamino groups\",\n",
      "  \"perovskite_composition\": \"Cs0.05 (MA0.05 FA0.95)0.95 Pb(I0.95 Br0.05)3\",\n",
      "  \"electron_transport_layer\": \"C60\",\n",
      "  \"hole_transport_layer\": \"BCP\",\n",
      "  \"stability_tests\": [\n",
      "    {\n",
      "      \"test_name\": \"Maximum Power Point Tracking (MPP) in glovebox\",\n",
      "      \"temperature\": 26 °C,\n",
      "      \"time\": 400 h,\n",
      "      \"humidity\": 30% RH,\n",
      "      \"control_efficiency\": 21.10%,\n",
      "      \"treatment_efficiency\": 23.04%\n",
      "    },\n",
      "    {\n",
      "      \"test_name\": \"MPP tracking under 1 sun illumination in air (30% RH) and at 40 °C\",\n",
      "      \"temperature\": 40 °C,\n",
      "      \"time\": 400 h,\n",
      "      \"humidity\": 30% RH,\n",
      "      \"control_efficiency\": 21.10%,\n",
      "      \"treatment_efficiency\": 23.04%\n",
      "    }\n",
      "  ]\n",
      "}\n",
      "3\n"
     ]
    },
    {
     "name": "stderr",
     "output_type": "stream",
     "text": [
      "Setting `pad_token_id` to `eos_token_id`:None for open-end generation.\n"
     ]
    },
    {
     "name": "stdout",
     "output_type": "stream",
     "text": [
      "4\n"
     ]
    },
    {
     "name": "stderr",
     "output_type": "stream",
     "text": [
      "Setting `pad_token_id` to `eos_token_id`:None for open-end generation.\n"
     ]
    },
    {
     "name": "stdout",
     "output_type": "stream",
     "text": [
      "141\n"
     ]
    },
    {
     "name": "stderr",
     "output_type": "stream",
     "text": [
      "Setting `pad_token_id` to `eos_token_id`:None for open-end generation.\n"
     ]
    },
    {
     "name": "stdout",
     "output_type": "stream",
     "text": [
      "74\n"
     ]
    },
    {
     "name": "stderr",
     "output_type": "stream",
     "text": [
      "Setting `pad_token_id` to `eos_token_id`:None for open-end generation.\n"
     ]
    },
    {
     "name": "stdout",
     "output_type": "stream",
     "text": [
      "133\n"
     ]
    },
    {
     "name": "stderr",
     "output_type": "stream",
     "text": [
      "Setting `pad_token_id` to `eos_token_id`:None for open-end generation.\n"
     ]
    },
    {
     "name": "stdout",
     "output_type": "stream",
     "text": [
      "148\n"
     ]
    },
    {
     "name": "stderr",
     "output_type": "stream",
     "text": [
      "Setting `pad_token_id` to `eos_token_id`:None for open-end generation.\n"
     ]
    },
    {
     "name": "stdout",
     "output_type": "stream",
     "text": [
      "73\n"
     ]
    },
    {
     "name": "stderr",
     "output_type": "stream",
     "text": [
      "Setting `pad_token_id` to `eos_token_id`:None for open-end generation.\n"
     ]
    },
    {
     "name": "stdout",
     "output_type": "stream",
     "text": [
      "134\n"
     ]
    },
    {
     "name": "stderr",
     "output_type": "stream",
     "text": [
      "Setting `pad_token_id` to `eos_token_id`:None for open-end generation.\n"
     ]
    },
    {
     "name": "stdout",
     "output_type": "stream",
     "text": [
      "93\n"
     ]
    },
    {
     "name": "stderr",
     "output_type": "stream",
     "text": [
      "Setting `pad_token_id` to `eos_token_id`:None for open-end generation.\n"
     ]
    },
    {
     "name": "stdout",
     "output_type": "stream",
     "text": [
      "42\n"
     ]
    },
    {
     "name": "stderr",
     "output_type": "stream",
     "text": [
      "Setting `pad_token_id` to `eos_token_id`:None for open-end generation.\n"
     ]
    },
    {
     "name": "stdout",
     "output_type": "stream",
     "text": [
      "105\n"
     ]
    },
    {
     "name": "stderr",
     "output_type": "stream",
     "text": [
      "Setting `pad_token_id` to `eos_token_id`:None for open-end generation.\n"
     ]
    },
    {
     "name": "stdout",
     "output_type": "stream",
     "text": [
      "39\n"
     ]
    },
    {
     "name": "stderr",
     "output_type": "stream",
     "text": [
      "Setting `pad_token_id` to `eos_token_id`:None for open-end generation.\n"
     ]
    },
    {
     "name": "stdout",
     "output_type": "stream",
     "text": [
      "94\n"
     ]
    },
    {
     "name": "stderr",
     "output_type": "stream",
     "text": [
      "Setting `pad_token_id` to `eos_token_id`:None for open-end generation.\n"
     ]
    },
    {
     "name": "stdout",
     "output_type": "stream",
     "text": [
      "Error creating JSON Expecting ',' delimiter: line 15 column 21 (char 372)\n",
      "{\n",
      "  \"control_pce\": null,\n",
      "  \"control_voc\": null,\n",
      "  \"treated_pce\": 20.6,\n",
      "  \"treated_voc\": 1.129,\n",
      "  \"passivating_molecule\": \"P4VP\",\n",
      "  \"perovskite_composition\": null,\n",
      "  \"electron_transport_layer\": null,\n",
      "  \"hole_transport_layer\": null,\n",
      "  \"stability_tests\": [\n",
      "    {\n",
      "      \"test_name\": \"Dark storage stability\",\n",
      "      \"temperature\": null,\n",
      "      \"time\": 6000,\n",
      "      \"humidity\": 25-50% relative humidity,\n",
      "      \"control_efficiency\": null,\n",
      "      \"treatment_efficiency\": 80%\n",
      "    },\n",
      "    {\n",
      "      \"test_name\": \"Light-soaking stability\",\n",
      "      \"temperature\": null,\n",
      "      \"time\": null,\n",
      "      \"humidity\": 25-50% relative humidity,\n",
      "      \"control_efficiency\": null,\n",
      "      \"treatment_efficiency\": null\n",
      "    },\n",
      "    {\n",
      "      \"test_name\": \"Thermal cycling stability\",\n",
      "      \"temperature\": 85 C,\n",
      "      \"time\": 300,\n",
      "      \"humidity\": null,\n",
      "      \"control_efficiency\": null,\n",
      "      \"treatment_efficiency\": 80%\n",
      "    },\n",
      "    {\n",
      "      \"test_name\": \"Light cycling stability\",\n",
      "      \"temperature\": null,\n",
      "      \"time\": null,\n",
      "      \"humidity\": 25-50% relative humidity,\n",
      "      \"control_efficiency\": null,\n",
      "      \"treatment_efficiency\": null\n",
      "    },\n",
      "    {\n",
      "      \"test_name\": \"Solar-thermal cycling stability\",\n",
      "      \"temperature\": null,\n",
      "      \"time\": null,\n",
      "      \"humidity\": 25-50% relative humidity,\n",
      "      \"control_efficiency\": null,\n",
      "      \"treatment_efficiency\": null\n",
      "    }\n",
      "  ]\n",
      "}\n",
      "45\n"
     ]
    },
    {
     "name": "stderr",
     "output_type": "stream",
     "text": [
      "Setting `pad_token_id` to `eos_token_id`:None for open-end generation.\n"
     ]
    },
    {
     "name": "stdout",
     "output_type": "stream",
     "text": [
      "Error creating JSON Extra data: line 21 column 1 (char 434)\n",
      "{\n",
      "  \"control_pce\": null,\n",
      "  \"control_voc\": null,\n",
      "  \"treated_pce\": 25.1,\n",
      "  \"treated_voc\": null,\n",
      "  \"passivating_molecule\": null,\n",
      "  \"perovskite_composition\": null,\n",
      "  \"electron_transport_layer\": null,\n",
      "  \"hole_transport_layer\": null,\n",
      "  \"stability_tests\": [\n",
      "    {\n",
      "      \"test_name\": null,\n",
      "      \"temperature\": null,\n",
      "      \"time\": null,\n",
      "      \"humidity\": null,\n",
      "      \"control_efficiency\": null,\n",
      "      \"treatment_efficiency\": null\n",
      "    }\n",
      "  ]\n",
      "}\n",
      "```\n",
      "\n",
      "Note: The provided text does not contain specific data on power conversion efficiency (PCE), open-circuit voltage (VOC), passivating molecules, electron transport layers, hole transport layers, or stability tests. Therefore, the corresponding fields are set to null.\n",
      "102\n"
     ]
    },
    {
     "name": "stderr",
     "output_type": "stream",
     "text": [
      "Setting `pad_token_id` to `eos_token_id`:None for open-end generation.\n"
     ]
    },
    {
     "name": "stdout",
     "output_type": "stream",
     "text": [
      "37\n"
     ]
    },
    {
     "name": "stderr",
     "output_type": "stream",
     "text": [
      "Setting `pad_token_id` to `eos_token_id`:None for open-end generation.\n"
     ]
    },
    {
     "name": "stdout",
     "output_type": "stream",
     "text": [
      "30\n",
      "Error creating JSON Expecting value: line 1 column 1 (char 0)\n",
      "Here is the extracted data in JSON format:\n",
      "\n",
      "```\n",
      "{\n",
      "  \"control_pce\": null,\n",
      "  \"control_voc\": null,\n",
      "  \"treated_pce\": 23.21,\n",
      "  \"treated_voc\": 1.16,\n",
      "  \"passivating_molecule\": \"Ammonia\",\n",
      "  \"perovskite_composition\": \"α-FAPbI3\",\n",
      "  \"electron_transport_layer\": null,\n",
      "  \"hole_transport_layer\": null,\n",
      "  \"stability_tests\": [\n",
      "    {\n",
      "      \"test_name\": \"Dark storage\",\n",
      "      \"temperature\": null,\n",
      "      \"time\": null,\n",
      "      \"humidity\": null,\n",
      "      \"control_efficiency\": null,\n",
      "      \"treatment_efficiency\": null\n",
      "    },\n",
      "    {\n",
      "      \"test_name\": \"Light-soaking\",\n",
      "      \"temperature\": null,\n",
      "      \"time\": null,\n",
      "      \"humidity\": null,\n",
      "      \"control_efficiency\": null,\n",
      "      \"treatment_efficiency\": null\n",
      "    },\n",
      "    {\n",
      "      \"test_name\": \"Thermal cycling\",\n",
      "      \"temperature\": null,\n",
      "      \"time\": null,\n",
      "      \"humidity\": null,\n",
      "      \"control_efficiency\": null,\n",
      "      \"treatment_efficiency\": null\n",
      "    },\n",
      "    {\n",
      "      \"test_name\": \"Light cycling\",\n",
      "      \"temperature\": null,\n",
      "      \"time\": null,\n",
      "      \"humidity\": null,\n",
      "      \"control_efficiency\": null,\n",
      "      \"treatment_efficiency\": null\n",
      "    },\n",
      "    {\n",
      "      \"test_name\": \"Solar-thermal cycling\",\n",
      "      \"temperature\": null,\n",
      "      \"time\": null,\n",
      "      \"humidity\": null,\n",
      "      \"control_efficiency\": null,\n",
      "      \"treatment_efficiency\": null\n",
      "    }\n",
      "  ]\n",
      "}\n",
      "```\n",
      "\n",
      "Note that some fields are null as they were not explicitly mentioned in the text.\n",
      "7\n"
     ]
    },
    {
     "name": "stderr",
     "output_type": "stream",
     "text": [
      "Setting `pad_token_id` to `eos_token_id`:None for open-end generation.\n",
      "Setting `pad_token_id` to `eos_token_id`:None for open-end generation.\n"
     ]
    },
    {
     "name": "stdout",
     "output_type": "stream",
     "text": [
      "Error creating JSON Extra data: line 21 column 1 (char 434)\n",
      "{\n",
      "  \"control_pce\": null,\n",
      "  \"control_voc\": null,\n",
      "  \"treated_pce\": null,\n",
      "  \"treated_voc\": null,\n",
      "  \"passivating_molecule\": null,\n",
      "  \"perovskite_composition\": null,\n",
      "  \"electron_transport_layer\": null,\n",
      "  \"hole_transport_layer\": null,\n",
      "  \"stability_tests\": [\n",
      "    {\n",
      "      \"test_name\": null,\n",
      "      \"temperature\": null,\n",
      "      \"time\": null,\n",
      "      \"humidity\": null,\n",
      "      \"control_efficiency\": null,\n",
      "      \"treatment_efficiency\": null\n",
      "    }\n",
      "  ]\n",
      "}\n",
      "```\n",
      "\n",
      "Note: The provided text does not contain specific data on the power conversion efficiency (PCE), open-circuit voltage (VOC), treated PCE, and treated VOC for the control and treated perovskites. Therefore, these fields are set to null.\n",
      "79\n"
     ]
    },
    {
     "name": "stderr",
     "output_type": "stream",
     "text": [
      "Setting `pad_token_id` to `eos_token_id`:None for open-end generation.\n"
     ]
    },
    {
     "name": "stdout",
     "output_type": "stream",
     "text": [
      "142\n"
     ]
    },
    {
     "name": "stderr",
     "output_type": "stream",
     "text": [
      "Setting `pad_token_id` to `eos_token_id`:None for open-end generation.\n"
     ]
    },
    {
     "name": "stdout",
     "output_type": "stream",
     "text": [
      "Error creating JSON Expecting ',' delimiter: line 14 column 18 (char 428)\n",
      "{\n",
      "  \"control_pce\": null,\n",
      "  \"control_voc\": null,\n",
      "  \"treated_pce\": 16.13,\n",
      "  \"treated_voc\": 1.08,\n",
      "  \"passivating_molecule\": \"Formamidinium iodide (FAI)\",\n",
      "  \"perovskite_composition\": \"MAPbI3-(BA)2(MA)nÀ1Pb(nI)3n+1\",\n",
      "  \"electron_transport_layer\": \"2D perovskite layer\",\n",
      "  \"hole_transport_layer\": \"2D perovskite layer\",\n",
      "  \"stability_tests\": [\n",
      "    {\n",
      "      \"test_name\": \"Humidity stability\",\n",
      "      \"temperature\": null,\n",
      "      \"time\": 50 days,\n",
      "      \"humidity\": 65% G 5%,\n",
      "      \"control_efficiency\": null,\n",
      "      \"treatment_efficiency\": 71%\n",
      "    },\n",
      "    {\n",
      "      \"test_name\": \"Thermal stability\",\n",
      "      \"temperature\": 85 C G 3 C,\n",
      "      \"time\": 30 days,\n",
      "      \"humidity\": null,\n",
      "      \"control_efficiency\": null,\n",
      "      \"treatment_efficiency\": 74%\n",
      "    },\n",
      "    {\n",
      "      \"test_name\": \"Illumination stability\",\n",
      "      \"temperature\": null,\n",
      "      \"time\": 24 hr,\n",
      "      \"humidity\": null,\n",
      "      \"control_efficiency\": null,\n",
      "      \"treatment_efficiency\": 90%\n",
      "    }\n",
      "  ]\n",
      "}\n",
      "145\n"
     ]
    },
    {
     "name": "stderr",
     "output_type": "stream",
     "text": [
      "Setting `pad_token_id` to `eos_token_id`:None for open-end generation.\n"
     ]
    },
    {
     "name": "stdout",
     "output_type": "stream",
     "text": [
      "Error creating JSON Expecting ',' delimiter: line 15 column 21 (char 389)\n",
      "{\n",
      "  \"control_pce\": null,\n",
      "  \"control_voc\": null,\n",
      "  \"treated_pce\": 20.48,\n",
      "  \"treated_voc\": 1.13,\n",
      "  \"passivating_molecule\": \"4-fluoroaniline (FAL)\",\n",
      "  \"perovskite_composition\": \"MAPbI3\",\n",
      "  \"electron_transport_layer\": null,\n",
      "  \"hole_transport_layer\": null,\n",
      "  \"stability_tests\": [\n",
      "    {\n",
      "      \"test_name\": \"Humidity stability\",\n",
      "      \"temperature\": null,\n",
      "      \"time\": null,\n",
      "      \"humidity\": 85-95%\",\n",
      "      \"control_efficiency\": null,\n",
      "      \"treatment_efficiency\": \"retained 75% of initial efficiency\"\n",
      "    },\n",
      "    {\n",
      "      \"test_name\": \"Photostability\",\n",
      "      \"temperature\": 85 °C,\n",
      "      \"time\": 100 h,\n",
      "      \"humidity\": null,\n",
      "      \"control_efficiency\": null,\n",
      "      \"treatment_efficiency\": \"retained 75% of initial efficiency\"\n",
      "    }\n",
      "  ]\n",
      "}\n",
      "0\n"
     ]
    },
    {
     "name": "stderr",
     "output_type": "stream",
     "text": [
      "Setting `pad_token_id` to `eos_token_id`:None for open-end generation.\n"
     ]
    },
    {
     "name": "stdout",
     "output_type": "stream",
     "text": [
      "Error creating JSON Expecting ',' delimiter: line 13 column 24 (char 431)\n",
      "{\n",
      "  \"control_pce\": 25.7,\n",
      "  \"control_voc\": 1.17,\n",
      "  \"treated_pce\": 23.77,\n",
      "  \"treated_voc\": 1.145,\n",
      "  \"passivating_molecule\": \"Cyclohexylmethylammonium iodide (CMAI)\",\n",
      "  \"perovskite_composition\": \"α-formamidinium lead triiodide (FAPbI3)\",\n",
      "  \"electron_transport_layer\": \"C60\",\n",
      "  \"hole_transport_layer\": \"SAMs (self-assembled monolayers)\",\n",
      "  \"stability_tests\": [\n",
      "    {\n",
      "      \"test_name\": \"Dark storage stability\",\n",
      "      \"temperature\": 85°C,\n",
      "      \"time\": 1500 hours,\n",
      "      \"humidity\": 50 ± 10% RH,\n",
      "      \"control_efficiency\": 23.2%,\n",
      "      \"treatment_efficiency\": 19.9%\n",
      "    },\n",
      "    {\n",
      "      \"test_name\": \"Light-soaking stability\",\n",
      "      \"temperature\": 65°C,\n",
      "      \"time\": 1200 hours,\n",
      "      \"humidity\": 50 ± 10% RH,\n",
      "      \"control_efficiency\": 14.2%,\n",
      "      \"treatment_efficiency\": 19.9%\n",
      "    },\n",
      "    {\n",
      "      \"test_name\": \"Thermal cycling stability\",\n",
      "      \"temperature\": 65°C,\n",
      "      \"time\": 500 hours,\n",
      "      \"humidity\": 50 ± 10% RH,\n",
      "      \"control_efficiency\": 90%,\n",
      "      \"treatment_efficiency\": 93%\n",
      "    },\n",
      "    {\n",
      "      \"test_name\": \"Light cycling stability\",\n",
      "      \"temperature\": 65°C,\n",
      "      \"time\": 1200 hours,\n",
      "      \"humidity\": 50 ± 10% RH,\n",
      "      \"control_efficiency\": 95%,\n",
      "      \"treatment_efficiency\": 95%\n",
      "    },\n",
      "    {\n",
      "      \"test_name\": \"Solar-thermal cycling stability\",\n",
      "      \"temperature\": 85°C,\n",
      "      \"time\": 1560 hours,\n",
      "      \"humidity\": 50 ± 10% RH,\n",
      "      \"control_efficiency\": 23.2%,\n",
      "      \"treatment_efficiency\": 19.9%\n",
      "    }\n",
      "  ]\n",
      "}\n",
      "139\n"
     ]
    },
    {
     "name": "stderr",
     "output_type": "stream",
     "text": [
      "Setting `pad_token_id` to `eos_token_id`:None for open-end generation.\n"
     ]
    },
    {
     "name": "stdout",
     "output_type": "stream",
     "text": [
      "70\n"
     ]
    },
    {
     "name": "stderr",
     "output_type": "stream",
     "text": [
      "Setting `pad_token_id` to `eos_token_id`:None for open-end generation.\n"
     ]
    },
    {
     "name": "stdout",
     "output_type": "stream",
     "text": [
      "137\n"
     ]
    },
    {
     "name": "stderr",
     "output_type": "stream",
     "text": [
      "Setting `pad_token_id` to `eos_token_id`:None for open-end generation.\n"
     ]
    },
    {
     "name": "stdout",
     "output_type": "stream",
     "text": [
      "9\n"
     ]
    },
    {
     "name": "stderr",
     "output_type": "stream",
     "text": [
      "Setting `pad_token_id` to `eos_token_id`:None for open-end generation.\n"
     ]
    },
    {
     "name": "stdout",
     "output_type": "stream",
     "text": [
      "77\n"
     ]
    },
    {
     "name": "stderr",
     "output_type": "stream",
     "text": [
      "Setting `pad_token_id` to `eos_token_id`:None for open-end generation.\n"
     ]
    },
    {
     "name": "stdout",
     "output_type": "stream",
     "text": [
      "Error creating JSON Expecting ',' delimiter: line 13 column 24 (char 361)\n",
      "{\n",
      "  \"control_pce\": 21.2,\n",
      "  \"control_voc\": 1.07,\n",
      "  \"treated_pce\": 24.1,\n",
      "  \"treated_voc\": 1.14,\n",
      "  \"passivating_molecule\": \"PEAMA +\",\n",
      "  \"perovskite_composition\": \"FA 0.9 Cs 0.1 PbI 3\",\n",
      "  \"electron_transport_layer\": null,\n",
      "  \"hole_transport_layer\": null,\n",
      "  \"stability_tests\": [\n",
      "    {\n",
      "      \"test_name\": \"High-temperature photostability test\",\n",
      "      \"temperature\": 85°C,\n",
      "      \"time\": 150 hours,\n",
      "      \"humidity\": null,\n",
      "      \"control_efficiency\": 90%,\n",
      "      \"treatment_efficiency\": 90%\n",
      "    },\n",
      "    {\n",
      "      \"test_name\": \"High-temperature photostability test\",\n",
      "      \"temperature\": 100°C,\n",
      "      \"time\": 80 hours,\n",
      "      \"humidity\": null,\n",
      "      \"control_efficiency\": null,\n",
      "      \"treatment_efficiency\": null\n",
      "    }\n",
      "  ]\n",
      "}\n",
      "130\n"
     ]
    },
    {
     "name": "stderr",
     "output_type": "stream",
     "text": [
      "Setting `pad_token_id` to `eos_token_id`:None for open-end generation.\n"
     ]
    },
    {
     "name": "stdout",
     "output_type": "stream",
     "text": [
      "121\n"
     ]
    },
    {
     "name": "stderr",
     "output_type": "stream",
     "text": [
      "Setting `pad_token_id` to `eos_token_id`:None for open-end generation.\n"
     ]
    },
    {
     "name": "stdout",
     "output_type": "stream",
     "text": [
      "66\n"
     ]
    },
    {
     "name": "stderr",
     "output_type": "stream",
     "text": [
      "Setting `pad_token_id` to `eos_token_id`:None for open-end generation.\n"
     ]
    },
    {
     "name": "stdout",
     "output_type": "stream",
     "text": [
      "126\n"
     ]
    },
    {
     "name": "stderr",
     "output_type": "stream",
     "text": [
      "Setting `pad_token_id` to `eos_token_id`:None for open-end generation.\n"
     ]
    },
    {
     "name": "stdout",
     "output_type": "stream",
     "text": [
      "61\n"
     ]
    },
    {
     "name": "stderr",
     "output_type": "stream",
     "text": [
      "Setting `pad_token_id` to `eos_token_id`:None for open-end generation.\n"
     ]
    },
    {
     "name": "stdout",
     "output_type": "stream",
     "text": [
      "Error creating JSON Expecting ',' delimiter: line 23 column 21 (char 581)\n",
      "{\n",
      "  \"control_pce\": null,\n",
      "  \"control_voc\": null,\n",
      "  \"treated_pce\": 23.1,\n",
      "  \"treated_voc\": 1.23,\n",
      "  \"passivating_molecule\": \"Butylamine\",\n",
      "  \"perovskite_composition\": \"MAPbI3\",\n",
      "  \"electron_transport_layer\": \"Spiro-OMeTAD\",\n",
      "  \"hole_transport_layer\": \"SnO2\",\n",
      "  \"stability_tests\": [\n",
      "    {\n",
      "      \"test_name\": \"Thermal Stability\",\n",
      "      \"temperature\": 85,\n",
      "      \"time\": 125,\n",
      "      \"humidity\": null,\n",
      "      \"control_efficiency\": null,\n",
      "      \"treatment_efficiency\": 60\n",
      "    },\n",
      "    {\n",
      "      \"test_name\": \"Environmental Stability\",\n",
      "      \"temperature\": null,\n",
      "      \"time\": 600,\n",
      "      \"humidity\": 30-40,\n",
      "      \"control_efficiency\": null,\n",
      "      \"treatment_efficiency\": 92\n",
      "    }\n",
      "  ]\n",
      "}\n",
      "13\n"
     ]
    },
    {
     "name": "stderr",
     "output_type": "stream",
     "text": [
      "Setting `pad_token_id` to `eos_token_id`:None for open-end generation.\n"
     ]
    },
    {
     "name": "stdout",
     "output_type": "stream",
     "text": [
      "128\n",
      "68\n"
     ]
    },
    {
     "name": "stderr",
     "output_type": "stream",
     "text": [
      "Setting `pad_token_id` to `eos_token_id`:None for open-end generation.\n",
      "Setting `pad_token_id` to `eos_token_id`:None for open-end generation.\n"
     ]
    },
    {
     "name": "stdout",
     "output_type": "stream",
     "text": [
      "14\n"
     ]
    },
    {
     "name": "stderr",
     "output_type": "stream",
     "text": [
      "Setting `pad_token_id` to `eos_token_id`:None for open-end generation.\n"
     ]
    },
    {
     "name": "stdout",
     "output_type": "stream",
     "text": [
      "21\n"
     ]
    },
    {
     "name": "stderr",
     "output_type": "stream",
     "text": [
      "Setting `pad_token_id` to `eos_token_id`:None for open-end generation.\n"
     ]
    },
    {
     "name": "stdout",
     "output_type": "stream",
     "text": [
      "26\n"
     ]
    },
    {
     "name": "stderr",
     "output_type": "stream",
     "text": [
      "Setting `pad_token_id` to `eos_token_id`:None for open-end generation.\n"
     ]
    },
    {
     "name": "stdout",
     "output_type": "stream",
     "text": [
      "28\n"
     ]
    },
    {
     "name": "stderr",
     "output_type": "stream",
     "text": [
      "Setting `pad_token_id` to `eos_token_id`:None for open-end generation.\n"
     ]
    },
    {
     "name": "stdout",
     "output_type": "stream",
     "text": [
      "113\n"
     ]
    },
    {
     "name": "stderr",
     "output_type": "stream",
     "text": [
      "Setting `pad_token_id` to `eos_token_id`:None for open-end generation.\n"
     ]
    },
    {
     "name": "stdout",
     "output_type": "stream",
     "text": [
      "54\n"
     ]
    },
    {
     "name": "stderr",
     "output_type": "stream",
     "text": [
      "Setting `pad_token_id` to `eos_token_id`:None for open-end generation.\n"
     ]
    },
    {
     "name": "stdout",
     "output_type": "stream",
     "text": [
      "85\n"
     ]
    },
    {
     "name": "stderr",
     "output_type": "stream",
     "text": [
      "Setting `pad_token_id` to `eos_token_id`:None for open-end generation.\n"
     ]
    },
    {
     "name": "stdout",
     "output_type": "stream",
     "text": [
      "114\n"
     ]
    },
    {
     "name": "stderr",
     "output_type": "stream",
     "text": [
      "Setting `pad_token_id` to `eos_token_id`:None for open-end generation.\n"
     ]
    },
    {
     "name": "stdout",
     "output_type": "stream",
     "text": [
      "Error creating JSON Extra data: line 21 column 1 (char 457)\n",
      "{\n",
      "  \"control_pce\": null,\n",
      "  \"control_voc\": null,\n",
      "  \"treated_pce\": 23.37,\n",
      "  \"treated_voc\": 1.17,\n",
      "  \"passivating_molecule\": \"Piperazinium iodide (PI)\",\n",
      "  \"perovskite_composition\": null,\n",
      "  \"electron_transport_layer\": null,\n",
      "  \"hole_transport_layer\": null,\n",
      "  \"stability_tests\": [\n",
      "    {\n",
      "      \"test_name\": null,\n",
      "      \"temperature\": null,\n",
      "      \"time\": null,\n",
      "      \"humidity\": null,\n",
      "      \"control_efficiency\": null,\n",
      "      \"treatment_efficiency\": null\n",
      "    }\n",
      "  ]\n",
      "}\n",
      "```\n",
      "\n",
      "Note: The provided text does not contain specific data on the control perovskite's power conversion efficiency (PCE) and open-circuit voltage (VOC). Therefore, the fields `control_pce` and `control_voc` are set to `null`.\n",
      "53\n"
     ]
    },
    {
     "name": "stderr",
     "output_type": "stream",
     "text": [
      "Setting `pad_token_id` to `eos_token_id`:None for open-end generation.\n"
     ]
    },
    {
     "name": "stdout",
     "output_type": "stream",
     "text": [
      "82\n"
     ]
    },
    {
     "name": "stderr",
     "output_type": "stream",
     "text": [
      "Setting `pad_token_id` to `eos_token_id`:None for open-end generation.\n"
     ]
    },
    {
     "name": "stdout",
     "output_type": "stream",
     "text": [
      "8\n"
     ]
    },
    {
     "name": "stderr",
     "output_type": "stream",
     "text": [
      "Setting `pad_token_id` to `eos_token_id`:None for open-end generation.\n"
     ]
    },
    {
     "name": "stdout",
     "output_type": "stream",
     "text": [
      "76\n"
     ]
    },
    {
     "name": "stderr",
     "output_type": "stream",
     "text": [
      "Setting `pad_token_id` to `eos_token_id`:None for open-end generation.\n"
     ]
    },
    {
     "name": "stdout",
     "output_type": "stream",
     "text": [
      "131\n"
     ]
    },
    {
     "name": "stderr",
     "output_type": "stream",
     "text": [
      "Setting `pad_token_id` to `eos_token_id`:None for open-end generation.\n"
     ]
    },
    {
     "name": "stdout",
     "output_type": "stream",
     "text": [
      "Error creating JSON Expecting ',' delimiter: line 21 column 24 (char 568)\n",
      "{\n",
      "  \"control_pce\": 22.2,\n",
      "  \"control_voc\": 1.15,\n",
      "  \"treated_pce\": 25.5,\n",
      "  \"treated_voc\": 1.208,\n",
      "  \"passivating_molecule\": \"Al2O3\",\n",
      "  \"perovskite_composition\": \"FA0.95MA0.05Pb(I0.95Br0.05)3\",\n",
      "  \"electron_transport_layer\": \"PTAA\",\n",
      "  \"hole_transport_layer\": \"Me-4PACz\",\n",
      "  \"stability_tests\": [\n",
      "    {\n",
      "      \"test_name\": \"Accelerated lifetime test\",\n",
      "      \"temperature\": 85,\n",
      "      \"time\": 1000,\n",
      "      \"humidity\": null,\n",
      "      \"control_efficiency\": 22.2,\n",
      "      \"treatment_efficiency\": 24.7\n",
      "    },\n",
      "    {\n",
      "      \"test_name\": \"Maximum-power-point tracking\",\n",
      "      \"temperature\": 35-40,\n",
      "      \"time\": 300,\n",
      "      \"humidity\": null,\n",
      "      \"control_efficiency\": 22.2,\n",
      "      \"treatment_efficiency\": 24.71\n",
      "    }\n",
      "  ]\n",
      "}\n",
      "71\n"
     ]
    },
    {
     "name": "stderr",
     "output_type": "stream",
     "text": [
      "Setting `pad_token_id` to `eos_token_id`:None for open-end generation.\n"
     ]
    },
    {
     "name": "stdout",
     "output_type": "stream",
     "text": [
      "136\n"
     ]
    },
    {
     "name": "stderr",
     "output_type": "stream",
     "text": [
      "Setting `pad_token_id` to `eos_token_id`:None for open-end generation.\n"
     ]
    },
    {
     "name": "stdout",
     "output_type": "stream",
     "text": [
      "144\n"
     ]
    },
    {
     "name": "stderr",
     "output_type": "stream",
     "text": [
      "Setting `pad_token_id` to `eos_token_id`:None for open-end generation.\n"
     ]
    },
    {
     "name": "stdout",
     "output_type": "stream",
     "text": [
      "1\n"
     ]
    },
    {
     "name": "stderr",
     "output_type": "stream",
     "text": [
      "Setting `pad_token_id` to `eos_token_id`:None for open-end generation.\n"
     ]
    },
    {
     "name": "stdout",
     "output_type": "stream",
     "text": [
      "138\n"
     ]
    },
    {
     "name": "stderr",
     "output_type": "stream",
     "text": [
      "Setting `pad_token_id` to `eos_token_id`:None for open-end generation.\n"
     ]
    },
    {
     "name": "stdout",
     "output_type": "stream",
     "text": [
      "Error creating JSON Expecting ',' delimiter: line 13 column 24 (char 372)\n",
      "{\n",
      "  \"control_pce\": 24.6,\n",
      "  \"control_voc\": null,\n",
      "  \"treated_pce\": 25.3,\n",
      "  \"treated_voc\": null,\n",
      "  \"passivating_molecule\": \"3-mercaptopropionic acid (3-MPA)\",\n",
      "  \"perovskite_composition\": \"Cs0.05MA0.10FA0.85PbI3\",\n",
      "  \"electron_transport_layer\": \"FTO\",\n",
      "  \"hole_transport_layer\": \"FTO\",\n",
      "  \"stability_tests\": [\n",
      "    {\n",
      "      \"test_name\": \"ISOS-L-3 protocol\",\n",
      "      \"temperature\": 65°C,\n",
      "      \"time\": 1075 h,\n",
      "      \"humidity\": \"~50% RH\",\n",
      "      \"control_efficiency\": 24.6%,\n",
      "      \"treatment_efficiency\": 25.3%\n",
      "    },\n",
      "    {\n",
      "      \"test_name\": \"ISOS-L-3 protocol\",\n",
      "      \"temperature\": 85°C,\n",
      "      \"time\": 1560 h,\n",
      "      \"humidity\": \"~50% RH\",\n",
      "      \"control_efficiency\": null,\n",
      "      \"treatment_efficiency\": null\n",
      "    },\n",
      "    {\n",
      "      \"test_name\": \"ISOS-L-3 protocol\",\n",
      "      \"temperature\": 65°C,\n",
      "      \"time\": 500 h,\n",
      "      \"humidity\": \"~85% RH\",\n",
      "      \"control_efficiency\": 23.1%,\n",
      "      \"treatment_efficiency\": 25.0%\n",
      "    },\n",
      "    {\n",
      "      \"test_name\": \"ISOS-L-3 protocol\",\n",
      "      \"temperature\": 85°C,\n",
      "      \"time\": 4000 h,\n",
      "      \"humidity\": null,\n",
      "      \"control_efficiency\": null,\n",
      "      \"treatment_efficiency\": null\n",
      "    }\n",
      "  ]\n",
      "}\n",
      "6\n"
     ]
    },
    {
     "name": "stderr",
     "output_type": "stream",
     "text": [
      "Setting `pad_token_id` to `eos_token_id`:None for open-end generation.\n"
     ]
    },
    {
     "name": "stdout",
     "output_type": "stream",
     "text": [
      "78\n"
     ]
    },
    {
     "name": "stderr",
     "output_type": "stream",
     "text": [
      "Setting `pad_token_id` to `eos_token_id`:None for open-end generation.\n"
     ]
    },
    {
     "name": "stdout",
     "output_type": "stream",
     "text": [
      "143\n"
     ]
    },
    {
     "name": "stderr",
     "output_type": "stream",
     "text": [
      "Setting `pad_token_id` to `eos_token_id`:None for open-end generation.\n"
     ]
    },
    {
     "name": "stdout",
     "output_type": "stream",
     "text": [
      "31\n"
     ]
    },
    {
     "name": "stderr",
     "output_type": "stream",
     "text": [
      "Setting `pad_token_id` to `eos_token_id`:None for open-end generation.\n"
     ]
    },
    {
     "name": "stdout",
     "output_type": "stream",
     "text": [
      "36\n"
     ]
    },
    {
     "name": "stderr",
     "output_type": "stream",
     "text": [
      "Setting `pad_token_id` to `eos_token_id`:None for open-end generation.\n"
     ]
    },
    {
     "name": "stdout",
     "output_type": "stream",
     "text": [
      "95\n"
     ]
    },
    {
     "name": "stderr",
     "output_type": "stream",
     "text": [
      "Setting `pad_token_id` to `eos_token_id`:None for open-end generation.\n"
     ]
    },
    {
     "name": "stdout",
     "output_type": "stream",
     "text": [
      "44\n"
     ]
    },
    {
     "name": "stderr",
     "output_type": "stream",
     "text": [
      "Setting `pad_token_id` to `eos_token_id`:None for open-end generation.\n"
     ]
    },
    {
     "name": "stdout",
     "output_type": "stream",
     "text": [
      "103\n"
     ]
    },
    {
     "name": "stderr",
     "output_type": "stream",
     "text": [
      "Setting `pad_token_id` to `eos_token_id`:None for open-end generation.\n"
     ]
    },
    {
     "name": "stdout",
     "output_type": "stream",
     "text": [
      "92\n"
     ]
    },
    {
     "name": "stderr",
     "output_type": "stream",
     "text": [
      "Setting `pad_token_id` to `eos_token_id`:None for open-end generation.\n"
     ]
    },
    {
     "name": "stdout",
     "output_type": "stream",
     "text": [
      "43\n"
     ]
    },
    {
     "name": "stderr",
     "output_type": "stream",
     "text": [
      "Setting `pad_token_id` to `eos_token_id`:None for open-end generation.\n"
     ]
    },
    {
     "name": "stdout",
     "output_type": "stream",
     "text": [
      "104\n"
     ]
    },
    {
     "name": "stderr",
     "output_type": "stream",
     "text": [
      "Setting `pad_token_id` to `eos_token_id`:None for open-end generation.\n"
     ]
    },
    {
     "name": "stdout",
     "output_type": "stream",
     "text": [
      "115\n"
     ]
    },
    {
     "name": "stderr",
     "output_type": "stream",
     "text": [
      "Setting `pad_token_id` to `eos_token_id`:None for open-end generation.\n"
     ]
    },
    {
     "name": "stdout",
     "output_type": "stream",
     "text": [
      "52\n"
     ]
    },
    {
     "name": "stderr",
     "output_type": "stream",
     "text": [
      "Setting `pad_token_id` to `eos_token_id`:None for open-end generation.\n"
     ]
    },
    {
     "name": "stdout",
     "output_type": "stream",
     "text": [
      "83\n"
     ]
    },
    {
     "name": "stderr",
     "output_type": "stream",
     "text": [
      "Setting `pad_token_id` to `eos_token_id`:None for open-end generation.\n"
     ]
    },
    {
     "name": "stdout",
     "output_type": "stream",
     "text": [
      "29\n"
     ]
    },
    {
     "name": "stderr",
     "output_type": "stream",
     "text": [
      "Setting `pad_token_id` to `eos_token_id`:None for open-end generation.\n"
     ]
    },
    {
     "name": "stdout",
     "output_type": "stream",
     "text": [
      "112\n"
     ]
    },
    {
     "name": "stderr",
     "output_type": "stream",
     "text": [
      "Setting `pad_token_id` to `eos_token_id`:None for open-end generation.\n"
     ]
    },
    {
     "name": "stdout",
     "output_type": "stream",
     "text": [
      "55\n"
     ]
    },
    {
     "name": "stderr",
     "output_type": "stream",
     "text": [
      "Setting `pad_token_id` to `eos_token_id`:None for open-end generation.\n"
     ]
    },
    {
     "name": "stdout",
     "output_type": "stream",
     "text": [
      "84\n"
     ]
    },
    {
     "name": "stderr",
     "output_type": "stream",
     "text": [
      "Setting `pad_token_id` to `eos_token_id`:None for open-end generation.\n"
     ]
    },
    {
     "name": "stdout",
     "output_type": "stream",
     "text": [
      "27\n"
     ]
    },
    {
     "name": "stderr",
     "output_type": "stream",
     "text": [
      "Setting `pad_token_id` to `eos_token_id`:None for open-end generation.\n"
     ]
    },
    {
     "name": "stdout",
     "output_type": "stream",
     "text": [
      "20\n"
     ]
    },
    {
     "name": "stderr",
     "output_type": "stream",
     "text": [
      "Setting `pad_token_id` to `eos_token_id`:None for open-end generation.\n"
     ]
    },
    {
     "name": "stdout",
     "output_type": "stream",
     "text": [
      "69\n"
     ]
    },
    {
     "name": "stderr",
     "output_type": "stream",
     "text": [
      "Setting `pad_token_id` to `eos_token_id`:None for open-end generation.\n"
     ]
    },
    {
     "name": "stdout",
     "output_type": "stream",
     "text": [
      "15\n"
     ]
    },
    {
     "name": "stderr",
     "output_type": "stream",
     "text": [
      "Setting `pad_token_id` to `eos_token_id`:None for open-end generation.\n"
     ]
    },
    {
     "name": "stdout",
     "output_type": "stream",
     "text": [
      "12\n"
     ]
    },
    {
     "name": "stderr",
     "output_type": "stream",
     "text": [
      "Setting `pad_token_id` to `eos_token_id`:None for open-end generation.\n"
     ]
    },
    {
     "name": "stdout",
     "output_type": "stream",
     "text": [
      "129\n"
     ]
    },
    {
     "name": "stderr",
     "output_type": "stream",
     "text": [
      "Setting `pad_token_id` to `eos_token_id`:None for open-end generation.\n"
     ]
    },
    {
     "name": "stdout",
     "output_type": "stream",
     "text": [
      "127\n"
     ]
    },
    {
     "name": "stderr",
     "output_type": "stream",
     "text": [
      "Setting `pad_token_id` to `eos_token_id`:None for open-end generation.\n"
     ]
    },
    {
     "name": "stdout",
     "output_type": "stream",
     "text": [
      "60\n"
     ]
    },
    {
     "name": "stderr",
     "output_type": "stream",
     "text": [
      "Setting `pad_token_id` to `eos_token_id`:None for open-end generation.\n"
     ]
    },
    {
     "name": "stdout",
     "output_type": "stream",
     "text": [
      "120\n"
     ]
    },
    {
     "name": "stderr",
     "output_type": "stream",
     "text": [
      "Setting `pad_token_id` to `eos_token_id`:None for open-end generation.\n"
     ]
    },
    {
     "name": "stdout",
     "output_type": "stream",
     "text": [
      "67\n"
     ]
    }
   ],
   "source": [
    "txt_dir = \"../../data/txts\"\n",
    "# contents = {}\n",
    "for filename in os.listdir(txt_dir):\n",
    "    if filename.endswith(\".txt\") == False:\n",
    "        continue\n",
    "    filepath = os.path.join(txt_dir, filename)\n",
    "    paper_id = os.path.splitext(filename)[0]\n",
    "    if paper_id in contents:\n",
    "        continue\n",
    "    print(paper_id)\n",
    "\n",
    "    with open(filepath, \"r\", encoding=\"utf-8\") as file:\n",
    "        text = file.read()\n",
    "        instruction = create_prompt(PREFIX, text)\n",
    "        json_string = pipe(instruction, max_new_tokens=1024)[0][\"generated_text\"][-1]['content']\n",
    "        clean_json_string = json_string.strip(\"```json\").strip(\"```\").strip()\n",
    "        try:\n",
    "            parsed_data = json.loads(clean_json_string)\n",
    "            contents[paper_id] = parsed_data\n",
    "        except json.JSONDecodeError as e:\n",
    "            print(\"Error creating JSON\", e)\n",
    "            print(clean_json_string)\n",
    "        "
   ]
  },
  {
   "cell_type": "code",
   "execution_count": 25,
   "metadata": {},
   "outputs": [],
   "source": [
    "json_path = \"../../data/finetuned_llama_output.json\"\n",
    "with open(json_path, \"w\") as file:\n",
    "    json.dump(contents, file, indent=4)"
   ]
  },
  {
   "cell_type": "code",
   "execution_count": null,
   "metadata": {},
   "outputs": [
    {
     "data": {
      "text/plain": [
       "{'control_pce': None,\n",
       " 'control_voc': None,\n",
       " 'treated_pce': 23.9,\n",
       " 'treated_voc': None,\n",
       " 'passivating_molecule': 'isopropylammonium chloride',\n",
       " 'perovskite_composition': 'FAPbI3',\n",
       " 'electron_transport_layer': None,\n",
       " 'hole_transport_layer': None,\n",
       " 'stability_tests': [{'test_name': 'dark storage',\n",
       "   'temperature': None,\n",
       "   'time': None,\n",
       "   'humidity': None,\n",
       "   'control_efficiency': None,\n",
       "   'treatment_efficiency': None},\n",
       "  {'test_name': 'light-soaking',\n",
       "   'temperature': None,\n",
       "   'time': None,\n",
       "   'humidity': None,\n",
       "   'control_efficiency': None,\n",
       "   'treatment_efficiency': None},\n",
       "  {'test_name': 'thermal cycling',\n",
       "   'temperature': None,\n",
       "   'time': None,\n",
       "   'humidity': None,\n",
       "   'control_efficiency': None,\n",
       "   'treatment_efficiency': None},\n",
       "  {'test_name': 'light cycling',\n",
       "   'temperature': None,\n",
       "   'time': None,\n",
       "   'humidity': None,\n",
       "   'control_efficiency': None,\n",
       "   'treatment_efficiency': None},\n",
       "  {'test_name': 'solar-thermal cycling',\n",
       "   'temperature': None,\n",
       "   'time': None,\n",
       "   'humidity': None,\n",
       "   'control_efficiency': None,\n",
       "   'treatment_efficiency': None}]}"
      ]
     },
     "execution_count": 22,
     "metadata": {},
     "output_type": "execute_result"
    }
   ],
   "source": []
  },
  {
   "cell_type": "code",
   "execution_count": null,
   "metadata": {},
   "outputs": [],
   "source": []
  }
 ],
 "metadata": {
  "kernelspec": {
   "display_name": "mykernel",
   "language": "python",
   "name": "python3"
  },
  "language_info": {
   "codemirror_mode": {
    "name": "ipython",
    "version": 3
   },
   "file_extension": ".py",
   "mimetype": "text/x-python",
   "name": "python",
   "nbconvert_exporter": "python",
   "pygments_lexer": "ipython3",
   "version": "3.11.9"
  }
 },
 "nbformat": 4,
 "nbformat_minor": 2
}
