{
 "cells": [
  {
   "cell_type": "code",
   "execution_count": 7,
   "metadata": {},
   "outputs": [],
   "source": [
    "from litellm import completion\n",
    "from dotenv import load_dotenv\n",
    "import os"
   ]
  },
  {
   "cell_type": "code",
   "execution_count": 4,
   "metadata": {},
   "outputs": [
    {
     "data": {
      "text/plain": [
       "True"
      ]
     },
     "execution_count": 4,
     "metadata": {},
     "output_type": "execute_result"
    }
   ],
   "source": [
    "load_dotenv()"
   ]
  },
  {
   "cell_type": "code",
   "execution_count": 5,
   "metadata": {},
   "outputs": [],
   "source": [
    "base_model = \"groq/llama3-8b-8192\""
   ]
  },
  {
   "cell_type": "code",
   "execution_count": 15,
   "metadata": {},
   "outputs": [],
   "source": [
    "PREFIX = \"\"\"You are a helpful scientific assistant. Your task is to extract information about perovskite passivating molecules. Return format as JSON with variables: control_PCE, treatment_PCE, passivating_molecule. The PCE is the power conversion efficiency  {shot}\"\"\"\n",
    "SUFFIX = \"\"\"\\n\\n{sample}\\n\\n\"\"\""
   ]
  },
  {
   "cell_type": "code",
   "execution_count": 16,
   "metadata": {},
   "outputs": [
    {
     "name": "stdout",
     "output_type": "stream",
     "text": [
      "29.txt\n",
      "Here is the extracted information in JSON format:\n",
      "\n",
      "```\n",
      "{\n",
      "  \"control_PCE\": null,\n",
      "  \"treatment_PCE\": null,\n",
      "  \"passivating_molecule\": \"butylamine\"\n",
      "}\n",
      "```\n",
      "\n",
      "Note that the paper does not provide specific information on the power conversion efficiency (PCE) of the perovskite solar cells, so the control and treatment PCE values are left as null. However, the paper does discuss the use of butylamine as a passivating molecule in the perovskite solar cells.\n",
      "29.txt\n"
     ]
    }
   ],
   "source": [
    "txt_dir = \"../../data/txts\"\n",
    "shots = [\"0-shot\", \"1-shot\"]\n",
    "for s in shots:\n",
    "    for filename in os.listdir(txt_dir):\n",
    "        with open(os.path.join(txt_dir, filename), \"r\") as file:\n",
    "            print(filename)\n",
    "            text = file.read()\n",
    "            if s == \"0-shot\":\n",
    "                shot = \"\"\n",
    "            else:\n",
    "                break #TODO - implement 1-shot\n",
    "            system = PREFIX.format(shot=shot)\n",
    "            user = SUFFIX.format(sample=text)\n",
    "            prompt = [\n",
    "            {\"role\": \"system\", \"content\": system},\n",
    "            {\"role\": \"user\", \"content\": user},\n",
    "            ]\n",
    "            # Do the completion using Groq API through LiteLLM\n",
    "            pred = (\n",
    "                completion(\n",
    "                    model=base_model,\n",
    "                    api_key=os.getenv(\"GROQ_API_KEY\"),\n",
    "                    messages=prompt,\n",
    "                    caching=True,\n",
    "                    temperature=0,\n",
    "                )\n",
    "                .choices[0]\n",
    "                .message.content\n",
    "            )\n",
    "            print(pred)\n",
    "            break"
   ]
  },
  {
   "cell_type": "code",
   "execution_count": null,
   "metadata": {},
   "outputs": [],
   "source": []
  }
 ],
 "metadata": {
  "kernelspec": {
   "display_name": "Python 3",
   "language": "python",
   "name": "python3"
  },
  "language_info": {
   "codemirror_mode": {
    "name": "ipython",
    "version": 3
   },
   "file_extension": ".py",
   "mimetype": "text/x-python",
   "name": "python",
   "nbconvert_exporter": "python",
   "pygments_lexer": "ipython3",
   "version": "3.13.0"
  }
 },
 "nbformat": 4,
 "nbformat_minor": 2
}
