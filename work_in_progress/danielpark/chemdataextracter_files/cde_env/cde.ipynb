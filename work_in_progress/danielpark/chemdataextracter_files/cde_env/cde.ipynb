{
 "cells": [
  {
   "cell_type": "code",
   "execution_count": 1,
   "id": "9c4b6f90-0f8e-4b0e-840f-6c261ee79593",
   "metadata": {},
   "outputs": [
    {
     "name": "stdout",
     "output_type": "stream",
     "text": [
      "CDE is working in the conda environment!\n"
     ]
    }
   ],
   "source": [
    "import chemdataextractor\n",
    "print(\"CDE is working in the conda environment!\")"
   ]
  },
  {
   "cell_type": "code",
   "execution_count": 2,
   "id": "f1bd3320-6e5b-40de-9822-5933676b22b1",
   "metadata": {},
   "outputs": [
    {
     "name": "stdout",
     "output_type": "stream",
     "text": [
      "Requirement already satisfied: pymupdf in /Users/dpark_23/anaconda3/envs/cde_env/lib/python3.9/site-packages (1.24.13)\n",
      "Note: you may need to restart the kernel to use updated packages.\n"
     ]
    }
   ],
   "source": [
    "pip install pymupdf"
   ]
  },
  {
   "cell_type": "code",
   "execution_count": 3,
   "id": "37c9a95d-3b0a-4230-b499-ec84f5bd7de9",
   "metadata": {},
   "outputs": [],
   "source": [
    "from chemdataextractor import model"
   ]
  },
  {
   "cell_type": "code",
   "execution_count": 4,
   "id": "835d31ab-fb8f-42b5-85eb-8f66d7b16660",
   "metadata": {},
   "outputs": [],
   "source": [
    "from chemdataextractor import Document"
   ]
  },
  {
   "cell_type": "code",
   "execution_count": 9,
   "id": "beec09da-7dff-459c-b965-eb7e1d97a82d",
   "metadata": {},
   "outputs": [],
   "source": [
    "import fitz  # PyMuPDF\n",
    "\n",
    "# reading file as pdf\n",
    "\n",
    "pdf_path = \"1.pdf\"\n",
    "\n",
    "doc = fitz.open(pdf_path)\n",
    "\n",
    "pdf_text = \"\"\n",
    "for page_num in range(len(doc)):\n",
    "    page = doc.load_page(page_num)\n",
    "    pdf_text += page.get_text()\n",
    "\n",
    "doc_pdf = Document(pdf_text)"
   ]
  },
  {
   "cell_type": "code",
   "execution_count": 8,
   "id": "0ca2b4c0-f3f2-477e-880f-840725ddef7b",
   "metadata": {},
   "outputs": [],
   "source": [
    "# reading file as xml\n",
    "\n",
    "with open('40.xml', 'r') as file:\n",
    "    xml_text = file.read()\n",
    "\n",
    "doc_xml = Document(xml_text)\n",
    "\n",
    "# f = open('0.xml', 'rb')\n",
    "# doc = Document.from_file(f)"
   ]
  },
  {
   "cell_type": "code",
   "execution_count": 11,
   "id": "b717e202-5053-400d-acd4-7fc58d9359d0",
   "metadata": {},
   "outputs": [
    {
     "data": {
      "text/plain": [
       "[Sentence('One of the persistent obstacles for PSCs has been successfully passing the damp-heat test (85°C and 85% relative humidity), which is the standard for verifying the stability of commercial photovoltaic (PV) modules.', 15375, 15589),\n",
       " Sentence('We fabricated damp heat-stable PSCs by tailoring the dimensional fragments of two-dimensional perovskite layers formed at room temperature with oleylammonium iodide molecules; these layers passivate the perovskite surface at the electron-selective contact.', 15590, 15846),\n",
       " Sentence('The resulting inverted PSCs deliver a 24.3% PCE and retain &gt;95% of their initial value after &gt;1000 hours at damp-heat test conditions, thereby meeting one of the critical industrial stability standards for PV modules.</p></div>\\n<div xmlns=\"http://www.tei-c.org/ns/1.0\"><head>C</head><p>ommercialization of any photovoltaic (PV) technology requires a guaranteed product lifetime of at least 25 to 30 years, as is common for conventional crystalline silicon (c-Si) PV modules.', 15847, 16327),\n",
       " Sentence('Lifetime predictions of PV technologies are usually accomplished through standardized accelerated degradation tests.', 16328, 16444)]"
      ]
     },
     "execution_count": 11,
     "metadata": {},
     "output_type": "execute_result"
    }
   ],
   "source": [
    "doc_xml.elements[0][1:5]"
   ]
  },
  {
   "cell_type": "code",
   "execution_count": 12,
   "id": "a5456794-4879-4fd6-aae5-8ad8d460ad56",
   "metadata": {},
   "outputs": [],
   "source": [
    "#extracts all chemical entities\n",
    "\n",
    "extracted = doc_xml.records.serialize()"
   ]
  },
  {
   "cell_type": "code",
   "execution_count": 1,
   "id": "ff4ab465-a489-4bb8-aaad-44c28f0c8242",
   "metadata": {},
   "outputs": [],
   "source": [
    "#doc_xml.cems"
   ]
  },
  {
   "cell_type": "code",
   "execution_count": 2,
   "id": "597d6ccb-f1a9-410a-9474-f521f9d7a7a8",
   "metadata": {},
   "outputs": [],
   "source": [
    "#doc_pdf.records.serialize()"
   ]
  },
  {
   "cell_type": "code",
   "execution_count": 13,
   "id": "fef85901-7812-468d-8878-602fb8bd7f54",
   "metadata": {},
   "outputs": [
    {
     "data": {
      "text/plain": [
       "[{'names': ['orgName']},\n",
       " {'names': ['be-tween E F']},\n",
       " {'names': ['perovskite / 2D perovskite']},\n",
       " {'names': ['GaAs']},\n",
       " {'names': ['iodide']},\n",
       " {'names': ['polyurethane', 'TPU']},\n",
       " {'names': ['HelioSeal']},\n",
       " {'names': ['acetone']},\n",
       " {'names': ['ozone']},\n",
       " {'names': ['O2']},\n",
       " {'names': ['H2O']},\n",
       " {'names': ['one time']},\n",
       " {'names': ['PTAA']},\n",
       " {'names': ['chlorobenzene']},\n",
       " {'names': ['potassium iodide']},\n",
       " {'names': ['MgF2']},\n",
       " {'names': ['AgBe']},\n",
       " {'names': ['Ga']},\n",
       " {'names': ['carbon']},\n",
       " {'names': ['platinum']},\n",
       " {'names': ['Cu']},\n",
       " {'names': ['Ar+']},\n",
       " {'names': ['KG-5']},\n",
       " {'names': ['mono-silicon']},\n",
       " {'names': ['Xenon']},\n",
       " {'names': ['Germanium']},\n",
       " {'names': ['Brillouin zone']},\n",
       " {'names': ['tin(IV) oxide']},\n",
       " {'names': ['indium zinc oxide']},\n",
       " {'names': ['nickel ( II ) oxide']},\n",
       " {'names': ['NiO']},\n",
       " {'names': ['potassium chloride']},\n",
       " {'names': ['N T']},\n",
       " {'names': ['Pb']},\n",
       " {'names': ['( A-C )']},\n",
       " {'names': ['listOrg']},\n",
       " {'names': ['Na']},\n",
       " {'names': ['Nazeeruddin']},\n",
       " {'names': ['halide perovskite']},\n",
       " {'names': ['piperidinium']},\n",
       " {'names': ['Pseudo-halide']},\n",
       " {'names': ['α-FAPbI3 perovskite']},\n",
       " {'names': ['Zakeeruddin']},\n",
       " {'names': ['poly(3-hexylthiophene)']},\n",
       " {'names': ['fullerene']},\n",
       " {'names': ['CH3NH3PbI3']},\n",
       " {'names': ['Abate']},\n",
       " {'names': ['methylammonium']},\n",
       " {'names': ['- blue perovskite']},\n",
       " {'names': ['formamidinium lead iodide perovskite']},\n",
       " {'names': ['Koh']},\n",
       " {'names': ['butyl rubber', 'Butyl rubber']},\n",
       " {'names': ['oxygen']},\n",
       " {'names': ['2D-perovskite']},\n",
       " {'names': ['2PACz']},\n",
       " {'names': ['dimethyl propylene urea', 'DMPU']},\n",
       " {'names': ['[2-(9H-carbazol-9-yl)ethyl]phosphonic acid',\n",
       "   '[2-(9H-Carbazol-9-yl)ethyl]phosphonic acid']},\n",
       " {'names': ['ethanol']},\n",
       " {'names': ['Anisole']},\n",
       " {'names': ['chloroform']},\n",
       " {'names': ['MAPbI3']},\n",
       " {'names': ['MAI', 'methylammonium iodide']},\n",
       " {'names': ['IPA', 'isopropyl alcohol']},\n",
       " {'names': ['copper']},\n",
       " {'names': ['LE-IPES']},\n",
       " {'names': ['Ag']},\n",
       " {'names': ['( D-F )']},\n",
       " {'names': ['Ho']},\n",
       " {'names': ['halide']},\n",
       " {'names': ['Almora']},\n",
       " {'names': ['dimethylsulfoxide', 'DMSO']},\n",
       " {'names': ['Formamidium iodide', 'FAI']},\n",
       " {'names': ['cesium iodide', 'CsI']},\n",
       " {'names': ['BCP', 'bathocuproine']},\n",
       " {'names': ['ITO', 'indium tin oxide']},\n",
       " {'names': ['DMF', 'dimethylformamide']},\n",
       " {'names': ['MACl', 'methyl-ammonium chloride']},\n",
       " {'names': ['Al']},\n",
       " {'names': ['N2']},\n",
       " {'names': ['C60']},\n",
       " {'names': ['silicon', 'Silicon']},\n",
       " {'names': ['Li']},\n",
       " {'names': ['oleylammonium iodide', 'OLAI', 'Olaylammonium iodide']},\n",
       " {'names': ['PbI2']},\n",
       " {'names': ['perovskites']},\n",
       " {'names': ['H']},\n",
       " {'names': ['persName']},\n",
       " {'names': ['perovskite', 'Perovskite']}]"
      ]
     },
     "execution_count": 13,
     "metadata": {},
     "output_type": "execute_result"
    }
   ],
   "source": [
    "#extracted output of ALL chemical entities in xml file.\n",
    "\n",
    "extracted"
   ]
  },
  {
   "cell_type": "code",
   "execution_count": 14,
   "id": "5698f814-5ae6-4892-90b7-407429aea06e",
   "metadata": {},
   "outputs": [
    {
     "name": "stdout",
     "output_type": "stream",
     "text": [
      "Filtered Passivators:\n",
      "{'names': ['iodide']}\n",
      "{'names': ['methylammonium']}\n",
      "{'names': ['MAI', 'methylammonium iodide']}\n",
      "{'names': ['Formamidium iodide', 'FAI']}\n",
      "{'names': ['cesium iodide', 'CsI']}\n",
      "{'names': ['MACl', 'methyl-ammonium chloride']}\n",
      "{'names': ['oleylammonium iodide', 'OLAI', 'Olaylammonium iodide']}\n"
     ]
    }
   ],
   "source": [
    "known_passivators = {'PEAI', 'BAI', 'FAI', 'MACl', 'methylammonium', 'ammonium iodide', 'benzenephosphonates'}\n",
    "passivator_keywords = ['ammonium', 'amine', 'iodide', 'sulfonate', 'phosphonate', 'guanidinium']\n",
    "exclusion_keywords = ['lead', 'tin', 'oxide', 'silver', 'copper', 'nickel' ,'sodium', 'potassium', 'chloride', 'oxide', 'sulfur', 'hydrogen', 'metal']\n",
    "\n",
    "# filter entities based on known passivators, keywords, and exclusion keywords\n",
    "def filter_passivators(entities, known_passivators, keywords, exclusion_keywords):\n",
    "    potential_passivators = []\n",
    "    for entity in entities:\n",
    "        entity_names = entity['names']\n",
    "        for name in entity_names:\n",
    "            lower_name = name.lower()\n",
    "            if any(known in name for known in known_passivators) or \\\n",
    "               (any(keyword in lower_name for keyword in keywords) and not any(excl in lower_name for excl in exclusion_keywords)):\n",
    "                potential_passivators.append(entity)\n",
    "                break\n",
    "\n",
    "    return potential_passivators\n",
    "\n",
    "# apply filter\n",
    "filtered_passivators = filter_passivators(extracted, known_passivators, passivator_keywords, exclusion_keywords)\n",
    "\n",
    "# output\n",
    "print(\"Filtered Passivators:\")\n",
    "for passivator in filtered_passivators:\n",
    "    print(passivator)"
   ]
  },
  {
   "cell_type": "code",
   "execution_count": null,
   "id": "45955dc8-6697-4e90-9435-23fed398bf8d",
   "metadata": {},
   "outputs": [],
   "source": []
  }
 ],
 "metadata": {
  "kernelspec": {
   "display_name": "Python (cde_env)",
   "language": "python",
   "name": "cde_env"
  },
  "language_info": {
   "codemirror_mode": {
    "name": "ipython",
    "version": 3
   },
   "file_extension": ".py",
   "mimetype": "text/x-python",
   "name": "python",
   "nbconvert_exporter": "python",
   "pygments_lexer": "ipython3",
   "version": "3.9.20"
  }
 },
 "nbformat": 4,
 "nbformat_minor": 5
}
