{
 "cells": [
  {
   "cell_type": "code",
   "execution_count": 2,
   "id": "0d4458b6",
   "metadata": {},
   "outputs": [
    {
     "name": "stdout",
     "output_type": "stream",
     "text": [
      "Collecting PyMuPDF\n",
      "  Downloading PyMuPDF-1.24.13-cp39-abi3-macosx_10_9_x86_64.whl.metadata (3.4 kB)\n",
      "Requirement already satisfied: transformers in /Users/dpark_23/anaconda3/lib/python3.11/site-packages (4.32.1)\n",
      "Requirement already satisfied: filelock in /Users/dpark_23/anaconda3/lib/python3.11/site-packages (from transformers) (3.9.0)\n",
      "Requirement already satisfied: huggingface-hub<1.0,>=0.15.1 in /Users/dpark_23/anaconda3/lib/python3.11/site-packages (from transformers) (0.15.1)\n",
      "Requirement already satisfied: numpy>=1.17 in /Users/dpark_23/anaconda3/lib/python3.11/site-packages (from transformers) (1.26.4)\n",
      "Requirement already satisfied: packaging>=20.0 in /Users/dpark_23/anaconda3/lib/python3.11/site-packages (from transformers) (23.1)\n",
      "Requirement already satisfied: pyyaml>=5.1 in /Users/dpark_23/anaconda3/lib/python3.11/site-packages (from transformers) (6.0)\n",
      "Requirement already satisfied: regex!=2019.12.17 in /Users/dpark_23/anaconda3/lib/python3.11/site-packages (from transformers) (2022.7.9)\n",
      "Requirement already satisfied: requests in /Users/dpark_23/anaconda3/lib/python3.11/site-packages (from transformers) (2.27.1)\n",
      "Requirement already satisfied: tokenizers!=0.11.3,<0.14,>=0.11.1 in /Users/dpark_23/anaconda3/lib/python3.11/site-packages (from transformers) (0.13.2)\n",
      "Requirement already satisfied: safetensors>=0.3.1 in /Users/dpark_23/anaconda3/lib/python3.11/site-packages (from transformers) (0.3.2)\n",
      "Requirement already satisfied: tqdm>=4.27 in /Users/dpark_23/anaconda3/lib/python3.11/site-packages (from transformers) (4.65.0)\n",
      "Requirement already satisfied: fsspec in /Users/dpark_23/anaconda3/lib/python3.11/site-packages (from huggingface-hub<1.0,>=0.15.1->transformers) (2023.4.0)\n",
      "Requirement already satisfied: typing-extensions>=3.7.4.3 in /Users/dpark_23/anaconda3/lib/python3.11/site-packages (from huggingface-hub<1.0,>=0.15.1->transformers) (4.12.2)\n",
      "Requirement already satisfied: urllib3<1.27,>=1.21.1 in /Users/dpark_23/anaconda3/lib/python3.11/site-packages (from requests->transformers) (1.26.16)\n",
      "Requirement already satisfied: certifi>=2017.4.17 in /Users/dpark_23/anaconda3/lib/python3.11/site-packages (from requests->transformers) (2024.8.30)\n",
      "Requirement already satisfied: charset-normalizer~=2.0.0 in /Users/dpark_23/anaconda3/lib/python3.11/site-packages (from requests->transformers) (2.0.4)\n",
      "Requirement already satisfied: idna<4,>=2.5 in /Users/dpark_23/anaconda3/lib/python3.11/site-packages (from requests->transformers) (3.4)\n",
      "Downloading PyMuPDF-1.24.13-cp39-abi3-macosx_10_9_x86_64.whl (19.1 MB)\n",
      "\u001b[2K   \u001b[38;2;114;156;31m━━━━━━━━━━━━━━━━━━━━━━━━━━━━━━━━━━━━━━━━\u001b[0m \u001b[32m19.1/19.1 MB\u001b[0m \u001b[31m15.2 MB/s\u001b[0m eta \u001b[36m0:00:00\u001b[0m[36m0:00:01\u001b[0mm eta \u001b[36m0:00:01\u001b[0m\n",
      "\u001b[?25hInstalling collected packages: PyMuPDF\n",
      "Successfully installed PyMuPDF-1.24.13\n",
      "Note: you may need to restart the kernel to use updated packages.\n"
     ]
    }
   ],
   "source": [
    "pip install PyMuPDF transformers"
   ]
  },
  {
   "cell_type": "code",
   "execution_count": 9,
   "id": "71b3ce67",
   "metadata": {},
   "outputs": [
    {
     "name": "stderr",
     "output_type": "stream",
     "text": [
      "Some weights of BertForTokenClassification were not initialized from the model checkpoint at allenai/scibert_scivocab_cased and are newly initialized: ['classifier.weight', 'classifier.bias']\n",
      "You should probably TRAIN this model on a down-stream task to be able to use it for predictions and inference.\n",
      "Asking to truncate to max_length but no maximum length is provided and the model has no predefined maximum length. Default to no truncation.\n"
     ]
    },
    {
     "name": "stdout",
     "output_type": "stream",
     "text": [
      "Metrics found using regex:\n",
      "Temperatures: [('300', '', 'K')]\n",
      "Humidity: []\n",
      "\n",
      "Entities found using SciBERT NER:\n",
      "{'entity': 'LABEL_1', 'score': 0.52237356, 'index': 1, 'word': 'the', 'start': 0, 'end': 3}\n",
      "{'entity': 'LABEL_1', 'score': 0.62976, 'index': 2, 'word': 'temperature', 'start': 4, 'end': 15}\n",
      "{'entity': 'LABEL_0', 'score': 0.68423647, 'index': 3, 'word': 'is', 'start': 16, 'end': 18}\n",
      "{'entity': 'LABEL_0', 'score': 0.6519135, 'index': 4, 'word': '300', 'start': 19, 'end': 22}\n",
      "{'entity': 'LABEL_0', 'score': 0.5362204, 'index': 5, 'word': '##k', 'start': 22, 'end': 23}\n",
      "{'entity': 'LABEL_0', 'score': 0.52668387, 'index': 6, 'word': 'and', 'start': 24, 'end': 27}\n",
      "{'entity': 'LABEL_0', 'score': 0.515152, 'index': 7, 'word': 'the', 'start': 28, 'end': 31}\n",
      "{'entity': 'LABEL_0', 'score': 0.53388184, 'index': 8, 'word': 'humidity', 'start': 32, 'end': 40}\n",
      "{'entity': 'LABEL_0', 'score': 0.70196676, 'index': 9, 'word': 'is', 'start': 41, 'end': 43}\n",
      "{'entity': 'LABEL_0', 'score': 0.72681534, 'index': 10, 'word': '45', 'start': 44, 'end': 46}\n",
      "{'entity': 'LABEL_0', 'score': 0.5947314, 'index': 11, 'word': '%', 'start': 46, 'end': 47}\n",
      "{'entity': 'LABEL_1', 'score': 0.5646191, 'index': 12, 'word': '.', 'start': 47, 'end': 48}\n",
      "{'entity': 'LABEL_1', 'score': 0.62028027, 'index': 13, 'word': 'the', 'start': 49, 'end': 52}\n",
      "{'entity': 'LABEL_1', 'score': 0.7098178, 'index': 14, 'word': 'material', 'start': 53, 'end': 61}\n",
      "{'entity': 'LABEL_1', 'score': 0.6908754, 'index': 15, 'word': 'used', 'start': 62, 'end': 66}\n",
      "{'entity': 'LABEL_0', 'score': 0.54926056, 'index': 16, 'word': 'is', 'start': 67, 'end': 69}\n",
      "{'entity': 'LABEL_0', 'score': 0.55523956, 'index': 17, 'word': 'per', 'start': 70, 'end': 73}\n",
      "{'entity': 'LABEL_1', 'score': 0.53617907, 'index': 18, 'word': '##ovsk', 'start': 73, 'end': 77}\n",
      "{'entity': 'LABEL_1', 'score': 0.64712733, 'index': 19, 'word': '##ite', 'start': 77, 'end': 80}\n",
      "{'entity': 'LABEL_0', 'score': 0.5608848, 'index': 20, 'word': '.', 'start': 80, 'end': 81}\n"
     ]
    }
   ],
   "source": [
    "import re\n",
    "from transformers import AutoTokenizer, AutoModelForTokenClassification, pipeline\n",
    "\n",
    "# Load SciBERT model and tokenizer\n",
    "model_name = \"allenai/scibert_scivocab_cased\"\n",
    "tokenizer = AutoTokenizer.from_pretrained(model_name)\n",
    "model = AutoModelForTokenClassification.from_pretrained(model_name)\n",
    "nlp_ner = pipeline(\"ner\", model=model, tokenizer=tokenizer)\n",
    "\n",
    "# Example text\n",
    "text = \"The temperature is 300K and the humidity is 45%. The material used is perovskite.\"\n",
    "\n",
    "# Regex for temperature, humidity, etc.\n",
    "temperature_pattern = r\"\\b(\\d+(\\.\\d+)?)\\s?(°C|K|F)\\b\"  # Matches numbers followed by °C, K, or F\n",
    "humidity_pattern = r\"\\b(\\d+(\\.\\d+)?)\\s?%\\b\"  # Matches numbers followed by %\n",
    "\n",
    "# Extract metrics using regex\n",
    "temperatures = re.findall(temperature_pattern, text)\n",
    "humidity = re.findall(humidity_pattern, text)\n",
    "\n",
    "# Extract entities using SciBERT (NER)\n",
    "ner_results = nlp_ner(text)\n",
    "\n",
    "# Print results\n",
    "print(\"Metrics found using regex:\")\n",
    "print(\"Temperatures:\", temperatures)\n",
    "print(\"Humidity:\", humidity)\n",
    "\n",
    "print(\"\\nEntities found using SciBERT NER:\")\n",
    "for entity in ner_results:\n",
    "    print(entity)"
   ]
  },
  {
   "cell_type": "code",
   "execution_count": null,
   "id": "b11d7dd1",
   "metadata": {},
   "outputs": [],
   "source": []
  }
 ],
 "metadata": {
  "kernelspec": {
   "display_name": "Python 3 (ipykernel)",
   "language": "python",
   "name": "python3"
  },
  "language_info": {
   "codemirror_mode": {
    "name": "ipython",
    "version": 3
   },
   "file_extension": ".py",
   "mimetype": "text/x-python",
   "name": "python",
   "nbconvert_exporter": "python",
   "pygments_lexer": "ipython3",
   "version": "3.11.5"
  }
 },
 "nbformat": 4,
 "nbformat_minor": 5
}
